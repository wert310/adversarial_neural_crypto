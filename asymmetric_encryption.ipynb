{
 "cells": [
  {
   "cell_type": "code",
   "execution_count": 14,
   "metadata": {
    "autoscroll": false,
    "collapsed": false,
    "ein.hycell": false,
    "ein.tags": "worksheet-0",
    "slideshow": {
     "slide_type": "-"
    }
   },
   "outputs": [],
   "source": [
    "import time\n",
    "\n",
    "import torch\n",
    "import torch.nn as nn\n",
    "import torch.nn.functional as F\n",
    "import torch.optim as optim\n",
    "\n",
    "import matplotlib.pyplot as plt\n",
    "import numpy as np"
   ]
  },
  {
   "cell_type": "code",
   "execution_count": 3,
   "metadata": {
    "autoscroll": false,
    "collapsed": false,
    "ein.hycell": false,
    "ein.tags": "worksheet-0",
    "slideshow": {
     "slide_type": "-"
    }
   },
   "outputs": [],
   "source": [
    "class ABENet(nn.Module):\n",
    "    def __init__(self, N, nkeys=1):\n",
    "        super(ABENet, self).__init__()\n",
    "        self.N = N\n",
    "        \n",
    "        self.fc    = nn.Linear(in_features=(nkeys+1)*N, out_features=2*N)\n",
    "        self.conv1 = nn.Conv1d(kernel_size=4, in_channels=1, out_channels=2, stride=1, padding=2)\n",
    "        self.conv2 = nn.Conv1d(kernel_size=2, in_channels=2, out_channels=4, stride=2)\n",
    "        self.conv3 = nn.Conv1d(kernel_size=1, in_channels=4, out_channels=4, stride=1)\n",
    "        self.conv4 = nn.Conv1d(kernel_size=1, in_channels=4, out_channels=1, stride=1)\n",
    "\n",
    "    def forward(self, x):\n",
    "        x = torch.sigmoid( self.fc(x) )\n",
    "        x = x.view(-1, 1, 2*self.N)\n",
    "        x = torch.sigmoid( self.conv1(x) )\n",
    "        x = torch.sigmoid( self.conv2(x) )\n",
    "        x = torch.sigmoid( self.conv3(x) )\n",
    "        x = torch.tanh(    self.conv4(x) )\n",
    "        x = x.view(-1, self.N)\n",
    "        return x"
   ]
  },
  {
   "cell_type": "code",
   "execution_count": 4,
   "metadata": {
    "autoscroll": false,
    "collapsed": false,
    "ein.hycell": false,
    "ein.tags": "worksheet-0",
    "slideshow": {
     "slide_type": "-"
    }
   },
   "outputs": [
    {
     "data": {
      "text/plain": [
       "device(type='cuda', index=0)"
      ]
     },
     "execution_count": 4,
     "metadata": {},
     "output_type": "execute_result"
    }
   ],
   "source": [
    "DEVICE = torch.device(\"cuda:0\" if torch.cuda.is_available() else \"cpu\")\n",
    "DEVICE"
   ]
  },
  {
   "cell_type": "markdown",
   "metadata": {
    "ein.tags": "worksheet-0",
    "slideshow": {
     "slide_type": "-"
    }
   },
   "source": [
    "![asymmetric_encryption](img/asymmetric_enc.png)"
   ]
  },
  {
   "cell_type": "code",
   "execution_count": 15,
   "metadata": {
    "autoscroll": false,
    "collapsed": false,
    "ein.hycell": false,
    "ein.tags": "worksheet-0",
    "slideshow": {
     "slide_type": "-"
    }
   },
   "outputs": [
    {
     "name": "stdout",
     "output_type": "stream",
     "text": [
      "[  1000] AB_loss: 1.0002 E_loss: 1.0001 Elapsed Time: 00:00:46\n"
     ]
    },
    {
     "name": "stdout",
     "output_type": "stream",
     "text": [
      "[  2000] AB_loss: 1.0000 E_loss: 1.0000 Elapsed Time: 00:01:32\n"
     ]
    },
    {
     "name": "stdout",
     "output_type": "stream",
     "text": [
      "[  3000] AB_loss: 0.0692 E_loss: 0.8998 Elapsed Time: 00:02:43\n"
     ]
    },
    {
     "name": "stdout",
     "output_type": "stream",
     "text": [
      "[  4000] AB_loss: 0.0634 E_loss: 0.8291 Elapsed Time: 00:03:57\n"
     ]
    },
    {
     "name": "stdout",
     "output_type": "stream",
     "text": [
      "[  5000] AB_loss: 0.0793 E_loss: 0.7883 Elapsed Time: 00:05:11\n"
     ]
    },
    {
     "name": "stdout",
     "output_type": "stream",
     "text": [
      "[  6000] AB_loss: 0.1329 E_loss: 0.6950 Elapsed Time: 00:06:26\n"
     ]
    },
    {
     "name": "stdout",
     "output_type": "stream",
     "text": [
      "[  7000] AB_loss: 0.1923 E_loss: 0.6593 Elapsed Time: 00:07:40\n"
     ]
    },
    {
     "name": "stdout",
     "output_type": "stream",
     "text": [
      "[  8000] AB_loss: 0.1704 E_loss: 0.6858 Elapsed Time: 00:08:55\n"
     ]
    },
    {
     "name": "stdout",
     "output_type": "stream",
     "text": [
      "[  9000] AB_loss: 0.1388 E_loss: 0.6691 Elapsed Time: 00:10:09\n"
     ]
    },
    {
     "name": "stdout",
     "output_type": "stream",
     "text": [
      "[ 10000] AB_loss: 0.2314 E_loss: 0.5667 Elapsed Time: 00:11:24\n"
     ]
    },
    {
     "name": "stdout",
     "output_type": "stream",
     "text": [
      "[ 11000] AB_loss: 0.3037 E_loss: 0.5171 Elapsed Time: 00:12:38\n"
     ]
    },
    {
     "name": "stdout",
     "output_type": "stream",
     "text": [
      "[ 12000] AB_loss: 0.2132 E_loss: 0.5936 Elapsed Time: 00:13:53\n"
     ]
    },
    {
     "name": "stdout",
     "output_type": "stream",
     "text": [
      "[ 13000] AB_loss: 0.2094 E_loss: 0.5909 Elapsed Time: 00:15:07\n"
     ]
    },
    {
     "name": "stdout",
     "output_type": "stream",
     "text": [
      "[ 14000] AB_loss: 0.3030 E_loss: 0.5536 Elapsed Time: 00:16:22\n"
     ]
    },
    {
     "name": "stdout",
     "output_type": "stream",
     "text": [
      "[ 15000] AB_loss: 0.2676 E_loss: 0.5952 Elapsed Time: 00:17:36\n"
     ]
    },
    {
     "name": "stdout",
     "output_type": "stream",
     "text": [
      "[ 16000] AB_loss: 0.2932 E_loss: 0.5499 Elapsed Time: 00:18:51\n"
     ]
    },
    {
     "name": "stdout",
     "output_type": "stream",
     "text": [
      "[ 17000] AB_loss: 0.2203 E_loss: 0.6220 Elapsed Time: 00:20:05\n"
     ]
    },
    {
     "name": "stdout",
     "output_type": "stream",
     "text": [
      "[ 18000] AB_loss: 0.2521 E_loss: 0.5949 Elapsed Time: 00:21:20\n"
     ]
    },
    {
     "name": "stdout",
     "output_type": "stream",
     "text": [
      "[ 19000] AB_loss: 0.3021 E_loss: 0.5403 Elapsed Time: 00:22:34\n"
     ]
    },
    {
     "name": "stdout",
     "output_type": "stream",
     "text": [
      "[ 20000] AB_loss: 0.2932 E_loss: 0.5203 Elapsed Time: 00:23:48\n"
     ]
    },
    {
     "name": "stdout",
     "output_type": "stream",
     "text": [
      "[ 21000] AB_loss: 0.2995 E_loss: 0.5373 Elapsed Time: 00:25:03\n"
     ]
    },
    {
     "name": "stdout",
     "output_type": "stream",
     "text": [
      "[ 22000] AB_loss: 0.2684 E_loss: 0.6106 Elapsed Time: 00:26:17\n"
     ]
    },
    {
     "name": "stdout",
     "output_type": "stream",
     "text": [
      "[ 23000] AB_loss: 0.3023 E_loss: 0.6157 Elapsed Time: 00:27:32\n"
     ]
    },
    {
     "name": "stdout",
     "output_type": "stream",
     "text": [
      "[ 24000] AB_loss: 0.3666 E_loss: 0.5383 Elapsed Time: 00:28:46\n"
     ]
    },
    {
     "name": "stdout",
     "output_type": "stream",
     "text": [
      "[ 25000] AB_loss: 0.2996 E_loss: 0.6103 Elapsed Time: 00:30:01\n"
     ]
    },
    {
     "name": "stdout",
     "output_type": "stream",
     "text": [
      "[ 26000] AB_loss: 0.3379 E_loss: 0.5946 Elapsed Time: 00:31:15\n"
     ]
    },
    {
     "name": "stdout",
     "output_type": "stream",
     "text": [
      "[ 27000] AB_loss: 0.3910 E_loss: 0.5577 Elapsed Time: 00:32:30\n"
     ]
    },
    {
     "name": "stdout",
     "output_type": "stream",
     "text": [
      "[ 28000] AB_loss: 0.3897 E_loss: 0.5636 Elapsed Time: 00:33:44\n"
     ]
    },
    {
     "name": "stdout",
     "output_type": "stream",
     "text": [
      "[ 29000] AB_loss: 0.3775 E_loss: 0.5518 Elapsed Time: 00:34:59\n"
     ]
    },
    {
     "name": "stdout",
     "output_type": "stream",
     "text": [
      "[ 30000] AB_loss: 0.4579 E_loss: 0.5429 Elapsed Time: 00:36:14\n"
     ]
    },
    {
     "name": "stdout",
     "output_type": "stream",
     "text": [
      "[ 31000] AB_loss: 0.4574 E_loss: 0.5098 Elapsed Time: 00:37:28\n"
     ]
    },
    {
     "name": "stdout",
     "output_type": "stream",
     "text": [
      "[ 32000] AB_loss: 0.4863 E_loss: 0.4777 Elapsed Time: 00:38:42\n"
     ]
    },
    {
     "name": "stdout",
     "output_type": "stream",
     "text": [
      "[ 33000] AB_loss: 0.5249 E_loss: 0.4547 Elapsed Time: 00:39:57\n"
     ]
    },
    {
     "name": "stdout",
     "output_type": "stream",
     "text": [
      "[ 34000] AB_loss: 0.4919 E_loss: 0.5485 Elapsed Time: 00:41:11\n"
     ]
    },
    {
     "name": "stdout",
     "output_type": "stream",
     "text": [
      "[ 35000] AB_loss: 0.4997 E_loss: 0.5500 Elapsed Time: 00:42:21\n"
     ]
    },
    {
     "name": "stdout",
     "output_type": "stream",
     "text": [
      "[ 36000] AB_loss: 0.4736 E_loss: 0.5540 Elapsed Time: 00:43:07\n"
     ]
    },
    {
     "name": "stdout",
     "output_type": "stream",
     "text": [
      "[ 37000] AB_loss: 0.4621 E_loss: 0.5690 Elapsed Time: 00:43:53\n"
     ]
    },
    {
     "name": "stdout",
     "output_type": "stream",
     "text": [
      "[ 38000] AB_loss: 0.5278 E_loss: 0.5289 Elapsed Time: 00:44:39\n"
     ]
    },
    {
     "name": "stdout",
     "output_type": "stream",
     "text": [
      "[ 39000] AB_loss: 0.5613 E_loss: 0.5111 Elapsed Time: 00:45:25\n"
     ]
    },
    {
     "name": "stdout",
     "output_type": "stream",
     "text": [
      "[ 40000] AB_loss: 0.5721 E_loss: 0.5061 Elapsed Time: 00:46:11\n"
     ]
    },
    {
     "name": "stdout",
     "output_type": "stream",
     "text": [
      "[ 41000] AB_loss: 0.5493 E_loss: 0.5313 Elapsed Time: 00:46:57\n"
     ]
    },
    {
     "name": "stdout",
     "output_type": "stream",
     "text": [
      "[ 42000] AB_loss: 0.4941 E_loss: 0.5297 Elapsed Time: 00:47:43\n"
     ]
    },
    {
     "name": "stdout",
     "output_type": "stream",
     "text": [
      "[ 43000] AB_loss: 0.5201 E_loss: 0.4922 Elapsed Time: 00:48:29\n"
     ]
    },
    {
     "name": "stdout",
     "output_type": "stream",
     "text": [
      "[ 44000] AB_loss: 0.5175 E_loss: 0.4811 Elapsed Time: 00:49:15\n"
     ]
    },
    {
     "name": "stdout",
     "output_type": "stream",
     "text": [
      "[ 45000] AB_loss: 0.5571 E_loss: 0.4513 Elapsed Time: 00:50:01\n"
     ]
    },
    {
     "name": "stdout",
     "output_type": "stream",
     "text": [
      "[ 46000] AB_loss: 0.5381 E_loss: 0.4659 Elapsed Time: 00:50:48\n"
     ]
    },
    {
     "name": "stdout",
     "output_type": "stream",
     "text": [
      "[ 47000] AB_loss: 0.4965 E_loss: 0.4946 Elapsed Time: 00:51:34\n"
     ]
    },
    {
     "name": "stdout",
     "output_type": "stream",
     "text": [
      "[ 48000] AB_loss: 0.4306 E_loss: 0.5608 Elapsed Time: 00:52:20\n"
     ]
    },
    {
     "name": "stdout",
     "output_type": "stream",
     "text": [
      "[ 49000] AB_loss: 0.3968 E_loss: 0.5621 Elapsed Time: 00:53:06\n"
     ]
    },
    {
     "name": "stdout",
     "output_type": "stream",
     "text": [
      "[ 50000] AB_loss: 0.4068 E_loss: 0.5606 Elapsed Time: 00:53:52\n"
     ]
    },
    {
     "name": "stdout",
     "output_type": "stream",
     "text": [
      "[ 51000] AB_loss: 0.4191 E_loss: 0.5603 Elapsed Time: 00:54:38\n"
     ]
    },
    {
     "name": "stdout",
     "output_type": "stream",
     "text": [
      "[ 52000] AB_loss: 0.3874 E_loss: 0.5748 Elapsed Time: 00:56:04\n"
     ]
    },
    {
     "name": "stdout",
     "output_type": "stream",
     "text": [
      "[ 53000] AB_loss: 0.3023 E_loss: 0.6164 Elapsed Time: 00:57:30\n"
     ]
    },
    {
     "name": "stdout",
     "output_type": "stream",
     "text": [
      "[ 54000] AB_loss: 0.3426 E_loss: 0.5687 Elapsed Time: 00:58:57\n"
     ]
    },
    {
     "name": "stdout",
     "output_type": "stream",
     "text": [
      "[ 55000] AB_loss: 0.3304 E_loss: 0.5940 Elapsed Time: 01:00:23\n"
     ]
    },
    {
     "name": "stdout",
     "output_type": "stream",
     "text": [
      "[ 56000] AB_loss: 0.3688 E_loss: 0.5622 Elapsed Time: 01:01:50\n"
     ]
    },
    {
     "name": "stdout",
     "output_type": "stream",
     "text": [
      "[ 57000] AB_loss: 0.3421 E_loss: 0.5813 Elapsed Time: 01:03:04\n"
     ]
    },
    {
     "name": "stdout",
     "output_type": "stream",
     "text": [
      "[ 58000] AB_loss: 0.3656 E_loss: 0.5584 Elapsed Time: 01:03:50\n"
     ]
    },
    {
     "name": "stdout",
     "output_type": "stream",
     "text": [
      "[ 59000] AB_loss: 0.4145 E_loss: 0.5221 Elapsed Time: 01:04:36\n"
     ]
    },
    {
     "name": "stdout",
     "output_type": "stream",
     "text": [
      "[ 60000] AB_loss: 0.3626 E_loss: 0.5595 Elapsed Time: 01:05:22\n"
     ]
    },
    {
     "name": "stdout",
     "output_type": "stream",
     "text": [
      "[ 61000] AB_loss: 0.3348 E_loss: 0.5714 Elapsed Time: 01:06:08\n"
     ]
    },
    {
     "name": "stdout",
     "output_type": "stream",
     "text": [
      "[ 62000] AB_loss: 0.3757 E_loss: 0.5360 Elapsed Time: 01:06:54\n"
     ]
    },
    {
     "name": "stdout",
     "output_type": "stream",
     "text": [
      "[ 63000] AB_loss: 0.3771 E_loss: 0.5391 Elapsed Time: 01:07:40\n"
     ]
    },
    {
     "name": "stdout",
     "output_type": "stream",
     "text": [
      "[ 64000] AB_loss: 0.3858 E_loss: 0.5436 Elapsed Time: 01:08:26\n"
     ]
    },
    {
     "name": "stdout",
     "output_type": "stream",
     "text": [
      "[ 65000] AB_loss: 0.3792 E_loss: 0.5349 Elapsed Time: 01:09:30\n"
     ]
    },
    {
     "name": "stdout",
     "output_type": "stream",
     "text": [
      "[ 66000] AB_loss: 0.3921 E_loss: 0.5164 Elapsed Time: 01:10:56\n"
     ]
    },
    {
     "name": "stdout",
     "output_type": "stream",
     "text": [
      "[ 67000] AB_loss: 0.3709 E_loss: 0.5447 Elapsed Time: 01:12:22\n"
     ]
    },
    {
     "name": "stdout",
     "output_type": "stream",
     "text": [
      "[ 68000] AB_loss: 0.3196 E_loss: 0.5948 Elapsed Time: 01:13:49\n"
     ]
    },
    {
     "name": "stdout",
     "output_type": "stream",
     "text": [
      "[ 69000] AB_loss: 0.3653 E_loss: 0.5359 Elapsed Time: 01:15:15\n"
     ]
    },
    {
     "name": "stdout",
     "output_type": "stream",
     "text": [
      "[ 70000] AB_loss: 0.3895 E_loss: 0.5033 Elapsed Time: 01:16:34\n"
     ]
    },
    {
     "name": "stdout",
     "output_type": "stream",
     "text": [
      "[ 71000] AB_loss: 0.3439 E_loss: 0.5700 Elapsed Time: 01:17:21\n"
     ]
    },
    {
     "name": "stdout",
     "output_type": "stream",
     "text": [
      "[ 72000] AB_loss: 0.3434 E_loss: 0.5716 Elapsed Time: 01:18:07\n"
     ]
    },
    {
     "name": "stdout",
     "output_type": "stream",
     "text": [
      "[ 73000] AB_loss: 0.3243 E_loss: 0.6105 Elapsed Time: 01:18:53\n"
     ]
    },
    {
     "name": "stdout",
     "output_type": "stream",
     "text": [
      "[ 74000] AB_loss: 0.3359 E_loss: 0.5822 Elapsed Time: 01:19:42\n"
     ]
    },
    {
     "name": "stdout",
     "output_type": "stream",
     "text": [
      "[ 75000] AB_loss: 0.3311 E_loss: 0.5905 Elapsed Time: 01:20:37\n"
     ]
    },
    {
     "name": "stdout",
     "output_type": "stream",
     "text": [
      "[ 76000] AB_loss: 0.3480 E_loss: 0.5679 Elapsed Time: 01:21:32\n"
     ]
    },
    {
     "name": "stdout",
     "output_type": "stream",
     "text": [
      "[ 77000] AB_loss: 0.3268 E_loss: 0.5846 Elapsed Time: 01:22:23\n"
     ]
    },
    {
     "name": "stdout",
     "output_type": "stream",
     "text": [
      "[ 78000] AB_loss: 0.3109 E_loss: 0.5935 Elapsed Time: 01:23:28\n"
     ]
    },
    {
     "name": "stdout",
     "output_type": "stream",
     "text": [
      "[ 79000] AB_loss: 0.3081 E_loss: 0.6034 Elapsed Time: 01:24:51\n"
     ]
    },
    {
     "name": "stdout",
     "output_type": "stream",
     "text": [
      "[ 80000] AB_loss: 0.3109 E_loss: 0.6199 Elapsed Time: 01:26:02\n"
     ]
    },
    {
     "name": "stdout",
     "output_type": "stream",
     "text": [
      "[ 81000] AB_loss: 0.3129 E_loss: 0.5926 Elapsed Time: 01:27:16\n"
     ]
    },
    {
     "name": "stdout",
     "output_type": "stream",
     "text": [
      "[ 82000] AB_loss: 0.3260 E_loss: 0.5755 Elapsed Time: 01:28:38\n"
     ]
    },
    {
     "name": "stdout",
     "output_type": "stream",
     "text": [
      "[ 83000] AB_loss: 0.3040 E_loss: 0.5910 Elapsed Time: 01:30:01\n"
     ]
    },
    {
     "name": "stdout",
     "output_type": "stream",
     "text": [
      "[ 84000] AB_loss: 0.3224 E_loss: 0.5961 Elapsed Time: 01:31:24\n"
     ]
    },
    {
     "name": "stdout",
     "output_type": "stream",
     "text": [
      "[ 85000] AB_loss: 0.3087 E_loss: 0.5924 Elapsed Time: 01:32:47\n"
     ]
    },
    {
     "name": "stdout",
     "output_type": "stream",
     "text": [
      "[ 86000] AB_loss: 0.3841 E_loss: 0.5218 Elapsed Time: 01:34:10\n"
     ]
    },
    {
     "name": "stdout",
     "output_type": "stream",
     "text": [
      "[ 87000] AB_loss: 0.3495 E_loss: 0.5693 Elapsed Time: 01:35:33\n"
     ]
    },
    {
     "name": "stdout",
     "output_type": "stream",
     "text": [
      "[ 88000] AB_loss: 0.4023 E_loss: 0.5120 Elapsed Time: 01:36:56\n"
     ]
    },
    {
     "name": "stdout",
     "output_type": "stream",
     "text": [
      "[ 89000] AB_loss: 0.3020 E_loss: 0.5845 Elapsed Time: 01:38:19\n"
     ]
    },
    {
     "name": "stdout",
     "output_type": "stream",
     "text": [
      "[ 90000] AB_loss: 0.3549 E_loss: 0.5701 Elapsed Time: 01:39:42\n"
     ]
    },
    {
     "name": "stdout",
     "output_type": "stream",
     "text": [
      "[ 91000] AB_loss: 0.2824 E_loss: 0.5985 Elapsed Time: 01:41:05\n"
     ]
    },
    {
     "name": "stdout",
     "output_type": "stream",
     "text": [
      "[ 92000] AB_loss: 0.2789 E_loss: 0.5746 Elapsed Time: 01:42:28\n"
     ]
    },
    {
     "name": "stdout",
     "output_type": "stream",
     "text": [
      "[ 93000] AB_loss: 0.2906 E_loss: 0.5780 Elapsed Time: 01:43:51\n"
     ]
    },
    {
     "name": "stdout",
     "output_type": "stream",
     "text": [
      "[ 94000] AB_loss: 0.2656 E_loss: 0.5801 Elapsed Time: 01:44:50\n"
     ]
    },
    {
     "name": "stdout",
     "output_type": "stream",
     "text": [
      "[ 95000] AB_loss: 0.2471 E_loss: 0.6080 Elapsed Time: 01:45:36\n"
     ]
    },
    {
     "name": "stdout",
     "output_type": "stream",
     "text": [
      "[ 96000] AB_loss: 0.2737 E_loss: 0.5579 Elapsed Time: 01:46:22\n"
     ]
    },
    {
     "name": "stdout",
     "output_type": "stream",
     "text": [
      "[ 97000] AB_loss: 0.2602 E_loss: 0.5999 Elapsed Time: 01:47:08\n"
     ]
    },
    {
     "name": "stdout",
     "output_type": "stream",
     "text": [
      "[ 98000] AB_loss: 0.2859 E_loss: 0.5627 Elapsed Time: 01:47:55\n"
     ]
    },
    {
     "name": "stdout",
     "output_type": "stream",
     "text": [
      "[ 99000] AB_loss: 0.2959 E_loss: 0.5713 Elapsed Time: 01:48:41\n"
     ]
    },
    {
     "name": "stdout",
     "output_type": "stream",
     "text": [
      "[100000] AB_loss: 0.2768 E_loss: 0.5905 Elapsed Time: 01:49:27\n"
     ]
    },
    {
     "name": "stdout",
     "output_type": "stream",
     "text": [
      "[101000] AB_loss: 0.2165 E_loss: 0.6625 Elapsed Time: 01:50:13\n"
     ]
    },
    {
     "name": "stdout",
     "output_type": "stream",
     "text": [
      "[102000] AB_loss: 0.2141 E_loss: 0.6519 Elapsed Time: 01:50:59\n"
     ]
    },
    {
     "name": "stdout",
     "output_type": "stream",
     "text": [
      "[103000] AB_loss: 0.2349 E_loss: 0.6322 Elapsed Time: 01:51:46\n"
     ]
    },
    {
     "name": "stdout",
     "output_type": "stream",
     "text": [
      "[104000] AB_loss: 0.2331 E_loss: 0.6282 Elapsed Time: 01:52:32\n"
     ]
    },
    {
     "name": "stdout",
     "output_type": "stream",
     "text": [
      "[105000] AB_loss: 0.2477 E_loss: 0.6233 Elapsed Time: 01:53:18\n"
     ]
    },
    {
     "name": "stdout",
     "output_type": "stream",
     "text": [
      "[106000] AB_loss: 0.2340 E_loss: 0.6225 Elapsed Time: 01:54:05\n"
     ]
    },
    {
     "name": "stdout",
     "output_type": "stream",
     "text": [
      "[107000] AB_loss: 0.2690 E_loss: 0.5855 Elapsed Time: 01:54:51\n"
     ]
    },
    {
     "name": "stdout",
     "output_type": "stream",
     "text": [
      "[108000] AB_loss: 0.2328 E_loss: 0.6326 Elapsed Time: 01:55:37\n"
     ]
    },
    {
     "name": "stdout",
     "output_type": "stream",
     "text": [
      "[109000] AB_loss: 0.2260 E_loss: 0.6311 Elapsed Time: 01:56:23\n"
     ]
    },
    {
     "name": "stdout",
     "output_type": "stream",
     "text": [
      "[110000] AB_loss: 0.2155 E_loss: 0.6283 Elapsed Time: 01:57:09\n"
     ]
    },
    {
     "name": "stdout",
     "output_type": "stream",
     "text": [
      "[111000] AB_loss: 0.2923 E_loss: 0.5705 Elapsed Time: 01:57:55\n"
     ]
    },
    {
     "name": "stdout",
     "output_type": "stream",
     "text": [
      "[112000] AB_loss: 0.2335 E_loss: 0.6123 Elapsed Time: 01:59:10\n"
     ]
    },
    {
     "name": "stdout",
     "output_type": "stream",
     "text": [
      "[113000] AB_loss: 0.2577 E_loss: 0.5947 Elapsed Time: 02:00:37\n"
     ]
    },
    {
     "name": "stdout",
     "output_type": "stream",
     "text": [
      "[114000] AB_loss: 0.2628 E_loss: 0.5802 Elapsed Time: 02:02:04\n"
     ]
    },
    {
     "name": "stdout",
     "output_type": "stream",
     "text": [
      "[115000] AB_loss: 0.2353 E_loss: 0.6345 Elapsed Time: 02:03:31\n"
     ]
    },
    {
     "name": "stdout",
     "output_type": "stream",
     "text": [
      "[116000] AB_loss: 0.2163 E_loss: 0.6374 Elapsed Time: 02:04:57\n"
     ]
    },
    {
     "name": "stdout",
     "output_type": "stream",
     "text": [
      "[117000] AB_loss: 0.2224 E_loss: 0.6177 Elapsed Time: 02:06:22\n"
     ]
    },
    {
     "name": "stdout",
     "output_type": "stream",
     "text": [
      "[118000] AB_loss: 0.2081 E_loss: 0.6358 Elapsed Time: 02:07:45\n"
     ]
    },
    {
     "name": "stdout",
     "output_type": "stream",
     "text": [
      "[119000] AB_loss: 0.1936 E_loss: 0.6640 Elapsed Time: 02:09:07\n"
     ]
    },
    {
     "name": "stdout",
     "output_type": "stream",
     "text": [
      "[120000] AB_loss: 0.2035 E_loss: 0.6676 Elapsed Time: 02:10:32\n"
     ]
    },
    {
     "name": "stdout",
     "output_type": "stream",
     "text": [
      "[121000] AB_loss: 0.2209 E_loss: 0.6418 Elapsed Time: 02:11:58\n"
     ]
    },
    {
     "name": "stdout",
     "output_type": "stream",
     "text": [
      "[122000] AB_loss: 0.2149 E_loss: 0.6670 Elapsed Time: 02:13:25\n"
     ]
    },
    {
     "name": "stdout",
     "output_type": "stream",
     "text": [
      "[123000] AB_loss: 0.2078 E_loss: 0.6503 Elapsed Time: 02:14:51\n"
     ]
    },
    {
     "name": "stdout",
     "output_type": "stream",
     "text": [
      "[124000] AB_loss: 0.2142 E_loss: 0.6440 Elapsed Time: 02:16:18\n"
     ]
    },
    {
     "name": "stdout",
     "output_type": "stream",
     "text": [
      "[125000] AB_loss: 0.1678 E_loss: 0.6790 Elapsed Time: 02:17:44\n"
     ]
    },
    {
     "name": "stdout",
     "output_type": "stream",
     "text": [
      "[126000] AB_loss: 0.1885 E_loss: 0.6524 Elapsed Time: 02:19:11\n"
     ]
    },
    {
     "name": "stdout",
     "output_type": "stream",
     "text": [
      "[127000] AB_loss: 0.2193 E_loss: 0.6365 Elapsed Time: 02:20:37\n"
     ]
    },
    {
     "name": "stdout",
     "output_type": "stream",
     "text": [
      "[128000] AB_loss: 0.2559 E_loss: 0.5816 Elapsed Time: 02:22:04\n"
     ]
    },
    {
     "name": "stdout",
     "output_type": "stream",
     "text": [
      "[129000] AB_loss: 0.1802 E_loss: 0.6125 Elapsed Time: 02:23:30\n"
     ]
    },
    {
     "name": "stdout",
     "output_type": "stream",
     "text": [
      "[130000] AB_loss: 0.1771 E_loss: 0.6251 Elapsed Time: 02:24:57\n"
     ]
    },
    {
     "name": "stdout",
     "output_type": "stream",
     "text": [
      "[131000] AB_loss: 0.1963 E_loss: 0.5978 Elapsed Time: 02:26:20\n"
     ]
    },
    {
     "name": "stdout",
     "output_type": "stream",
     "text": [
      "[132000] AB_loss: 0.1961 E_loss: 0.5883 Elapsed Time: 02:27:43\n"
     ]
    },
    {
     "name": "stdout",
     "output_type": "stream",
     "text": [
      "[133000] AB_loss: 0.2766 E_loss: 0.5182 Elapsed Time: 02:29:05\n"
     ]
    },
    {
     "name": "stdout",
     "output_type": "stream",
     "text": [
      "[134000] AB_loss: 0.2217 E_loss: 0.5587 Elapsed Time: 02:30:28\n"
     ]
    },
    {
     "name": "stdout",
     "output_type": "stream",
     "text": [
      "[135000] AB_loss: 0.2628 E_loss: 0.5298 Elapsed Time: 02:31:51\n"
     ]
    },
    {
     "name": "stdout",
     "output_type": "stream",
     "text": [
      "[136000] AB_loss: 0.2478 E_loss: 0.5433 Elapsed Time: 02:33:14\n"
     ]
    },
    {
     "name": "stdout",
     "output_type": "stream",
     "text": [
      "[137000] AB_loss: 0.2781 E_loss: 0.5240 Elapsed Time: 02:34:36\n"
     ]
    },
    {
     "name": "stdout",
     "output_type": "stream",
     "text": [
      "[138000] AB_loss: 0.2050 E_loss: 0.6137 Elapsed Time: 02:35:59\n"
     ]
    },
    {
     "name": "stdout",
     "output_type": "stream",
     "text": [
      "[139000] AB_loss: 0.2000 E_loss: 0.6185 Elapsed Time: 02:37:22\n"
     ]
    },
    {
     "name": "stdout",
     "output_type": "stream",
     "text": [
      "[140000] AB_loss: 0.2360 E_loss: 0.5837 Elapsed Time: 02:38:45\n"
     ]
    },
    {
     "name": "stdout",
     "output_type": "stream",
     "text": [
      "[141000] AB_loss: 0.2498 E_loss: 0.5821 Elapsed Time: 02:40:08\n"
     ]
    },
    {
     "name": "stdout",
     "output_type": "stream",
     "text": [
      "[142000] AB_loss: 0.2421 E_loss: 0.5760 Elapsed Time: 02:41:31\n"
     ]
    },
    {
     "name": "stdout",
     "output_type": "stream",
     "text": [
      "[143000] AB_loss: 0.2191 E_loss: 0.6018 Elapsed Time: 02:42:54\n"
     ]
    },
    {
     "name": "stdout",
     "output_type": "stream",
     "text": [
      "[144000] AB_loss: 0.2369 E_loss: 0.6050 Elapsed Time: 02:44:03\n"
     ]
    },
    {
     "name": "stdout",
     "output_type": "stream",
     "text": [
      "[145000] AB_loss: 0.2074 E_loss: 0.5975 Elapsed Time: 02:45:30\n"
     ]
    },
    {
     "name": "stdout",
     "output_type": "stream",
     "text": [
      "[146000] AB_loss: 0.1798 E_loss: 0.6276 Elapsed Time: 02:46:57\n"
     ]
    },
    {
     "name": "stdout",
     "output_type": "stream",
     "text": [
      "[147000] AB_loss: 0.1909 E_loss: 0.6299 Elapsed Time: 02:48:24\n"
     ]
    },
    {
     "name": "stdout",
     "output_type": "stream",
     "text": [
      "[148000] AB_loss: 0.1784 E_loss: 0.6411 Elapsed Time: 02:49:50\n"
     ]
    },
    {
     "name": "stdout",
     "output_type": "stream",
     "text": [
      "[149000] AB_loss: 0.1906 E_loss: 0.6235 Elapsed Time: 02:51:17\n"
     ]
    },
    {
     "name": "stdout",
     "output_type": "stream",
     "text": [
      "[150000] AB_loss: 0.1734 E_loss: 0.6624 Elapsed Time: 02:52:44\n"
     ]
    }
   ],
   "source": [
    "N = 16 # [16, 32, 64]\n",
    "minibatch_size = 4096 # [256..4096]\n",
    "A = ABENet(N, nkeys=1).to(DEVICE)   # Alice (encrypts with Public key)\n",
    "B = ABENet(N, nkeys=2).to(DEVICE)   # Bob   (decrypts with Private key)\n",
    "E = ABENet(N, nkeys=1).to(DEVICE)   # Eve\n",
    "PG = ABENet(N, nkeys=0).to(DEVICE)   # Public key generator (every party has pub-key)\n",
    "\n",
    "A_optimizer = optim.Adam(A.parameters(), lr=0.0008)\n",
    "B_optimizer = optim.Adam(B.parameters(), lr=0.0008)\n",
    "E_optimizer = optim.Adam(E.parameters(), lr=0.0008)\n",
    "PG_optimizer = optim.Adam(E.parameters(), lr=0.0008)\n",
    "\n",
    "l1_norm = nn.L1Loss()\n",
    "loss_bob, loss_eve = l1_norm, l1_norm\n",
    "loss_alicebob = lambda P_bob, P_eve, P: loss_bob(P_bob, P) + (((1.0 - loss_eve(P_eve, P))**2))\n",
    "\n",
    "max_iter = 150000\n",
    "ABs = []\n",
    "Es = []\n",
    "\n",
    "A.train()\n",
    "B.train()\n",
    "E.train()\n",
    "PG.train()\n",
    "\n",
    "start_time = time.time()\n",
    "for ic in range(max_iter):\n",
    "    for who, num_minibatches in [('AB', 1), ('E', 2)]:\n",
    "        for _ in range(num_minibatches):\n",
    "            P = torch.randint(low=0, high=2, size=(minibatch_size,N), dtype=torch.float).to(DEVICE)*2-1\n",
    "            K = torch.randint(low=0, high=2, size=(minibatch_size,N), dtype=torch.float).to(DEVICE)*2-1\n",
    "            \n",
    "            PK    = PG(K)\n",
    "            C     = A(torch.cat((P, PK), dim=1))\n",
    "            P_bob = B(torch.cat((C, PK, K), dim=1))\n",
    "            P_eve = E(torch.cat((C, PK), dim=1))\n",
    "\n",
    "            if who == 'AB':\n",
    "                AB_loss = loss_alicebob(P_bob, P_eve, P)\n",
    "                \n",
    "                A_optimizer.zero_grad()\n",
    "                B_optimizer.zero_grad()\n",
    "                PG_optimizer.zero_grad()\n",
    "                AB_loss.backward()\n",
    "                A_optimizer.step()\n",
    "                B_optimizer.step()\n",
    "                PG_optimizer.step()\n",
    "                \n",
    "            elif who == 'E':\n",
    "                E_loss  = loss_eve(P_eve, P)\n",
    "\n",
    "                E_optimizer.zero_grad()\n",
    "                E_loss.backward()\n",
    "                E_optimizer.step()\n",
    "\n",
    "    if ic % 1000 == 999:\n",
    "        elapsed_time = time.time() - start_time\n",
    "        print(\"[{:6d}] AB_loss: {:2.4f} E_loss: {:2.4f} Elapsed Time: {}\".format(\n",
    "            ic+1, AB_loss, E_loss, time.strftime(\"%H:%M:%S\", time.gmtime(elapsed_time))))\n",
    "    ABs.append(AB_loss.item())\n",
    "    Es.append(E_loss.item())\n",
    "    if AB_loss < 0.005 and E_loss > 0.5: # AB_loss < 0.05 and E_loss > 2\n",
    "        break\n"
   ]
  },
  {
   "cell_type": "code",
   "execution_count": 16,
   "metadata": {
    "autoscroll": false,
    "collapsed": false,
    "ein.hycell": false,
    "ein.tags": "worksheet-0",
    "slideshow": {
     "slide_type": "-"
    }
   },
   "outputs": [
    {
     "name": "stderr",
     "output_type": "stream",
     "text": [
      "/opt/conda/lib/python3.7/site-packages/IPython/core/pylabtools.py:128: UserWarning: Creating legend with loc=\"best\" can be slow with large amounts of data.\n",
      "  fig.canvas.print_figure(bytes_io, **kw)\n"
     ]
    },
    {
     "data": {
      "image/png": "[encoded data removed]",
      "text/plain": [
       "<Figure size 1008x576 with 1 Axes>"
      ]
     },
     "metadata": {},
     "output_type": "display_data"
    }
   ],
   "source": [
    "plt.figure(figsize=(14,8))\n",
    "plt.plot(range(1, len(ABs)+1), ABs, label='Alice/Bob')\n",
    "plt.plot(range(1, len(Es)+1), Es, label='Eve')\n",
    "plt.xlabel(\"Iteration\", fontsize=14)\n",
    "plt.ylabel(\"Loss\", fontsize=14)\n",
    "plt.legend(fontsize=14)\n",
    "plt.grid(True, which='both')\n",
    "plt.show()"
   ]
  },
  {
   "cell_type": "code",
   "execution_count": null,
   "metadata": {
    "autoscroll": false,
    "collapsed": false,
    "ein.hycell": false,
    "ein.tags": "worksheet-0",
    "slideshow": {
     "slide_type": "-"
    }
   },
   "outputs": [],
   "source": []
  }
 ],
 "metadata": {
  "kernelspec": {
   "argv": [
    "python",
    "-m",
    "ipykernel_launcher",
    "-f",
    "{connection_file}"
   ],
   "display_name": "Python 3",
   "env": null,
   "interrupt_mode": "signal",
   "language": "python",
   "metadata": null,
   "name": "python3"
  },
  "name": "asymmetric_encryption.ipynb"
 },
 "nbformat": 4,
 "nbformat_minor": 4
}
