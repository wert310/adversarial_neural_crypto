{
 "cells": [
  {
   "cell_type": "code",
   "execution_count": 12,
   "metadata": {
    "autoscroll": false,
    "collapsed": false,
    "ein.hycell": false,
    "ein.tags": "worksheet-0",
    "slideshow": {
     "slide_type": "-"
    }
   },
   "outputs": [],
   "source": [
    "import time\n",
    "\n",
    "import torch\n",
    "import torch.nn as nn\n",
    "import torch.nn.functional as F\n",
    "import torch.optim as optim\n",
    "\n",
    "import matplotlib.pyplot as plt\n",
    "import numpy as np"
   ]
  },
  {
   "cell_type": "code",
   "execution_count": 52,
   "metadata": {
    "autoscroll": false,
    "collapsed": false,
    "ein.hycell": false,
    "ein.tags": "worksheet-0",
    "slideshow": {
     "slide_type": "-"
    }
   },
   "outputs": [],
   "source": [
    "class SPNet(nn.Module):\n",
    "    def __init__(self, IN=4, N=8, has_key=True):\n",
    "        super(SPNet, self).__init__()\n",
    "        self.IN = IN\n",
    "        self.N = N\n",
    "\n",
    "        self.fc1   = nn.Linear(in_features=N+IN if has_key else IN, out_features=N+IN)\n",
    "        self.fc2   = nn.Linear(in_features=N+IN, out_features=N) ## 2*N????\n",
    "        self.conv1 = nn.Conv1d(kernel_size=4, in_channels=1, out_channels=2, stride=1, padding=2)\n",
    "        self.conv2 = nn.Conv1d(kernel_size=2, in_channels=2, out_channels=4, stride=2)\n",
    "        self.conv3 = nn.Conv1d(kernel_size=1, in_channels=4, out_channels=4, stride=1)\n",
    "        self.conv4 = nn.Conv1d(kernel_size=1, in_channels=4, out_channels=1, stride=1)\n",
    "        \n",
    "    def forward(self, x):\n",
    "        #print(x.size())\n",
    "        x = torch.sigmoid( self.fc1(x) )\n",
    "        #print(x.size())\n",
    "        x = torch.sigmoid( self.fc2(x) )\n",
    "        #print(x.size())\n",
    "        x = x.view(-1, 1, self.N)\n",
    "        #print(x.size())\n",
    "        x = torch.sigmoid( self.conv1(x) )\n",
    "        #print(x.size())\n",
    "        x = torch.sigmoid( self.conv2(x) )\n",
    "        #print(x.size())\n",
    "        x = torch.sigmoid( self.conv3(x) )\n",
    "        #print(x.size())\n",
    "        x = torch.tanh(    self.conv4(x) )\n",
    "        #print(x.size())\n",
    "        x = x.view(-1, 4)\n",
    "        #print(x.size())\n",
    "        return x"
   ]
  },
  {
   "cell_type": "code",
   "execution_count": 3,
   "metadata": {
    "autoscroll": false,
    "collapsed": false,
    "ein.hycell": false,
    "ein.tags": "worksheet-0",
    "slideshow": {
     "slide_type": "-"
    }
   },
   "outputs": [],
   "source": [
    "minibatch_size = 4096 # [256..4096]"
   ]
  },
  {
   "cell_type": "code",
   "execution_count": 4,
   "metadata": {
    "autoscroll": false,
    "collapsed": false,
    "ein.hycell": false,
    "ein.tags": "worksheet-0",
    "slideshow": {
     "slide_type": "-"
    }
   },
   "outputs": [
    {
     "data": {
      "text/plain": [
       "device(type='cuda', index=0)"
      ]
     },
     "execution_count": 4,
     "metadata": {},
     "output_type": "execute_result"
    }
   ],
   "source": [
    "DEVICE = torch.device(\"cuda:0\" if torch.cuda.is_available() else \"cpu\")\n",
    "DEVICE"
   ]
  },
  {
   "cell_type": "code",
   "execution_count": 33,
   "metadata": {
    "autoscroll": false,
    "collapsed": false,
    "ein.hycell": false,
    "ein.tags": "worksheet-0",
    "slideshow": {
     "slide_type": "-"
    }
   },
   "outputs": [],
   "source": [
    "square_error = lambda C1, C: torch.mean( torch.pow( C1 - C, 2) )\n",
    "cov = lambda x, y: torch.mean( (x - x.mean()) * (y - y.mean()) )\n",
    "\n",
    "loss_eve = square_error # on the single term C\n",
    "loss_alicebob = (lambda public_error, bob_error, C_eve, C: \n",
    "    # square_error(D_pub, D) + square_error(D_bob, D)\n",
    "      public_error           + bob_error\n",
    "    + torch.abs( cov(C_eve, C) ))"
   ]
  },
  {
   "cell_type": "code",
   "execution_count": 6,
   "metadata": {
    "autoscroll": false,
    "collapsed": false,
    "ein.hycell": false,
    "ein.tags": "worksheet-0",
    "slideshow": {
     "slide_type": "-"
    }
   },
   "outputs": [
    {
     "name": "stderr",
     "output_type": "stream",
     "text": [
      "/opt/conda/lib/python3.7/site-packages/torch/cuda/__init__.py:132: UserWarning: \n",
      "    Found GPU0 GeForce GTX 880M which is of cuda capability 3.0.\n",
      "    PyTorch no longer supports this GPU because it is too old.\n",
      "    The minimum cuda capability that we support is 3.5.\n",
      "    \n",
      "  warnings.warn(old_gpu_warn % (d, name, major, capability[1]))\n"
     ]
    },
    {
     "data": {
      "text/plain": [
       "tensor([[-0.4399, -0.5073, -0.4115, -0.1633],\n        [ 3.7598,  1.6772,  1.5024, -0.6567],\n        [ 0.0101, -0.3084, -0.3537, -0.2422],\n        ...,\n        [-0.9076, -0.2570, -1.1682,  1.7152],\n        [-1.0555, -0.2158, -0.5237, -0.7407],\n        [ 1.0627,  0.0739, -0.8345,  0.6190]], device='cuda:0')"
      ]
     },
     "execution_count": 6,
     "metadata": {},
     "output_type": "execute_result"
    }
   ],
   "source": [
    "# correlation matrix (symmetric positive definite matrix with ones in the diagonal)\n",
    "C = torch.rand(size=(4,4), dtype=torch.float)\n",
    "C = C - C*torch.eye(4) + torch.eye(4)\n",
    "C = C * C.T\n",
    "L = torch.cholesky(C).to(DEVICE)\n",
    "\n",
    "# gen data example\n",
    "K = torch.randint(low=0, high=2, size=(minibatch_size, 8), dtype=torch.float).to(DEVICE)*2-1\n",
    "uncorrelated_ABCD = torch.randn(size=(minibatch_size, 4), dtype=torch.float).to(DEVICE)\n",
    "ABCD = uncorrelated_ABCD @ L\n",
    "ABCD"
   ]
  },
  {
   "cell_type": "code",
   "execution_count": 55,
   "metadata": {
    "autoscroll": false,
    "collapsed": false,
    "ein.hycell": false,
    "ein.tags": "worksheet-0",
    "slideshow": {
     "slide_type": "-"
    }
   },
   "outputs": [
    {
     "name": "stdout",
     "output_type": "stream",
     "text": [
      "[  1000] PE 0.9406 BE 0.9657 AB_loss: 1.9063 E_loss: 0.9656 BE_loss 0.9657 Elapsed Time: 00:00:37\n"
     ]
    },
    {
     "name": "stdout",
     "output_type": "stream",
     "text": [
      "[  2000] PE 0.2491 BE 0.2898 AB_loss: 0.5554 E_loss: 0.9428 BE_loss 0.9220 Elapsed Time: 00:01:13\n"
     ]
    },
    {
     "name": "stdout",
     "output_type": "stream",
     "text": [
      "[  3000] PE 0.1800 BE 0.1574 AB_loss: 0.3554 E_loss: 0.9567 BE_loss 0.8583 Elapsed Time: 00:01:50\n"
     ]
    },
    {
     "name": "stdout",
     "output_type": "stream",
     "text": [
      "[  4000] PE 0.1716 BE 0.1546 AB_loss: 0.3421 E_loss: 0.9254 BE_loss 0.8787 Elapsed Time: 00:02:27\n"
     ]
    },
    {
     "name": "stdout",
     "output_type": "stream",
     "text": [
      "[  5000] PE 0.1550 BE 0.1440 AB_loss: 0.3194 E_loss: 0.9526 BE_loss 0.9077 Elapsed Time: 00:03:03\n"
     ]
    },
    {
     "name": "stdout",
     "output_type": "stream",
     "text": [
      "[  6000] PE 0.1364 BE 0.1282 AB_loss: 0.2815 E_loss: 0.9694 BE_loss 0.9148 Elapsed Time: 00:03:40\n"
     ]
    },
    {
     "name": "stdout",
     "output_type": "stream",
     "text": [
      "[  7000] PE 0.1402 BE 0.1334 AB_loss: 0.2933 E_loss: 0.9547 BE_loss 0.8861 Elapsed Time: 00:04:17\n"
     ]
    },
    {
     "name": "stdout",
     "output_type": "stream",
     "text": [
      "[  8000] PE 0.1346 BE 0.1291 AB_loss: 0.2831 E_loss: 0.9618 BE_loss 0.8708 Elapsed Time: 00:04:54\n"
     ]
    },
    {
     "name": "stdout",
     "output_type": "stream",
     "text": [
      "[  9000] PE 0.1356 BE 0.1311 AB_loss: 0.2838 E_loss: 0.9500 BE_loss 0.8482 Elapsed Time: 00:05:30\n"
     ]
    },
    {
     "name": "stdout",
     "output_type": "stream",
     "text": [
      "[ 10000] PE 0.1490 BE 0.1448 AB_loss: 0.3104 E_loss: 0.9238 BE_loss 0.8156 Elapsed Time: 00:06:06\n"
     ]
    },
    {
     "name": "stdout",
     "output_type": "stream",
     "text": [
      "[ 11000] PE 0.1373 BE 0.1346 AB_loss: 0.2928 E_loss: 0.9675 BE_loss 0.8772 Elapsed Time: 00:06:43\n"
     ]
    },
    {
     "name": "stdout",
     "output_type": "stream",
     "text": [
      "[ 12000] PE 0.1319 BE 0.1303 AB_loss: 0.2798 E_loss: 0.9447 BE_loss 0.8731 Elapsed Time: 00:07:20\n"
     ]
    },
    {
     "name": "stdout",
     "output_type": "stream",
     "text": [
      "[ 13000] PE 0.1303 BE 0.1291 AB_loss: 0.2840 E_loss: 0.9367 BE_loss 0.8817 Elapsed Time: 00:07:57\n"
     ]
    },
    {
     "name": "stdout",
     "output_type": "stream",
     "text": [
      "[ 14000] PE 0.1385 BE 0.1375 AB_loss: 0.2959 E_loss: 0.9701 BE_loss 0.9243 Elapsed Time: 00:08:33\n"
     ]
    },
    {
     "name": "stdout",
     "output_type": "stream",
     "text": [
      "[ 15000] PE 0.1379 BE 0.1368 AB_loss: 0.2976 E_loss: 0.9109 BE_loss 0.8548 Elapsed Time: 00:09:09\n"
     ]
    }
   ],
   "source": [
    "max_iter = 15000 #150000\n",
    "ABs = []\n",
    "Es  = []\n",
    "PEs = []\n",
    "BEs = []\n",
    "EBs = []\n",
    "\n",
    "A  = SPNet(IN=4, has_key=True).to(DEVICE)\n",
    "B  = SPNet(IN=4, has_key=True).to(DEVICE)\n",
    "E  = SPNet(IN=4, has_key=False).to(DEVICE)\n",
    "BE = SPNet(IN=3, has_key=False).to(DEVICE)\n",
    "\n",
    "A_optimizer  = optim.Adam(A.parameters(), lr=0.0008)\n",
    "B_optimizer  = optim.Adam(B.parameters(), lr=0.0008)\n",
    "E_optimizer  = optim.Adam(E.parameters(), lr=0.0008)\n",
    "BE_optimizer = optim.Adam(BE.parameters(), lr=0.0008)\n",
    "\n",
    "A.train()\n",
    "B.train()\n",
    "E.train()\n",
    "BE.train()\n",
    "\n",
    "start_time = time.time()\n",
    "for ic in range(max_iter):\n",
    "    for who, num_minibatches in [('AB', 1), ('E', 2)]:\n",
    "        for _ in range(num_minibatches):\n",
    "            K = torch.randint(low=0, high=2, size=(minibatch_size, 8), dtype=torch.float).to(DEVICE)*2-1\n",
    "            uncorrelated_ABCD = torch.randn(size=(minibatch_size, 4), dtype=torch.float).to(DEVICE)\n",
    "            ABCD = uncorrelated_ABCD @ L\n",
    "            C = ABCD[:,2]\n",
    "            D = ABCD[:,3]\n",
    "            \n",
    "            DENC = A(torch.cat((ABCD, K), dim=1))\n",
    "            BOBD = B(torch.cat((DENC, K), dim=1))\n",
    "            EVEC = E(DENC)\n",
    "            BEVE = BE(DENC[:,0:3])\n",
    "\n",
    "            D_pub       = DENC[:,3] # 4th col is D\n",
    "            D_bob       = BOBD[:,3]\n",
    "            C_eve       = EVEC[:,2] # 3rd col is C\n",
    "            C_blind_eve = BEVE[:,2]\n",
    "            \n",
    "            if who == 'AB':\n",
    "                public_error = square_error(D_pub, D)\n",
    "                bob_error = square_error(D_bob, D)\n",
    "                AB_loss = loss_alicebob(public_error, bob_error, C_eve, C)\n",
    "                A_optimizer.zero_grad()\n",
    "                B_optimizer.zero_grad()\n",
    "                AB_loss.backward()\n",
    "                A_optimizer.step()\n",
    "                B_optimizer.step()\n",
    "\n",
    "            if who == 'E':\n",
    "                # Eve    \n",
    "                E_loss = loss_eve(C_eve, C)\n",
    "                E_optimizer.zero_grad()\n",
    "                E_loss.backward(retain_graph=True) # ???\n",
    "                E_optimizer.step()\n",
    "\n",
    "                # Blind Eve\n",
    "                BE_loss = loss_eve(C_blind_eve, C)\n",
    "                BE_optimizer.zero_grad()\n",
    "                BE_loss.backward()\n",
    "                BE_optimizer.step()\n",
    "                \n",
    "\n",
    "    if ic % 1000 == 999:\n",
    "        elapsed_time = time.time() - start_time            \n",
    "        print(\"[{:6d}] PE {:2.4f} BE {:2.4f} AB_loss: {:2.4f} E_loss: {:2.4f} BE_loss {:2.4f} Elapsed Time: {}\".format(\n",
    "            ic+1, public_error, bob_error, AB_loss, E_loss, BE_loss,\n",
    "            time.strftime(\"%H:%M:%S\", time.gmtime(elapsed_time))))\n",
    "    ABs.append(AB_loss.item())\n",
    "    Es.append(E_loss.item())\n",
    "    EBs.append(BE_loss.item())\n",
    "    PEs.append(public_error.item())\n",
    "    BEs.append(bob_error.item())\n",
    "    if AB_loss < 0.05 and E_loss > 0.5: # AB_loss < 0.05 and E_loss > 2\n",
    "        break\n",
    "                \n",
    "            "
   ]
  },
  {
   "cell_type": "code",
   "execution_count": 62,
   "metadata": {
    "autoscroll": false,
    "collapsed": false,
    "ein.hycell": false,
    "ein.tags": "worksheet-0",
    "slideshow": {
     "slide_type": "-"
    }
   },
   "outputs": [],
   "source": [
    "# calculate eve improvement over blind_eve\n",
    "E_improvement = list((torch.tensor(Es) - torch.tensor(BEs) / torch.tensor(BEs)).numpy())"
   ]
  },
  {
   "cell_type": "code",
   "execution_count": 65,
   "metadata": {
    "autoscroll": false,
    "collapsed": false,
    "ein.hycell": false,
    "ein.tags": "worksheet-0",
    "slideshow": {
     "slide_type": "-"
    }
   },
   "outputs": [
    {
     "data": {
      "image/png": "[encoded data removed]",
      "text/plain": [
       "<Figure size 1008x576 with 1 Axes>"
      ]
     },
     "metadata": {},
     "output_type": "display_data"
    }
   ],
   "source": [
    "plt.figure(figsize=(14,8))\n",
    "#plt.plot(range(1, len(ABs)+1), ABs, label='Alice/Bob')\n",
    "#plt.plot(range(1, len(Es)+1), Es, label='Eve')\n",
    "plt.scatter(range(1, len(E_improvement)+1), E_improvement, marker='x', label='Eve C imporvement over blind')\n",
    "plt.plot(range(1, len(PEs)+1), PEs, label='Public Error')\n",
    "plt.plot(range(1, len(BEs)+1), BEs, label='Bob Error')\n",
    "plt.xlabel(\"Iteration\", fontsize=14)\n",
    "plt.ylabel(\"Loss\", fontsize=14)\n",
    "plt.legend(fontsize=14)\n",
    "plt.grid(True, which='both')\n",
    "plt.show()"
   ]
  }
 ],
 "metadata": {
  "kernelspec": {
   "argv": [
    "python",
    "-m",
    "ipykernel_launcher",
    "-f",
    "{connection_file}"
   ],
   "display_name": "Python 3",
   "env": null,
   "interrupt_mode": "signal",
   "language": "python",
   "metadata": null,
   "name": "python3"
  },
  "name": "selective_protection.ipynb"
 },
 "nbformat": 4,
 "nbformat_minor": 4
}
