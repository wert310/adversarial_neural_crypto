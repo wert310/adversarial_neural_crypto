{
 "cells": [
  {
   "cell_type": "code",
   "execution_count": 30,
   "metadata": {
    "autoscroll": false,
    "collapsed": false,
    "ein.hycell": false,
    "ein.tags": "worksheet-0",
    "jupyter": {
     "outputs_hidden": false
    },
    "slideshow": {
     "slide_type": "-"
    }
   },
   "outputs": [],
   "source": [
    "import time\n",
    "\n",
    "import torch\n",
    "import torch.nn as nn\n",
    "import torch.nn.functional as F\n",
    "import torch.optim as optim\n",
    "\n",
    "import matplotlib.pyplot as plt\n",
    "import numpy as np"
   ]
  },
  {
   "cell_type": "code",
   "execution_count": 31,
   "metadata": {
    "autoscroll": false,
    "collapsed": false,
    "ein.hycell": false,
    "ein.tags": "worksheet-0",
    "jupyter": {
     "outputs_hidden": false
    },
    "slideshow": {
     "slide_type": "-"
    }
   },
   "outputs": [],
   "source": [
    "class ABENet(nn.Module):\n",
    "    def __init__(self, N, has_key=True):\n",
    "        super(ABENet, self).__init__()\n",
    "        self.N = N\n",
    "        \n",
    "        self.fc    = nn.Linear(in_features=2*N if has_key else N, out_features=2*N)\n",
    "        self.conv1 = nn.Conv1d(kernel_size=4, in_channels=1, out_channels=2, stride=1, padding=2)\n",
    "        self.conv2 = nn.Conv1d(kernel_size=2, in_channels=2, out_channels=4, stride=2)\n",
    "        self.conv3 = nn.Conv1d(kernel_size=1, in_channels=4, out_channels=4, stride=1)\n",
    "        self.conv4 = nn.Conv1d(kernel_size=1, in_channels=4, out_channels=1, stride=1)\n",
    "\n",
    "    def forward(self, x):\n",
    "        x = torch.sigmoid( self.fc(x) )\n",
    "        x = x.view(-1, 1, 2*self.N)\n",
    "        x = torch.sigmoid( self.conv1(x) )\n",
    "        x = torch.sigmoid( self.conv2(x) )\n",
    "        x = torch.sigmoid( self.conv3(x) )\n",
    "        x = torch.tanh(    self.conv4(x) )\n",
    "        x = x.view(-1, self.N)\n",
    "        return x"
   ]
  },
  {
   "cell_type": "code",
   "execution_count": 32,
   "metadata": {
    "autoscroll": false,
    "collapsed": false,
    "ein.hycell": false,
    "ein.tags": "worksheet-0",
    "jupyter": {
     "outputs_hidden": false
    },
    "slideshow": {
     "slide_type": "-"
    }
   },
   "outputs": [
    {
     "data": {
      "text/plain": [
       "device(type='cuda', index=0)"
      ]
     },
     "execution_count": 32,
     "metadata": {},
     "output_type": "execute_result"
    }
   ],
   "source": [
    "DEVICE = torch.device(\"cuda:0\" if torch.cuda.is_available() else \"cpu\")\n",
    "DEVICE"
   ]
  },
  {
   "cell_type": "markdown",
   "metadata": {
    "ein.tags": "worksheet-0",
    "slideshow": {
     "slide_type": "-"
    }
   },
   "source": [
    "![symmetric_encryption](img/symmetric_enc.png)"
   ]
  },
  {
   "cell_type": "code",
   "execution_count": 33,
   "metadata": {
    "autoscroll": false,
    "collapsed": false,
    "ein.hycell": false,
    "ein.tags": "worksheet-0",
    "jupyter": {
     "outputs_hidden": false
    },
    "slideshow": {
     "slide_type": "-"
    }
   },
   "outputs": [],
   "source": [
    "N = 16 # [16, 32, 64]\n",
    "minibatch_size = 4096 # [256..4096]\n",
    "\n",
    "A = ABENet(N, has_key=True).to(DEVICE)\n",
    "B = ABENet(N, has_key=True).to(DEVICE)\n",
    "E = ABENet(N, has_key=False).to(DEVICE)"
   ]
  },
  {
   "cell_type": "code",
   "execution_count": 34,
   "metadata": {
    "autoscroll": false,
    "collapsed": false,
    "ein.hycell": false,
    "ein.tags": "worksheet-0",
    "jupyter": {
     "outputs_hidden": false
    },
    "slideshow": {
     "slide_type": "-"
    }
   },
   "outputs": [],
   "source": [
    "#l1_norm = lambda P1, P: torch.mean( torch.sum( torch.abs(P1 - P), dim=1 ), dim=0 ) # mean of batch\n",
    "l1_norm = nn.L1Loss()\n",
    "loss_eve = l1_norm\n",
    "loss_bob = l1_norm\n",
    "#loss_alicebob = lambda P_bob, P_eve, P: loss_bob(P_bob, P) + (((N/2 - loss_eve(P_eve, P))**2) / ((N/2)**2))\n",
    "loss_alicebob = lambda P_bob, P_eve, P: loss_bob(P_bob, P) + (((1.0 - loss_eve(P_eve, P))**2))"
   ]
  },
  {
   "cell_type": "code",
   "execution_count": 35,
   "metadata": {
    "autoscroll": false,
    "collapsed": false,
    "ein.hycell": false,
    "ein.tags": "worksheet-0",
    "slideshow": {
     "slide_type": "-"
    }
   },
   "outputs": [],
   "source": [
    "def gen_bitstring(N, batch_size=minibatch_size):\n",
    "    return torch.randint(low=0, high=2, size=(batch_size,N), dtype=torch.float).to(DEVICE)*2-1"
   ]
  },
  {
   "cell_type": "code",
   "execution_count": 36,
   "metadata": {
    "autoscroll": false,
    "collapsed": false,
    "ein.hycell": false,
    "ein.tags": "worksheet-0",
    "jupyter": {
     "outputs_hidden": false
    },
    "slideshow": {
     "slide_type": "-"
    }
   },
   "outputs": [],
   "source": [
    "def train_abe(A, B, E,\n",
    "              lr=0.0008,\n",
    "              max_iter=150000,\n",
    "              debug_print=1000,\n",
    "              loss_eve=loss_eve,\n",
    "              loss_alicebob=loss_alicebob,\n",
    "              stop_condition=(lambda AB_loss, E_loss:\n",
    "                              # AB_loss < 0.05 and E_loss > 2\n",
    "                              AB_loss < 0.005 and E_loss > 0.5)):\n",
    "\n",
    "    # Optimizers\n",
    "    A_optimizer = optim.Adam(A.parameters(), lr=0.0008)\n",
    "    B_optimizer = optim.Adam(B.parameters(), lr=0.0008)\n",
    "    E_optimizer = optim.Adam(E.parameters(), lr=0.0008)\n",
    "\n",
    "    ABs = [] # AB loss values\n",
    "    Es  = [] # E loss values\n",
    "\n",
    "    [X.train() for X in [A,B,E]] # Set models in training mode\n",
    "\n",
    "    start_time = time.time()\n",
    "    for ic in range(max_iter):\n",
    "        # Train A/B for 1 minibtach and E for 2 minibatches to give it some advantage\n",
    "        for who, num_minibatches in [('AB', 1), ('E', 2)]:\n",
    "            for _ in range(num_minibatches):\n",
    "                P = gen_bitstring(N, batch_size=minibatch_size)\n",
    "                K = gen_bitstring(N, batch_size=minibatch_size) \n",
    "\n",
    "                C     = A(torch.cat((P, K), dim=1))\n",
    "                P_bob = B(torch.cat((C, K), dim=1))\n",
    "                P_eve = E(C)\n",
    "\n",
    "                if who == 'AB':\n",
    "                    AB_loss = loss_alicebob(P_bob, P_eve, P)\n",
    "                \n",
    "                    A_optimizer.zero_grad()\n",
    "                    B_optimizer.zero_grad()\n",
    "                    AB_loss.backward()\n",
    "                    A_optimizer.step()\n",
    "                    B_optimizer.step()\n",
    "                \n",
    "                elif who == 'E':\n",
    "                    E_loss  = loss_eve(P_eve, P)\n",
    "                    \n",
    "                    E_optimizer.zero_grad()\n",
    "                    E_loss.backward()\n",
    "                    E_optimizer.step()\n",
    "\n",
    "        if debug_print > 0 and ic % debug_print == (debug_print-1):\n",
    "            elapsed_time = time.time() - start_time\n",
    "            print(\"[{:6d}] AB_loss: {:2.4f} E_loss: {:2.4f} Elapsed Time: {}\".format(\n",
    "                ic+1, AB_loss, E_loss, time.strftime(\"%H:%M:%S\", time.gmtime(elapsed_time))))\n",
    "            \n",
    "        ABs.append(AB_loss.item())\n",
    "        Es.append(E_loss.item())\n",
    "\n",
    "        if stop_condition(AB_loss, E_loss): # AB_loss < 0.05 and E_loss > 2\n",
    "            break\n",
    "\n",
    "    [X.train(False) for X in [A,B,E]]\n",
    "    return ABs, Es"
   ]
  },
  {
   "cell_type": "code",
   "execution_count": 37,
   "metadata": {
    "autoscroll": false,
    "collapsed": false,
    "ein.hycell": false,
    "ein.tags": "worksheet-0",
    "jupyter": {
     "outputs_hidden": false
    },
    "slideshow": {
     "slide_type": "-"
    }
   },
   "outputs": [
    {
     "name": "stdout",
     "output_type": "stream",
     "text": [
      "[  1000] AB_loss: 0.9998 E_loss: 1.0003 Elapsed Time: 00:01:04\n"
     ]
    },
    {
     "name": "stdout",
     "output_type": "stream",
     "text": [
      "[  2000] AB_loss: 0.8289 E_loss: 0.8748 Elapsed Time: 00:02:08\n"
     ]
    },
    {
     "name": "stdout",
     "output_type": "stream",
     "text": [
      "[  3000] AB_loss: 0.1020 E_loss: 0.7570 Elapsed Time: 00:03:12\n"
     ]
    },
    {
     "name": "stdout",
     "output_type": "stream",
     "text": [
      "[  4000] AB_loss: 0.0269 E_loss: 0.8706 Elapsed Time: 00:04:16\n"
     ]
    },
    {
     "name": "stdout",
     "output_type": "stream",
     "text": [
      "[  5000] AB_loss: 0.0135 E_loss: 0.9016 Elapsed Time: 00:05:20\n"
     ]
    },
    {
     "name": "stdout",
     "output_type": "stream",
     "text": [
      "[  6000] AB_loss: 0.0076 E_loss: 0.9196 Elapsed Time: 00:06:24\n"
     ]
    },
    {
     "name": "stdout",
     "output_type": "stream",
     "text": [
      "[  7000] AB_loss: 0.0065 E_loss: 0.9338 Elapsed Time: 00:07:28\n"
     ]
    }
   ],
   "source": [
    "ABs, Es = train_abe(A,B,E, max_iter=15000)"
   ]
  },
  {
   "cell_type": "code",
   "execution_count": 38,
   "metadata": {
    "autoscroll": false,
    "collapsed": false,
    "ein.hycell": false,
    "ein.tags": "worksheet-0",
    "jupyter": {
     "outputs_hidden": false
    },
    "slideshow": {
     "slide_type": "-"
    }
   },
   "outputs": [
    {
     "data": {
      "image/png": "[encoded data removed]",
      "text/plain": [
       "<Figure size 1008x576 with 1 Axes>"
      ]
     },
     "metadata": {},
     "output_type": "display_data"
    }
   ],
   "source": [
    "def plot_abe_losses(ABs, Es):\n",
    "    plt.figure(figsize=(14,8))\n",
    "    plt.plot(range(1, len(ABs)+1), ABs, label='Alice/Bob')\n",
    "    plt.plot(range(1, len(Es)+1), Es, label='Eve')\n",
    "    plt.xlabel(\"Iteration\", fontsize=14)\n",
    "    plt.ylabel(\"Loss\", fontsize=14)\n",
    "    plt.legend(fontsize=14)\n",
    "    plt.grid(True, which='both')\n",
    "    plt.show()\n",
    "\n",
    "plot_abe_losses(ABs, Es)"
   ]
  },
  {
   "cell_type": "code",
   "execution_count": 39,
   "metadata": {
    "autoscroll": false,
    "collapsed": false,
    "ein.hycell": false,
    "ein.tags": "worksheet-0",
    "jupyter": {
     "outputs_hidden": false
    },
    "slideshow": {
     "slide_type": "-"
    }
   },
   "outputs": [],
   "source": [
    "def test_enc(A,B,E, debug=True):\n",
    "    with torch.no_grad():\n",
    "        P = gen_bitstring(N, batch_size=1)\n",
    "        K = gen_bitstring(N, batch_size=1)\n",
    "        C = A(torch.cat((P, K), dim=1))\n",
    "        D = B(torch.cat((C, K), dim=1))\n",
    "        F = E(C)\n",
    "        if debug:\n",
    "            print (\"P:\\n\", P.cpu())\n",
    "            print (\"K:\\n\", K.cpu())\n",
    "            print (\"A(P,K):\\n\", C.cpu())\n",
    "            print (\"B(A(P, K), K):\\n\", D.cpu())\n",
    "            print (\"E(A(P, K)):\\n\", F.cpu())\n",
    "        return P, K, C, D, F"
   ]
  },
  {
   "cell_type": "code",
   "execution_count": 40,
   "metadata": {
    "autoscroll": false,
    "collapsed": false,
    "ein.hycell": false,
    "ein.tags": "worksheet-0",
    "slideshow": {
     "slide_type": "-"
    }
   },
   "outputs": [
    {
     "name": "stdout",
     "output_type": "stream",
     "text": [
      "P:\n",
      " tensor([[ 1., -1.,  1., -1.,  1., -1.,  1., -1., -1., -1.,  1., -1.,  1., -1.,\n",
      "          1.,  1.]])\n",
      "K:\n",
      " tensor([[ 1.,  1., -1., -1.,  1., -1., -1.,  1.,  1.,  1.,  1., -1.,  1.,  1.,\n",
      "         -1., -1.]])\n",
      "A(P,K):\n",
      " tensor([[-0.2109,  0.6140,  0.5929, -0.5219,  0.1021,  0.6765,  0.0202,  0.6155,\n",
      "          0.4189,  0.0553, -0.6542, -0.5535, -0.4785,  0.5015,  0.5706,  0.5370]])\n",
      "B(A(P, K), K):\n",
      " tensor([[ 0.9998, -0.9923,  0.9997, -0.9998,  1.0000, -0.9990,  0.9995, -0.9919,\n",
      "         -0.9990, -0.9992,  1.0000, -0.9984,  1.0000, -0.9965,  0.9999,  0.9998]])\n",
      "E(A(P, K)):\n",
      " tensor([[-1.0000,  1.0000, -1.0000,  1.0000,  1.0000,  1.0000, -1.0000,  1.0000,\n",
      "          1.0000, -1.0000,  0.7591, -1.0000,  0.9966,  1.0000, -1.0000, -1.0000]])\n"
     ]
    }
   ],
   "source": [
    "_ = test_enc(A,B,E, debug=True)"
   ]
  },
  {
   "cell_type": "code",
   "execution_count": 41,
   "metadata": {
    "autoscroll": false,
    "collapsed": false,
    "ein.hycell": false,
    "ein.tags": "worksheet-0",
    "slideshow": {
     "slide_type": "-"
    }
   },
   "outputs": [
    {
     "name": "stdout",
     "output_type": "stream",
     "text": [
      "B: 99.9640\n",
      "E: 0.0020\n"
     ]
    }
   ],
   "source": [
    "TEST_SIZE = 50000\n",
    "B_correct = 0\n",
    "E_correct = 0\n",
    "        \n",
    "for I in range(TEST_SIZE):\n",
    "    P, K, C, P_b, P_e = test_enc(A,B,E, debug=False)\n",
    "    if torch.equal(P, P_b.round()): B_correct += 1\n",
    "    if torch.equal(P, P_e.round()): E_correct += 1\n",
    "print (\"B: {:.4f}\".format(B_correct * 100 / TEST_SIZE))\n",
    "print (\"E: {:.4f}\".format(E_correct * 100 / TEST_SIZE))\n"
   ]
  },
  {
   "cell_type": "code",
   "execution_count": 57,
   "metadata": {
    "autoscroll": false,
    "collapsed": false,
    "ein.hycell": false,
    "ein.tags": "worksheet-0",
    "slideshow": {
     "slide_type": "-"
    }
   },
   "outputs": [],
   "source": [
    "def train_best_eve(A, E,\n",
    "                   max_iter=250000,\n",
    "                   retries=5,\n",
    "                   debug_print=10000):\n",
    "\n",
    "    Best_E_loss = float(\"Inf\")\n",
    "    Best_E = None\n",
    "\n",
    "    for es in range(retries):\n",
    "        CE = ABENet(N, has_key=False).to(DEVICE)\n",
    "        CE_optimizer = optim.Adam(CE.parameters(), lr=0.0008)\n",
    "        CE.train()\n",
    "        start_time = time.time()\n",
    "        for ic in range(max_iter):\n",
    "            P = gen_bitstring(N, batch_size=minibatch_size)\n",
    "            K = gen_bitstring(N, batch_size=minibatch_size)\n",
    "                   \n",
    "            C       = A(torch.cat((P, K), dim=1))\n",
    "            P_eve   = CE(C)\n",
    "            CE_loss = loss_eve(P_eve, P)\n",
    "            CE_optimizer.zero_grad()\n",
    "            CE_loss.backward()\n",
    "            CE_optimizer.step()\n",
    "\n",
    "            if debug_print > 0 and ic % debug_print == (debug_print-1):\n",
    "                elapsed_time = time.time() - start_time\n",
    "                print(\"[{:d} - {:6d}] CE_loss: {:2.4f} Elapsed Time: {}\".format(\n",
    "                    es+1, ic+1, CE_loss, time.strftime(\"%H:%M:%S\", time.gmtime(elapsed_time))))\n",
    "\n",
    "            if CE_loss <= 0.05:\n",
    "                raise RuntimeError(\"Optimal E found!\")\n",
    "                break\n",
    "            \n",
    "        if CE_loss.item() < Best_E_loss:\n",
    "            Best_E_loss = CE_loss.item()\n",
    "            Best_E = CE\n",
    "\n",
    "    return Best_E, Best_E_loss"
   ]
  },
  {
   "cell_type": "code",
   "execution_count": 47,
   "metadata": {
    "autoscroll": false,
    "collapsed": false,
    "ein.hycell": false,
    "ein.tags": "worksheet-0",
    "slideshow": {
     "slide_type": "-"
    }
   },
   "outputs": [
    {
     "name": "stdout",
     "output_type": "stream",
     "text": [
      "[1 -  10000] CE_loss: 0.8355 Elapsed Time: 00:03:00\n"
     ]
    },
    {
     "name": "stdout",
     "output_type": "stream",
     "text": [
      "[1 -  20000] CE_loss: 0.8413 Elapsed Time: 00:06:00\n"
     ]
    },
    {
     "name": "stdout",
     "output_type": "stream",
     "text": [
      "[2 -  10000] CE_loss: 0.8394 Elapsed Time: 00:03:01\n"
     ]
    },
    {
     "name": "stdout",
     "output_type": "stream",
     "text": [
      "[2 -  20000] CE_loss: 0.8285 Elapsed Time: 00:06:02\n"
     ]
    },
    {
     "name": "stdout",
     "output_type": "stream",
     "text": [
      "[3 -  10000] CE_loss: 0.8563 Elapsed Time: 00:03:00\n"
     ]
    },
    {
     "name": "stdout",
     "output_type": "stream",
     "text": [
      "[3 -  20000] CE_loss: 0.8573 Elapsed Time: 00:06:02\n"
     ]
    },
    {
     "data": {
      "text/plain": [
       "0.8285450339317322"
      ]
     },
     "execution_count": 47,
     "metadata": {},
     "output_type": "execute_result"
    }
   ],
   "source": [
    "Best_E, Best_E_loss = train_best_eve(A, E, retries=3, max_iter=20000)\n",
    "Best_E_loss"
   ]
  },
  {
   "cell_type": "code",
   "execution_count": 58,
   "metadata": {
    "autoscroll": false,
    "collapsed": false,
    "ein.hycell": false,
    "ein.tags": "worksheet-0",
    "slideshow": {
     "slide_type": "-"
    }
   },
   "outputs": [],
   "source": [
    "# Train new A,B,E and validate them for 20 times\n",
    "def validate(num_times=20):\n",
    "    AB = []\n",
    "    BE = []\n",
    "    start_time = time.time()\n",
    "    for n in range(num_times):\n",
    "        A = ABENet(N, has_key=True).to(DEVICE)\n",
    "        B = ABENet(N, has_key=True).to(DEVICE)\n",
    "        E = ABENet(N, has_key=False).to(DEVICE)\n",
    "        ABs, Es = train_abe(A,B,E, max_iter=15000, debug_print=5000)\n",
    "        _, Best_E_loss = train_best_eve(A, E, retries=3, max_iter=15000, debug_print=7500)\n",
    "        AB.append(ABs[-1])\n",
    "        BE.append(Best_E_loss)\n",
    "        elapsed_time = time.time() - start_time\n",
    "        print(\"[N: {}] AB_loss: {:2.4f} E_loss: {:2.4f} Elapsed Time: {}\".format(\n",
    "            n+1, ABs[-1], Best_E_loss, time.strftime(\"%H:%M:%S\", time.gmtime(elapsed_time))))\n",
    "\n",
    "    return AB, BE\n"
   ]
  },
  {
   "cell_type": "code",
   "execution_count": 59,
   "metadata": {
    "autoscroll": false,
    "collapsed": false,
    "ein.hycell": false,
    "ein.tags": "worksheet-0",
    "slideshow": {
     "slide_type": "-"
    }
   },
   "outputs": [
    {
     "name": "stdout",
     "output_type": "stream",
     "text": [
      "[  5000] AB_loss: 0.0713 E_loss: 0.9259 Elapsed Time: 00:02:50\n"
     ]
    },
    {
     "name": "stdout",
     "output_type": "stream",
     "text": [
      "[ 10000] AB_loss: 0.0625 E_loss: 0.9683 Elapsed Time: 00:05:40\n"
     ]
    },
    {
     "name": "stdout",
     "output_type": "stream",
     "text": [
      "[ 15000] AB_loss: 0.0630 E_loss: 0.9756 Elapsed Time: 00:08:30\n"
     ]
    },
    {
     "name": "stdout",
     "output_type": "stream",
     "text": [
      "[1 -   7500] CE_loss: 0.8873 Elapsed Time: 00:01:13\n"
     ]
    },
    {
     "name": "stdout",
     "output_type": "stream",
     "text": [
      "[1 -  15000] CE_loss: 0.8787 Elapsed Time: 00:02:36\n"
     ]
    },
    {
     "name": "stdout",
     "output_type": "stream",
     "text": [
      "[2 -   7500] CE_loss: 0.9276 Elapsed Time: 00:01:55\n"
     ]
    },
    {
     "name": "stdout",
     "output_type": "stream",
     "text": [
      "[2 -  15000] CE_loss: 0.9054 Elapsed Time: 00:03:31\n"
     ]
    },
    {
     "name": "stdout",
     "output_type": "stream",
     "text": [
      "[3 -   7500] CE_loss: 0.8815 Elapsed Time: 00:01:49\n"
     ]
    },
    {
     "name": "stdout",
     "output_type": "stream",
     "text": [
      "[3 -  15000] CE_loss: 0.8752 Elapsed Time: 00:03:41\n",
      "[N: 1] AB_loss: 0.0630 E_loss: 0.8752 Elapsed Time: 00:18:19\n"
     ]
    },
    {
     "name": "stdout",
     "output_type": "stream",
     "text": [
      "[  5000] AB_loss: 0.0487 E_loss: 0.8300 Elapsed Time: 00:02:50\n"
     ]
    },
    {
     "name": "stdout",
     "output_type": "stream",
     "text": [
      "[1 -   7500] CE_loss: 0.8400 Elapsed Time: 00:01:55\n"
     ]
    },
    {
     "name": "stdout",
     "output_type": "stream",
     "text": [
      "[1 -  15000] CE_loss: 0.8486 Elapsed Time: 00:03:50\n"
     ]
    },
    {
     "name": "stdout",
     "output_type": "stream",
     "text": [
      "[2 -   7500] CE_loss: 0.8408 Elapsed Time: 00:01:55\n"
     ]
    },
    {
     "name": "stdout",
     "output_type": "stream",
     "text": [
      "[2 -  15000] CE_loss: 0.8393 Elapsed Time: 00:03:51\n"
     ]
    },
    {
     "name": "stdout",
     "output_type": "stream",
     "text": [
      "[3 -   7500] CE_loss: 0.8426 Elapsed Time: 00:01:19\n"
     ]
    },
    {
     "name": "stdout",
     "output_type": "stream",
     "text": [
      "[3 -  15000] CE_loss: 0.8432 Elapsed Time: 00:02:33\n",
      "[N: 2] AB_loss: 0.0050 E_loss: 0.8393 Elapsed Time: 00:34:12\n"
     ]
    },
    {
     "name": "stdout",
     "output_type": "stream",
     "text": [
      "[  5000] AB_loss: 0.0129 E_loss: 0.9031 Elapsed Time: 00:02:50\n"
     ]
    },
    {
     "name": "stdout",
     "output_type": "stream",
     "text": [
      "[1 -   7500] CE_loss: 0.8104 Elapsed Time: 00:01:13\n"
     ]
    },
    {
     "name": "stdout",
     "output_type": "stream",
     "text": [
      "[1 -  15000] CE_loss: 0.8122 Elapsed Time: 00:02:27\n"
     ]
    },
    {
     "name": "stdout",
     "output_type": "stream",
     "text": [
      "[2 -   7500] CE_loss: 0.8315 Elapsed Time: 00:01:13\n"
     ]
    },
    {
     "name": "stdout",
     "output_type": "stream",
     "text": [
      "[2 -  15000] CE_loss: 0.8173 Elapsed Time: 00:02:27\n"
     ]
    },
    {
     "name": "stdout",
     "output_type": "stream",
     "text": [
      "[3 -   7500] CE_loss: 0.8264 Elapsed Time: 00:01:13\n"
     ]
    },
    {
     "name": "stdout",
     "output_type": "stream",
     "text": [
      "[3 -  15000] CE_loss: 0.8204 Elapsed Time: 00:02:27\n",
      "[N: 3] AB_loss: 0.0048 E_loss: 0.8122 Elapsed Time: 00:45:23\n"
     ]
    },
    {
     "name": "stdout",
     "output_type": "stream",
     "text": [
      "[  5000] AB_loss: 0.0301 E_loss: 0.8688 Elapsed Time: 00:02:50\n"
     ]
    },
    {
     "name": "stdout",
     "output_type": "stream",
     "text": [
      "[1 -   7500] CE_loss: 0.8260 Elapsed Time: 00:01:14\n"
     ]
    },
    {
     "name": "stdout",
     "output_type": "stream",
     "text": [
      "[1 -  15000] CE_loss: 0.8258 Elapsed Time: 00:02:28\n"
     ]
    },
    {
     "name": "stdout",
     "output_type": "stream",
     "text": [
      "[2 -   7500] CE_loss: 0.8669 Elapsed Time: 00:01:14\n"
     ]
    },
    {
     "name": "stdout",
     "output_type": "stream",
     "text": [
      "[2 -  15000] CE_loss: 0.8580 Elapsed Time: 00:02:28\n"
     ]
    },
    {
     "name": "stdout",
     "output_type": "stream",
     "text": [
      "[3 -   7500] CE_loss: 0.8470 Elapsed Time: 00:01:14\n"
     ]
    },
    {
     "name": "stdout",
     "output_type": "stream",
     "text": [
      "[3 -  15000] CE_loss: 0.8403 Elapsed Time: 00:02:28\n",
      "[N: 4] AB_loss: 0.0048 E_loss: 0.8258 Elapsed Time: 00:57:14\n"
     ]
    },
    {
     "name": "stdout",
     "output_type": "stream",
     "text": [
      "[  5000] AB_loss: 0.0438 E_loss: 0.9078 Elapsed Time: 00:02:50\n"
     ]
    },
    {
     "name": "stdout",
     "output_type": "stream",
     "text": [
      "[ 10000] AB_loss: 0.0333 E_loss: 0.9622 Elapsed Time: 00:05:41\n"
     ]
    },
    {
     "name": "stdout",
     "output_type": "stream",
     "text": [
      "[ 15000] AB_loss: 0.0336 E_loss: 0.9616 Elapsed Time: 00:08:32\n"
     ]
    },
    {
     "name": "stdout",
     "output_type": "stream",
     "text": [
      "[1 -   7500] CE_loss: 0.8867 Elapsed Time: 00:01:14\n"
     ]
    },
    {
     "name": "stdout",
     "output_type": "stream",
     "text": [
      "[1 -  15000] CE_loss: 0.8757 Elapsed Time: 00:02:28\n"
     ]
    },
    {
     "name": "stdout",
     "output_type": "stream",
     "text": [
      "[2 -   7500] CE_loss: 0.8731 Elapsed Time: 00:01:14\n"
     ]
    },
    {
     "name": "stdout",
     "output_type": "stream",
     "text": [
      "[2 -  15000] CE_loss: 0.8659 Elapsed Time: 00:02:28\n"
     ]
    },
    {
     "name": "stdout",
     "output_type": "stream",
     "text": [
      "[3 -   7500] CE_loss: 0.8886 Elapsed Time: 00:01:14\n"
     ]
    },
    {
     "name": "stdout",
     "output_type": "stream",
     "text": [
      "[3 -  15000] CE_loss: 0.8799 Elapsed Time: 00:02:28\n",
      "[N: 5] AB_loss: 0.0336 E_loss: 0.8659 Elapsed Time: 01:13:11\n"
     ]
    }
   ],
   "source": [
    "AB, BE = validate(num_times=5)"
   ]
  },
  {
   "cell_type": "code",
   "execution_count": 65,
   "metadata": {
    "autoscroll": false,
    "collapsed": false,
    "ein.hycell": false,
    "ein.tags": "worksheet-0",
    "slideshow": {
     "slide_type": "-"
    }
   },
   "outputs": [
    {
     "data": {
      "image/png": "[encoded data removed]",
      "text/plain": [
       "<Figure size 1008x576 with 1 Axes>"
      ]
     },
     "metadata": {},
     "output_type": "display_data"
    }
   ],
   "source": [
    "def plot_best_eves(AB, BE):\n",
    "    plt.figure(figsize=(14,8))\n",
    "    plt.scatter(AB,BE, marker='x')\n",
    "    plt.xlabel(\"Alice-Bob Error\", fontsize=14)\n",
    "    plt.ylabel(\"Best Eve Error\", fontsize=14)\n",
    "    plt.grid(True, which='both')\n",
    "    plt.show()\n",
    "\n",
    "plot_best_eves(AB, BE)"
   ]
  }
 ],
 "metadata": {
  "kernelspec": {
   "argv": [
    "python",
    "-m",
    "ipykernel_launcher",
    "-f",
    "{connection_file}"
   ],
   "display_name": "Python 3",
   "env": null,
   "interrupt_mode": "signal",
   "language": "python",
   "metadata": null,
   "name": "python3"
  },
  "language_info": {
   "codemirror_mode": {
    "name": "ipython",
    "version": 3
   },
   "file_extension": ".py",
   "mimetype": "text/x-python",
   "name": "python",
   "nbconvert_exporter": "python",
   "pygments_lexer": "ipython3",
   "version": "3.7.4"
  },
  "name": "symmetric_encryption.ipynb"
 },
 "nbformat": 4,
 "nbformat_minor": 4
}
