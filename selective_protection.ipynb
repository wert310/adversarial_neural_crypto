{
 "cells": [
  {
   "cell_type": "code",
   "execution_count": 3,
   "metadata": {
    "autoscroll": false,
    "collapsed": false,
    "ein.hycell": false,
    "ein.tags": "worksheet-0",
    "slideshow": {
     "slide_type": "-"
    }
   },
   "outputs": [],
   "source": [
    "import torch\n",
    "import torch.nn as nn\n",
    "import torch.nn.functional as F\n",
    "import torch.optim as optim\n",
    "\n",
    "import matplotlib.pyplot as plt\n",
    "import numpy as np"
   ]
  },
  {
   "cell_type": "code",
   "execution_count": 183,
   "metadata": {
    "autoscroll": false,
    "collapsed": false,
    "ein.hycell": false,
    "ein.tags": "worksheet-0",
    "slideshow": {
     "slide_type": "-"
    }
   },
   "outputs": [],
   "source": [
    "class SPNet(nn.Module):\n",
    "    def __init__(self, N=8, has_key=True):\n",
    "        super(SPNet, self).__init__()\n",
    "        self.N = N\n",
    "\n",
    "        self.fc1   = nn.Linear(in_features=N+4 if has_key else 4, out_features=4+N)\n",
    "        self.fc2   = nn.Linear(in_features=N+4, out_features=N) ## 2*N????\n",
    "        self.conv1 = nn.Conv1d(kernel_size=4, in_channels=1, out_channels=2, stride=1, padding=2)\n",
    "        self.conv2 = nn.Conv1d(kernel_size=2, in_channels=2, out_channels=4, stride=2)\n",
    "        self.conv3 = nn.Conv1d(kernel_size=1, in_channels=4, out_channels=4, stride=1)\n",
    "        self.conv4 = nn.Conv1d(kernel_size=1, in_channels=4, out_channels=1, stride=1)\n",
    "        \n",
    "    def forward(self, x):\n",
    "        #print(x.size())\n",
    "        x = torch.sigmoid( self.fc1(x) )\n",
    "        #print(x.size())\n",
    "        x = torch.sigmoid( self.fc2(x) )\n",
    "        #print(x.size())\n",
    "        x = x.view(-1, 1, self.N)\n",
    "        #print(x.size())\n",
    "        x = torch.sigmoid( self.conv1(x) )\n",
    "        #print(x.size())\n",
    "        x = torch.sigmoid( self.conv2(x) )\n",
    "        #print(x.size())\n",
    "        x = torch.sigmoid( self.conv3(x) )\n",
    "        #print(x.size())\n",
    "        x = torch.tanh(    self.conv4(x) )\n",
    "        #print(x.size())\n",
    "        x = x.view(-1, 4)\n",
    "        #print(x.size())\n",
    "        return x"
   ]
  },
  {
   "cell_type": "code",
   "execution_count": 5,
   "metadata": {
    "autoscroll": false,
    "collapsed": false,
    "ein.hycell": false,
    "ein.tags": "worksheet-0",
    "slideshow": {
     "slide_type": "-"
    }
   },
   "outputs": [],
   "source": [
    "minibatch_size = 4096 # [256..4096]"
   ]
  },
  {
   "cell_type": "code",
   "execution_count": 6,
   "metadata": {
    "autoscroll": false,
    "collapsed": false,
    "ein.hycell": false,
    "ein.tags": "worksheet-0",
    "slideshow": {
     "slide_type": "-"
    }
   },
   "outputs": [
    {
     "data": {
      "text/plain": [
       "device(type='cuda', index=0)"
      ]
     },
     "execution_count": 6,
     "metadata": {},
     "output_type": "execute_result"
    }
   ],
   "source": [
    "DEVICE = torch.device(\"cuda:0\" if torch.cuda.is_available() else \"cpu\")\n",
    "DEVICE"
   ]
  },
  {
   "cell_type": "code",
   "execution_count": 185,
   "metadata": {
    "autoscroll": false,
    "collapsed": false,
    "ein.hycell": false,
    "ein.tags": "worksheet-0",
    "slideshow": {
     "slide_type": "-"
    }
   },
   "outputs": [],
   "source": [
    "square_error = lambda C1, C: torch.mean( torch.pow( C1 - C, 2) )\n",
    "cov = lambda x, y: torch.mean( (x - x.mean()) * (y - y.mean()) )\n",
    "\n",
    "loss_eve = square_error # on the single term C\n",
    "loss_alicebob = (lambda public_error, bob_error, C_eve, C: \n",
    "    # square_error(D_pub, D) + square_error(D_bob, D)\n",
    "      public_error           + bob_error\n",
    "    + torch.abs( cov(C_eve, C) ))"
   ]
  },
  {
   "cell_type": "code",
   "execution_count": 141,
   "metadata": {
    "autoscroll": false,
    "collapsed": false,
    "ein.hycell": false,
    "ein.tags": "worksheet-0",
    "slideshow": {
     "slide_type": "-"
    }
   },
   "outputs": [
    {
     "data": {
      "text/plain": [
       "tensor([[ 1.5498, -1.9953,  0.4826, -0.4022],\n        [ 0.1954,  0.1145,  0.6944,  0.6652],\n        [-1.1558,  0.2236, -1.5166,  0.3414],\n        ...,\n        [-0.3483,  0.3847, -0.3438, -0.1764],\n        [-1.0419, -0.0525, -1.0400,  0.8917],\n        [-0.8600, -2.4994, -0.0464,  0.4576]], device='cuda:0')"
      ]
     },
     "execution_count": 141,
     "metadata": {},
     "output_type": "execute_result"
    }
   ],
   "source": [
    "# correlation matrix (symmetric positive definite matrix with ones in the diagonal)\n",
    "C = torch.rand(size=(4,4), dtype=torch.float)\n",
    "C = C - C*torch.eye(4) + torch.eye(4)\n",
    "C = C * C.T\n",
    "L = torch.cholesky(C).to(DEVICE)\n",
    "\n",
    "# gen data example\n",
    "K = torch.randint(low=0, high=2, size=(minibatch_size, 8), dtype=torch.float).to(DEVICE)*2-1\n",
    "uncorrelated_ABCD = torch.randn(size=(minibatch_size, 4), dtype=torch.float).to(DEVICE)\n",
    "ABCD = uncorrelated_ABCD @ L\n",
    "ABCD"
   ]
  },
  {
   "cell_type": "code",
   "execution_count": 188,
   "metadata": {
    "autoscroll": false,
    "collapsed": false,
    "ein.hycell": false,
    "ein.tags": "worksheet-0",
    "slideshow": {
     "slide_type": "-"
    }
   },
   "outputs": [
    {
     "name": "stdout",
     "output_type": "stream",
     "text": [
      "[  1000] PE 0.4687 BE 0.7839 AB_loss: 1.2526 E_loss: 0.7582\n"
     ]
    },
    {
     "name": "stdout",
     "output_type": "stream",
     "text": [
      "[  2000] PE 0.1640 BE 0.1478 AB_loss: 0.3334 E_loss: 0.7736\n"
     ]
    },
    {
     "name": "stdout",
     "output_type": "stream",
     "text": [
      "[  3000] PE 0.1240 BE 0.1166 AB_loss: 0.2587 E_loss: 0.7485\n"
     ]
    },
    {
     "name": "stdout",
     "output_type": "stream",
     "text": [
      "[  4000] PE 0.1094 BE 0.1056 AB_loss: 0.2354 E_loss: 0.7453\n"
     ]
    },
    {
     "name": "stdout",
     "output_type": "stream",
     "text": [
      "[  5000] PE 0.1080 BE 0.1059 AB_loss: 0.2339 E_loss: 0.7787\n"
     ]
    },
    {
     "name": "stdout",
     "output_type": "stream",
     "text": [
      "[  6000] PE 0.0996 BE 0.0983 AB_loss: 0.2172 E_loss: 0.7204\n"
     ]
    },
    {
     "name": "stdout",
     "output_type": "stream",
     "text": [
      "[  7000] PE 0.1086 BE 0.1076 AB_loss: 0.2375 E_loss: 0.7463\n"
     ]
    },
    {
     "name": "stdout",
     "output_type": "stream",
     "text": [
      "[  8000] PE 0.1034 BE 0.1026 AB_loss: 0.2261 E_loss: 0.7389\n"
     ]
    },
    {
     "name": "stdout",
     "output_type": "stream",
     "text": [
      "[  9000] PE 0.0904 BE 0.0898 AB_loss: 0.1986 E_loss: 0.7792\n"
     ]
    },
    {
     "name": "stdout",
     "output_type": "stream",
     "text": [
      "[ 10000] PE 0.0961 BE 0.0956 AB_loss: 0.2104 E_loss: 0.7762\n"
     ]
    },
    {
     "name": "stdout",
     "output_type": "stream",
     "text": [
      "[ 11000] PE 0.0915 BE 0.0911 AB_loss: 0.2018 E_loss: 0.7693\n"
     ]
    },
    {
     "name": "stdout",
     "output_type": "stream",
     "text": [
      "[ 12000] PE 0.0979 BE 0.0975 AB_loss: 0.2138 E_loss: 0.7339\n"
     ]
    },
    {
     "name": "stdout",
     "output_type": "stream",
     "text": [
      "[ 13000] PE 0.1041 BE 0.1038 AB_loss: 0.2247 E_loss: 0.7684\n"
     ]
    },
    {
     "name": "stdout",
     "output_type": "stream",
     "text": [
      "[ 14000] PE 0.1001 BE 0.0999 AB_loss: 0.2201 E_loss: 0.7721\n"
     ]
    },
    {
     "name": "stdout",
     "output_type": "stream",
     "text": [
      "[ 15000] PE 0.1045 BE 0.1042 AB_loss: 0.2301 E_loss: 0.7418\n"
     ]
    },
    {
     "name": "stdout",
     "output_type": "stream",
     "text": [
      "[ 16000] PE 0.1015 BE 0.1012 AB_loss: 0.2214 E_loss: 0.7359\n"
     ]
    },
    {
     "name": "stdout",
     "output_type": "stream",
     "text": [
      "[ 17000] PE 0.1078 BE 0.1075 AB_loss: 0.2343 E_loss: 0.7411\n"
     ]
    },
    {
     "name": "stdout",
     "output_type": "stream",
     "text": [
      "[ 18000] PE 0.0977 BE 0.0976 AB_loss: 0.2137 E_loss: 0.7679\n"
     ]
    },
    {
     "name": "stdout",
     "output_type": "stream",
     "text": [
      "[ 19000] PE 0.1151 BE 0.1149 AB_loss: 0.2504 E_loss: 0.7540\n"
     ]
    },
    {
     "name": "stdout",
     "output_type": "stream",
     "text": [
      "[ 20000] PE 0.1106 BE 0.1104 AB_loss: 0.2418 E_loss: 0.7373\n"
     ]
    },
    {
     "ename": "KeyboardInterrupt",
     "evalue": "",
     "output_type": "error",
     "traceback": [
      "\u001b[0;31m---------------------------------------------------------------------------\u001b[0m",
      "\u001b[0;31mKeyboardInterrupt\u001b[0m                         Traceback (most recent call last)",
      "\u001b[0;32m<ipython-input-188-5883b1a3f57f>\u001b[0m in \u001b[0;36m<module>\u001b[0;34m\u001b[0m\n\u001b[1;32m     43\u001b[0m                 \u001b[0mAB_loss\u001b[0m\u001b[0;34m.\u001b[0m\u001b[0mbackward\u001b[0m\u001b[0;34m(\u001b[0m\u001b[0;34m)\u001b[0m\u001b[0;34m\u001b[0m\u001b[0;34m\u001b[0m\u001b[0m\n\u001b[1;32m     44\u001b[0m                 \u001b[0mA_optimizer\u001b[0m\u001b[0;34m.\u001b[0m\u001b[0mstep\u001b[0m\u001b[0;34m(\u001b[0m\u001b[0;34m)\u001b[0m\u001b[0;34m\u001b[0m\u001b[0;34m\u001b[0m\u001b[0m\n\u001b[0;32m---> 45\u001b[0;31m                 \u001b[0mB_optimizer\u001b[0m\u001b[0;34m.\u001b[0m\u001b[0mstep\u001b[0m\u001b[0;34m(\u001b[0m\u001b[0;34m)\u001b[0m\u001b[0;34m\u001b[0m\u001b[0;34m\u001b[0m\u001b[0m\n\u001b[0m\u001b[1;32m     46\u001b[0m \u001b[0;34m\u001b[0m\u001b[0m\n\u001b[1;32m     47\u001b[0m             \u001b[0;32mif\u001b[0m \u001b[0mwho\u001b[0m \u001b[0;34m==\u001b[0m \u001b[0;34m'E'\u001b[0m\u001b[0;34m:\u001b[0m\u001b[0;34m\u001b[0m\u001b[0;34m\u001b[0m\u001b[0m\n",
      "\u001b[0;32m/opt/conda/lib/python3.7/site-packages/torch/optim/adam.py\u001b[0m in \u001b[0;36mstep\u001b[0;34m(self, closure)\u001b[0m\n\u001b[1;32m    101\u001b[0m                     \u001b[0mdenom\u001b[0m \u001b[0;34m=\u001b[0m \u001b[0;34m(\u001b[0m\u001b[0mmax_exp_avg_sq\u001b[0m\u001b[0;34m.\u001b[0m\u001b[0msqrt\u001b[0m\u001b[0;34m(\u001b[0m\u001b[0;34m)\u001b[0m \u001b[0;34m/\u001b[0m \u001b[0mmath\u001b[0m\u001b[0;34m.\u001b[0m\u001b[0msqrt\u001b[0m\u001b[0;34m(\u001b[0m\u001b[0mbias_correction2\u001b[0m\u001b[0;34m)\u001b[0m\u001b[0;34m)\u001b[0m\u001b[0;34m.\u001b[0m\u001b[0madd_\u001b[0m\u001b[0;34m(\u001b[0m\u001b[0mgroup\u001b[0m\u001b[0;34m[\u001b[0m\u001b[0;34m'eps'\u001b[0m\u001b[0;34m]\u001b[0m\u001b[0;34m)\u001b[0m\u001b[0;34m\u001b[0m\u001b[0;34m\u001b[0m\u001b[0m\n\u001b[1;32m    102\u001b[0m                 \u001b[0;32melse\u001b[0m\u001b[0;34m:\u001b[0m\u001b[0;34m\u001b[0m\u001b[0;34m\u001b[0m\u001b[0m\n\u001b[0;32m--> 103\u001b[0;31m                     \u001b[0mdenom\u001b[0m \u001b[0;34m=\u001b[0m \u001b[0;34m(\u001b[0m\u001b[0mexp_avg_sq\u001b[0m\u001b[0;34m.\u001b[0m\u001b[0msqrt\u001b[0m\u001b[0;34m(\u001b[0m\u001b[0;34m)\u001b[0m \u001b[0;34m/\u001b[0m \u001b[0mmath\u001b[0m\u001b[0;34m.\u001b[0m\u001b[0msqrt\u001b[0m\u001b[0;34m(\u001b[0m\u001b[0mbias_correction2\u001b[0m\u001b[0;34m)\u001b[0m\u001b[0;34m)\u001b[0m\u001b[0;34m.\u001b[0m\u001b[0madd_\u001b[0m\u001b[0;34m(\u001b[0m\u001b[0mgroup\u001b[0m\u001b[0;34m[\u001b[0m\u001b[0;34m'eps'\u001b[0m\u001b[0;34m]\u001b[0m\u001b[0;34m)\u001b[0m\u001b[0;34m\u001b[0m\u001b[0;34m\u001b[0m\u001b[0m\n\u001b[0m\u001b[1;32m    104\u001b[0m \u001b[0;34m\u001b[0m\u001b[0m\n\u001b[1;32m    105\u001b[0m                 \u001b[0mstep_size\u001b[0m \u001b[0;34m=\u001b[0m \u001b[0mgroup\u001b[0m\u001b[0;34m[\u001b[0m\u001b[0;34m'lr'\u001b[0m\u001b[0;34m]\u001b[0m \u001b[0;34m/\u001b[0m \u001b[0mbias_correction1\u001b[0m\u001b[0;34m\u001b[0m\u001b[0;34m\u001b[0m\u001b[0m\n",
      "\u001b[0;31mKeyboardInterrupt\u001b[0m: "
     ]
    }
   ],
   "source": [
    "max_iter = 150000\n",
    "ABs = []\n",
    "Es  = []\n",
    "PEs = []\n",
    "BEs = []\n",
    "\n",
    "A = SPNet(has_key=True).to(DEVICE)\n",
    "B = SPNet(has_key=True).to(DEVICE)\n",
    "E = SPNet(has_key=False).to(DEVICE)\n",
    "#BE = SPNet(has_key=???).to(DEVICE) # Blind_Eve  is aware of the distribution of C ???\n",
    "\n",
    "A_optimizer = optim.Adam(A.parameters(), lr=0.0008)\n",
    "B_optimizer = optim.Adam(B.parameters(), lr=0.0008)\n",
    "E_optimizer = optim.Adam(E.parameters(), lr=0.0008)\n",
    "\n",
    "A.train()\n",
    "B.train()\n",
    "E.train()\n",
    "\n",
    "for ic in range(max_iter):\n",
    "    for who, num_minibatches in [('AB', 1), ('E', 2)]:\n",
    "        for _ in range(num_minibatches):\n",
    "            K = torch.randint(low=0, high=2, size=(minibatch_size, 8), dtype=torch.float).to(DEVICE)*2-1\n",
    "            uncorrelated_ABCD = torch.randn(size=(minibatch_size, 4), dtype=torch.float).to(DEVICE)\n",
    "            ABCD = uncorrelated_ABCD @ L\n",
    "            C = ABCD[:,2]\n",
    "            D = ABCD[:,3]\n",
    "            \n",
    "            DENC = A(torch.cat((ABCD, K), dim=1))\n",
    "            BOBD = B(torch.cat((DENC, K), dim=1))\n",
    "            EVEC = E(DENC)\n",
    "\n",
    "            D_pub = DENC[:,3] # 4th col is D\n",
    "            D_bob = BOBD[:,3]\n",
    "            C_eve = EVEC[:,2] # 3rd col is C\n",
    "            \n",
    "            if who == 'AB':\n",
    "                public_error = square_error(D_pub, D)\n",
    "                bob_error = square_error(D_bob, D)\n",
    "                AB_loss = loss_alicebob(public_error, bob_error, C_eve, C)\n",
    "                A_optimizer.zero_grad()\n",
    "                B_optimizer.zero_grad()\n",
    "                AB_loss.backward()\n",
    "                A_optimizer.step()\n",
    "                B_optimizer.step()\n",
    "\n",
    "            if who == 'E':\n",
    "                E_loss = loss_eve(C_eve, C)\n",
    "                E_optimizer.zero_grad()\n",
    "                E_loss.backward()\n",
    "                E_optimizer.step()\n",
    "\n",
    "    if ic % 1000 == 999:\n",
    "        print(\"[{:6d}] PE {:2.4f} BE {:2.4f} AB_loss: {:2.4f} E_loss: {:2.4f}\".format(ic+1, public_error, bob_error, AB_loss, E_loss))\n",
    "    ABs.append(AB_loss.item())\n",
    "    Es.append(E_loss.item())\n",
    "    PEs.append(public_error.item())\n",
    "    BEs.append(bob_error.item())\n",
    "    if AB_loss < 0.005 and E_loss > 0.5: # AB_loss < 0.05 and E_loss > 2\n",
    "        break\n",
    "                \n",
    "            "
   ]
  },
  {
   "cell_type": "code",
   "execution_count": 189,
   "metadata": {
    "autoscroll": false,
    "collapsed": false,
    "ein.hycell": false,
    "ein.tags": "worksheet-0",
    "slideshow": {
     "slide_type": "-"
    }
   },
   "outputs": [
    {
     "data": {
      "image/png": "[encoded data removed]",
      "text/plain": [
       "<Figure size 1008x576 with 1 Axes>"
      ]
     },
     "metadata": {},
     "output_type": "display_data"
    }
   ],
   "source": [
    "plt.figure(figsize=(14,8))\n",
    "#plt.plot(range(1, len(ABs)+1), ABs, label='Alice/Bob')\n",
    "#plt.plot(range(1, len(Es)+1), Es, label='Eve')\n",
    "plt.plot(range(1, len(PEs)+1), PEs, label='Public Error')\n",
    "plt.plot(range(1, len(BEs)+1), BEs, label='Bob Error')\n",
    "plt.xlabel(\"Iteration\", fontsize=14)\n",
    "plt.ylabel(\"Loss\", fontsize=14)\n",
    "plt.legend(fontsize=14)\n",
    "plt.grid(True, which='both')\n",
    "plt.show()"
   ]
  }
 ],
 "metadata": {
  "kernelspec": {
   "argv": [
    "python",
    "-m",
    "ipykernel_launcher",
    "-f",
    "{connection_file}"
   ],
   "display_name": "Python 3",
   "env": null,
   "interrupt_mode": "signal",
   "language": "python",
   "metadata": null,
   "name": "python3"
  },
  "name": "selective_protection.ipynb"
 },
 "nbformat": 4,
 "nbformat_minor": 4
}
