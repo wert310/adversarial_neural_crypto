{
 "cells": [
  {
   "cell_type": "code",
   "execution_count": 22,
   "metadata": {
    "autoscroll": false,
    "collapsed": false,
    "ein.hycell": false,
    "ein.tags": "worksheet-0",
    "slideshow": {
     "slide_type": "-"
    }
   },
   "outputs": [],
   "source": [
    "import time\n",
    "\n",
    "import torch\n",
    "import torch.nn as nn\n",
    "import torch.nn.functional as F\n",
    "import torch.optim as optim\n",
    "\n",
    "import matplotlib.pyplot as plt\n",
    "import numpy as np\n"
   ]
  },
  {
   "cell_type": "code",
   "execution_count": 23,
   "metadata": {
    "autoscroll": false,
    "collapsed": false,
    "ein.hycell": false,
    "ein.tags": "worksheet-0",
    "slideshow": {
     "slide_type": "-"
    }
   },
   "outputs": [],
   "source": [
    "DEVICE = torch.device(\"cuda:0\" if torch.cuda.is_available() else \"cpu\")\n",
    "N = 16\n",
    "minibatch_size = 4096\n",
    "\n",
    "def reconstruction_error(Out, Original):\n",
    "    return torch.mean( torch.sum( torch.sign(Original) != torch.sign(Out), dim=1)\n",
    "                       .to(torch.float), dim=0).item()\n",
    "\n",
    "def gen_bitstring(N, batch_size=minibatch_size):\n",
    "    return torch.randint(low=0, high=2, size=(batch_size,N), dtype=torch.float).to(DEVICE)*2-1\n"
   ]
  },
  {
   "cell_type": "code",
   "execution_count": 24,
   "metadata": {
    "autoscroll": false,
    "collapsed": false,
    "ein.hycell": false,
    "ein.tags": "worksheet-0",
    "slideshow": {
     "slide_type": "-"
    }
   },
   "outputs": [],
   "source": [
    "class ABENet(nn.Module):\n",
    "    def __init__(self, N, has_key=True):\n",
    "        super(ABENet, self).__init__()\n",
    "        self.N = N\n",
    "        \n",
    "        self.fc    = nn.Linear(in_features=2*N if has_key else N, out_features=2*N)\n",
    "        self.conv1 = nn.Conv1d(kernel_size=4, in_channels=1, out_channels=2, stride=1, padding=2)\n",
    "        self.conv2 = nn.Conv1d(kernel_size=2, in_channels=2, out_channels=4, stride=2)\n",
    "        self.conv3 = nn.Conv1d(kernel_size=1, in_channels=4, out_channels=4, stride=1)\n",
    "        self.conv4 = nn.Conv1d(kernel_size=1, in_channels=4, out_channels=1, stride=1)\n",
    "\n",
    "    def forward(self, x):\n",
    "        x = torch.sigmoid( self.fc(x) )\n",
    "        x = x.view(-1, 1, 2*self.N)\n",
    "        x = torch.sigmoid( self.conv1(x) )\n",
    "        x = torch.sigmoid( self.conv2(x) )\n",
    "        x = torch.sigmoid( self.conv3(x) )\n",
    "        x = torch.tanh(    self.conv4(x) )\n",
    "        x = x.view(-1, self.N)\n",
    "        return x\n",
    "\n",
    "\n",
    "class EPPNet(nn.Module):\n",
    "    def __init__(self, N):\n",
    "        super(EPPNet, self).__init__()\n",
    "        self.N = N\n",
    "        \n",
    "        self.fc    = nn.Linear(in_features=N, out_features=2*N)\n",
    "        self.conv1 = nn.Conv1d(kernel_size=4, in_channels=1, out_channels=2, stride=1, padding=2)\n",
    "        self.conv2 = nn.Conv1d(kernel_size=2, in_channels=2, out_channels=4, stride=2)\n",
    "        self.conv3 = nn.Conv1d(kernel_size=1, in_channels=4, out_channels=4, stride=1)\n",
    "        self.conv4 = nn.Conv1d(kernel_size=1, in_channels=4, out_channels=4, stride=1)\n",
    "        self.conv5 = nn.Conv1d(kernel_size=1, in_channels=4, out_channels=4, stride=1)\n",
    "        self.conv6 = nn.Conv1d(kernel_size=1, in_channels=4, out_channels=1, stride=1)\n",
    "\n",
    "    def forward(self, x):\n",
    "        x = torch.sigmoid( self.fc(x) )\n",
    "        x = x.view(-1, 1, 2*self.N)\n",
    "        x = torch.sigmoid( self.conv1(x) )\n",
    "        x = torch.sigmoid( self.conv2(x) )\n",
    "        x = torch.sigmoid( self.conv3(x) )\n",
    "        x = torch.sigmoid( self.conv4(x) )\n",
    "        x = torch.sigmoid( self.conv5(x) )\n",
    "        x = torch.tanh(    self.conv6(x) )\n",
    "        x = x.view(-1, self.N)\n",
    "        return x\n"
   ]
  },
  {
   "cell_type": "code",
   "execution_count": 25,
   "metadata": {
    "autoscroll": false,
    "collapsed": false,
    "ein.hycell": false,
    "ein.tags": "worksheet-0",
    "slideshow": {
     "slide_type": "-"
    }
   },
   "outputs": [
    {
     "data": {
      "text/plain": [
       "device(type='cuda', index=0)"
      ]
     },
     "execution_count": 25,
     "metadata": {},
     "output_type": "execute_result"
    }
   ],
   "source": [
    "DEVICE = torch.device(\"cuda:0\" if torch.cuda.is_available() else \"cpu\")\n",
    "DEVICE\n"
   ]
  },
  {
   "cell_type": "code",
   "execution_count": 38,
   "metadata": {
    "autoscroll": false,
    "collapsed": false,
    "ein.hycell": false,
    "ein.tags": "worksheet-0",
    "slideshow": {
     "slide_type": "-"
    }
   },
   "outputs": [],
   "source": [
    "\n",
    "EPP_NO, EPP_LAYER, EPP_RAND = range(3)\n",
    "\n",
    "l1_norm = nn.L1Loss()\n",
    "loss_eve = l1_norm\n",
    "loss_bob = l1_norm\n",
    "loss_alicebob = lambda P_bob, P_eve, P: loss_bob(P_bob, P) + (((1.0 - loss_eve(P_eve, P))**2))\n",
    "\n",
    "\n",
    "def train_abe(A, B, E,\n",
    "              lr=0.0008,\n",
    "              max_iter=150000,\n",
    "              debug_print=1000,\n",
    "              loss_eve=loss_eve,\n",
    "              loss_alicebob=loss_alicebob,\n",
    "              stop_condition=(lambda AB_loss, E_loss, AB_rec, E_rec:\n",
    "                              #AB_loss < 0.005 and E_loss > 0.5\n",
    "                              AB_rec < 0.05 and E_rec > 7.5),\n",
    "              EPP=EPP_NO):\n",
    "    \n",
    "    # Optimizers\n",
    "    A_optimizer = optim.Adam(A.parameters(), lr=0.0008)\n",
    "    B_optimizer = optim.Adam(B.parameters(), lr=0.0008)\n",
    "    E_optimizer = optim.Adam(E.parameters(), lr=0.0008)\n",
    "\n",
    "    ABs = [] # AB loss values\n",
    "    Es  = [] # E loss values\n",
    "\n",
    "    Rec_B = []\n",
    "    Rec_E = []\n",
    "    \n",
    "    [X.train() for X in [A,B,E]] # Set models in training mode\n",
    "\n",
    "    start_time = time.time()\n",
    "    for ic in range(max_iter):\n",
    "        # Train A/B for 1 minibtach and E for 2 minibatches to give it some advantage\n",
    "        for who, num_minibatches in [('AB', 1), ('E', 2)]:\n",
    "            for _ in range(num_minibatches):\n",
    "                P = gen_bitstring(N, batch_size=minibatch_size)\n",
    "                K = gen_bitstring(N, batch_size=minibatch_size) \n",
    "\n",
    "                C     = A(torch.cat((P, K), dim=1))\n",
    "                P_bob = B(torch.cat((C, K), dim=1))\n",
    "                if EPP == EPP_RAND:\n",
    "                    RK = gen_bitstring(N, batch_size=minibatch_size)\n",
    "                    P_eve = E(torch.cat((C, RK), dim=1))\n",
    "                else:\n",
    "                    P_eve = E(C)\n",
    "                    \n",
    "                if who == 'AB':\n",
    "                    A_optimizer.zero_grad()\n",
    "                    B_optimizer.zero_grad()\n",
    "                    AB_loss = loss_alicebob(P_bob, P_eve, P)\n",
    "                \n",
    "                    AB_loss.backward()\n",
    "                    A_optimizer.step()\n",
    "                    B_optimizer.step()\n",
    "                \n",
    "                elif who == 'E':\n",
    "                    E_optimizer.zero_grad()\n",
    "                    E_loss  = loss_eve(P_eve, P)\n",
    "                    \n",
    "                    E_loss.backward()\n",
    "                    E_optimizer.step()\n",
    "\n",
    "        if debug_print > 0 and ic % debug_print == (debug_print-1):\n",
    "            elapsed_time = time.time() - start_time\n",
    "            print(\"[{:6d}] AB_loss: {:2.4f} E_loss: {:2.4f} Elapsed Time: {}\".format(\n",
    "                ic+1, AB_loss, E_loss, time.strftime(\"%H:%M:%S\", time.gmtime(elapsed_time))))\n",
    "\n",
    "        AB_rec = reconstruction_error(P, P_bob)\n",
    "        E_rec = reconstruction_error(P, P_eve)\n",
    "        Rec_B.append(AB_rec)\n",
    "        Rec_E.append(E_rec)\n",
    "        ABs.append(AB_loss.item())\n",
    "        Es.append(E_loss.item())\n",
    "\n",
    "        if stop_condition(AB_loss, E_loss, AB_rec, E_rec):\n",
    "            break\n",
    "\n",
    "    [X.train(False) for X in [A,B,E]]\n",
    "    return ABs, Es, Rec_B, Rec_E\n",
    "\n",
    "\n",
    "def train_best_eve(A, E,\n",
    "                   max_iter=250000,\n",
    "                   retries=5,\n",
    "                   debug_print=10000,\n",
    "                   EPP=EPP_NO):\n",
    "\n",
    "    Best_E_Rec = float(\"Inf\")\n",
    "    Best_E_loss = float(\"Inf\")\n",
    "    Best_E = None\n",
    "\n",
    "    for es in range(retries):\n",
    "        if EPP == EPP_LAYER:\n",
    "            CE = EPPNet(N).to(DEVICE)\n",
    "        elif EPP == EPP_RAND:\n",
    "            CE = ABENet(N, has_key=True).to(DEVICE)\n",
    "        else:\n",
    "            CE = ABENet(N, has_key=False).to(DEVICE)\n",
    "            \n",
    "        CE_optimizer = optim.Adam(CE.parameters(), lr=0.0008)\n",
    "        CE.train()\n",
    "        start_time = time.time()\n",
    "        for ic in range(max_iter):\n",
    "            P = gen_bitstring(N, batch_size=minibatch_size)\n",
    "            K = gen_bitstring(N, batch_size=minibatch_size)\n",
    "                   \n",
    "            C       = A(torch.cat((P, K), dim=1))\n",
    "            if EPP == EPP_RAND:\n",
    "                RK = gen_bitstring(N, batch_size=minibatch_size)\n",
    "                P_eve = CE(torch.cat((C, RK), dim=1))\n",
    "            else:\n",
    "                P_eve = CE(C)\n",
    "\n",
    "            CE_loss = loss_eve(P_eve, P)\n",
    "            CE_optimizer.zero_grad()\n",
    "            CE_loss.backward()\n",
    "            CE_optimizer.step()\n",
    "\n",
    "            if debug_print > 0 and ic % debug_print == (debug_print-1):\n",
    "                elapsed_time = time.time() - start_time\n",
    "                print(\"[{:d} - {:6d}] CE_loss: {:2.4f} Elapsed Time: {}\".format(\n",
    "                    es+1, ic+1, CE_loss, time.strftime(\"%H:%M:%S\", time.gmtime(elapsed_time))))\n",
    "\n",
    "            if CE_loss <= 0.05:\n",
    "                raise RuntimeError(\"Optimal E found!\")\n",
    "                break\n",
    "            \n",
    "        if CE_loss.item() < Best_E_loss:\n",
    "            Best_E_loss = CE_loss.item()\n",
    "            Best_E = CE\n",
    "            Best_E_Rec = reconstruction_error(P, P_eve)\n",
    "\n",
    "    return Best_E, Best_E_loss, Best_E_Rec\n",
    "\n",
    "def validate_pp(num_times=3, max_iter_abe=15000, retries=5, max_iter_e=15000, EPP=(EPP_NO, EPP_NO)):\n",
    "\n",
    "    EPP_train, EPP_validate = EPP\n",
    "\n",
    "    AB     = []\n",
    "    AB_rec = []\n",
    "    BE     = []\n",
    "    BE_rec = []\n",
    "    start_time = time.time()\n",
    "    for n in range(num_times):\n",
    "        A = ABENet(N, has_key=True).to(DEVICE)\n",
    "        B = ABENet(N, has_key=True).to(DEVICE)\n",
    "\n",
    "        if EPP_train == EPP_LAYER:\n",
    "            # E++Layers\n",
    "            E = EPPNet(N).to(DEVICE)\n",
    "        elif EPP_train == EPP_RAND:\n",
    "            # E++Random    \n",
    "            E = ABENet(N, has_key=True).to(DEVICE)\n",
    "        else:\n",
    "            # E\n",
    "            E = ABENet(N, has_key=False).to(DEVICE)\n",
    "\n",
    "        ABs, Es, RABs, REs = train_abe(A,B,E, max_iter=max_iter_abe, debug_print=5000, EPP=EPP_train)\n",
    "            \n",
    "        _, Best_E_loss, BRE = train_best_eve(\n",
    "            A, E, retries=retries, max_iter=max_iter_e, debug_print=7500, EPP=EPP_validate)\n",
    "\n",
    "        AB.append(ABs[-1])\n",
    "        AB_rec.append(RABs[-1])\n",
    "        BE.append(Best_E_loss)\n",
    "        BE_rec.append(BRE)\n",
    "        elapsed_time = time.time() - start_time\n",
    "        print(\"[N: {}] AB_loss: {:2.4f} E_loss: {:2.4f} Elapsed Time: {}\".format(\n",
    "            n+1, ABs[-1], Best_E_loss, time.strftime(\"%H:%M:%S\", time.gmtime(elapsed_time))))\n",
    "\n",
    "    return AB, BE, AB_rec, BE_rec\n",
    "\n"
   ]
  },
  {
   "cell_type": "code",
   "execution_count": 27,
   "metadata": {
    "autoscroll": false,
    "collapsed": false,
    "ein.hycell": false,
    "ein.tags": "worksheet-0",
    "slideshow": {
     "slide_type": "-"
    }
   },
   "outputs": [],
   "source": [
    "def plot_best_eves(AB, BE):\n",
    "    plt.figure(figsize=(14,8))\n",
    "    plt.scatter(AB,BE, marker='x')\n",
    "    plt.xlabel(\"Alice-Bob Error\", fontsize=14)\n",
    "    plt.ylabel(\"Best Eve Error\", fontsize=14)\n",
    "    plt.grid(True, which='both')\n",
    "    plt.show()"
   ]
  },
  {
   "cell_type": "code",
   "execution_count": 32,
   "metadata": {
    "autoscroll": false,
    "collapsed": false,
    "ein.hycell": false,
    "ein.tags": "worksheet-0",
    "slideshow": {
     "slide_type": "-"
    }
   },
   "outputs": [
    {
     "name": "stdout",
     "output_type": "stream",
     "text": [
      "[  5000] AB_loss: 0.0096 E_loss: 0.9170 Elapsed Time: 00:02:50\n"
     ]
    },
    {
     "name": "stdout",
     "output_type": "stream",
     "text": [
      "[1 -   7500] CE_loss: 0.8424 Elapsed Time: 00:01:27\n"
     ]
    },
    {
     "name": "stdout",
     "output_type": "stream",
     "text": [
      "[1 -  15000] CE_loss: 0.8430 Elapsed Time: 00:02:54\n"
     ]
    },
    {
     "name": "stdout",
     "output_type": "stream",
     "text": [
      "[1 -  22500] CE_loss: 0.8449 Elapsed Time: 00:04:21\n"
     ]
    },
    {
     "name": "stdout",
     "output_type": "stream",
     "text": [
      "[2 -   7500] CE_loss: 0.8402 Elapsed Time: 00:01:27\n"
     ]
    },
    {
     "name": "stdout",
     "output_type": "stream",
     "text": [
      "[2 -  15000] CE_loss: 0.8407 Elapsed Time: 00:02:54\n"
     ]
    },
    {
     "name": "stdout",
     "output_type": "stream",
     "text": [
      "[2 -  22500] CE_loss: 0.8410 Elapsed Time: 00:04:22\n"
     ]
    },
    {
     "name": "stdout",
     "output_type": "stream",
     "text": [
      "[3 -   7500] CE_loss: 0.8424 Elapsed Time: 00:01:26\n"
     ]
    },
    {
     "name": "stdout",
     "output_type": "stream",
     "text": [
      "[3 -  15000] CE_loss: 0.8283 Elapsed Time: 00:02:53\n"
     ]
    },
    {
     "name": "stdout",
     "output_type": "stream",
     "text": [
      "[3 -  22500] CE_loss: 0.8340 Elapsed Time: 00:04:20\n",
      "[N: 1] AB_loss: 0.0083 E_loss: 0.8340 Elapsed Time: 00:16:17\n"
     ]
    },
    {
     "name": "stdout",
     "output_type": "stream",
     "text": [
      "[  5000] AB_loss: 0.0242 E_loss: 0.8808 Elapsed Time: 00:02:50\n"
     ]
    },
    {
     "name": "stdout",
     "output_type": "stream",
     "text": [
      "[1 -   7500] CE_loss: 0.8318 Elapsed Time: 00:01:27\n"
     ]
    },
    {
     "name": "stdout",
     "output_type": "stream",
     "text": [
      "[1 -  15000] CE_loss: 0.8359 Elapsed Time: 00:02:54\n"
     ]
    },
    {
     "name": "stdout",
     "output_type": "stream",
     "text": [
      "[1 -  22500] CE_loss: 0.8261 Elapsed Time: 00:04:21\n"
     ]
    },
    {
     "name": "stdout",
     "output_type": "stream",
     "text": [
      "[2 -   7500] CE_loss: 0.8601 Elapsed Time: 00:01:27\n"
     ]
    },
    {
     "name": "stdout",
     "output_type": "stream",
     "text": [
      "[2 -  15000] CE_loss: 0.8506 Elapsed Time: 00:02:54\n"
     ]
    },
    {
     "name": "stdout",
     "output_type": "stream",
     "text": [
      "[2 -  22500] CE_loss: 0.8482 Elapsed Time: 00:04:22\n"
     ]
    },
    {
     "name": "stdout",
     "output_type": "stream",
     "text": [
      "[3 -   7500] CE_loss: 0.8311 Elapsed Time: 00:01:27\n"
     ]
    },
    {
     "name": "stdout",
     "output_type": "stream",
     "text": [
      "[3 -  15000] CE_loss: 0.8345 Elapsed Time: 00:02:55\n"
     ]
    },
    {
     "name": "stdout",
     "output_type": "stream",
     "text": [
      "[3 -  22500] CE_loss: 0.8416 Elapsed Time: 00:04:22\n",
      "[N: 2] AB_loss: 0.0067 E_loss: 0.8261 Elapsed Time: 00:33:12\n"
     ]
    }
   ],
   "source": [
    "AB1, BE1, AB_rec1, BE_rec1 = validate_pp(num_times=2, retries=3, max_iter_e=22500, EPP=(EPP_NO, EPP_LAYER))"
   ]
  },
  {
   "cell_type": "code",
   "execution_count": 45,
   "metadata": {
    "autoscroll": false,
    "collapsed": false,
    "ein.hycell": false,
    "ein.tags": "worksheet-0",
    "slideshow": {
     "slide_type": "-"
    }
   },
   "outputs": [
    {
     "data": {
      "image/png": "[encoded data removed]",
      "text/plain": [
       "<Figure size 1008x576 with 1 Axes>"
      ]
     },
     "metadata": {},
     "output_type": "display_data"
    },
    {
     "data": {
      "image/png": "[encoded data removed]",
      "text/plain": [
       "<Figure size 1008x576 with 1 Axes>"
      ]
     },
     "metadata": {},
     "output_type": "display_data"
    }
   ],
   "source": [
    "plot_best_eves(AB1, BE1)\n",
    "plot_best_eves(AB_rec1, BE_rec1)"
   ]
  },
  {
   "cell_type": "code",
   "execution_count": 52,
   "metadata": {
    "autoscroll": false,
    "collapsed": false,
    "ein.hycell": false,
    "ein.tags": "worksheet-0",
    "slideshow": {
     "slide_type": "-"
    }
   },
   "outputs": [
    {
     "name": "stdout",
     "output_type": "stream",
     "text": [
      "[  5000] AB_loss: 0.0575 E_loss: 0.8181 Elapsed Time: 00:03:17\n"
     ]
    },
    {
     "name": "stdout",
     "output_type": "stream",
     "text": [
      "[1 -   7500] CE_loss: 0.8271 Elapsed Time: 00:01:27\n"
     ]
    },
    {
     "name": "stdout",
     "output_type": "stream",
     "text": [
      "[1 -  15000] CE_loss: 0.8354 Elapsed Time: 00:02:54\n"
     ]
    },
    {
     "name": "stdout",
     "output_type": "stream",
     "text": [
      "[1 -  22500] CE_loss: 0.8300 Elapsed Time: 00:04:20\n"
     ]
    },
    {
     "name": "stdout",
     "output_type": "stream",
     "text": [
      "[2 -   7500] CE_loss: 0.8380 Elapsed Time: 00:01:27\n"
     ]
    },
    {
     "name": "stdout",
     "output_type": "stream",
     "text": [
      "[2 -  15000] CE_loss: 0.8338 Elapsed Time: 00:02:54\n"
     ]
    },
    {
     "name": "stdout",
     "output_type": "stream",
     "text": [
      "[2 -  22500] CE_loss: 0.8338 Elapsed Time: 00:04:22\n"
     ]
    },
    {
     "name": "stdout",
     "output_type": "stream",
     "text": [
      "[3 -   7500] CE_loss: 0.8253 Elapsed Time: 00:01:27\n"
     ]
    },
    {
     "name": "stdout",
     "output_type": "stream",
     "text": [
      "[3 -  15000] CE_loss: 0.8233 Elapsed Time: 00:02:54\n"
     ]
    },
    {
     "name": "stdout",
     "output_type": "stream",
     "text": [
      "[3 -  22500] CE_loss: 0.8184 Elapsed Time: 00:04:22\n",
      "[N: 1] AB_loss: 0.0076 E_loss: 0.8184 Elapsed Time: 00:18:18\n"
     ]
    },
    {
     "name": "stdout",
     "output_type": "stream",
     "text": [
      "[  5000] AB_loss: 0.0105 E_loss: 0.9191 Elapsed Time: 00:03:17\n"
     ]
    },
    {
     "name": "stdout",
     "output_type": "stream",
     "text": [
      "[1 -   7500] CE_loss: 0.8498 Elapsed Time: 00:01:27\n"
     ]
    },
    {
     "name": "stdout",
     "output_type": "stream",
     "text": [
      "[1 -  15000] CE_loss: 0.8447 Elapsed Time: 00:02:55\n"
     ]
    },
    {
     "name": "stdout",
     "output_type": "stream",
     "text": [
      "[1 -  22500] CE_loss: 0.8478 Elapsed Time: 00:04:22\n"
     ]
    },
    {
     "name": "stdout",
     "output_type": "stream",
     "text": [
      "[2 -   7500] CE_loss: 0.8517 Elapsed Time: 00:01:26\n"
     ]
    },
    {
     "name": "stdout",
     "output_type": "stream",
     "text": [
      "[2 -  15000] CE_loss: 0.8505 Elapsed Time: 00:02:53\n"
     ]
    },
    {
     "name": "stdout",
     "output_type": "stream",
     "text": [
      "[2 -  22500] CE_loss: 0.8488 Elapsed Time: 00:04:20\n"
     ]
    },
    {
     "name": "stdout",
     "output_type": "stream",
     "text": [
      "[3 -   7500] CE_loss: 0.8499 Elapsed Time: 00:01:26\n"
     ]
    },
    {
     "name": "stdout",
     "output_type": "stream",
     "text": [
      "[3 -  15000] CE_loss: 0.8368 Elapsed Time: 00:02:53\n"
     ]
    },
    {
     "name": "stdout",
     "output_type": "stream",
     "text": [
      "[3 -  22500] CE_loss: 0.8402 Elapsed Time: 00:04:20\n",
      "[N: 2] AB_loss: 0.0076 E_loss: 0.8402 Elapsed Time: 00:35:02\n"
     ]
    }
   ],
   "source": [
    "AB2, BE2, AB_rec2, BE_rec2 = validate_pp(num_times=2, retries=3, max_iter_e=22500, EPP=(EPP_LAYER, EPP_LAYER))"
   ]
  },
  {
   "cell_type": "code",
   "execution_count": 53,
   "metadata": {
    "autoscroll": false,
    "collapsed": false,
    "ein.hycell": false,
    "ein.tags": "worksheet-0",
    "slideshow": {
     "slide_type": "-"
    }
   },
   "outputs": [
    {
     "data": {
      "image/png": "[encoded data removed]",
      "text/plain": [
       "<Figure size 1008x576 with 1 Axes>"
      ]
     },
     "metadata": {},
     "output_type": "display_data"
    },
    {
     "data": {
      "image/png": "[encoded data removed]",
      "text/plain": [
       "<Figure size 1008x576 with 1 Axes>"
      ]
     },
     "metadata": {},
     "output_type": "display_data"
    }
   ],
   "source": [
    "plot_best_eves(AB2, BE2)\n",
    "plot_best_eves(AB_rec2, BE_rec2)"
   ]
  },
  {
   "cell_type": "code",
   "execution_count": 39,
   "metadata": {
    "autoscroll": false,
    "collapsed": false,
    "ein.hycell": false,
    "ein.tags": "worksheet-0",
    "slideshow": {
     "slide_type": "-"
    }
   },
   "outputs": [
    {
     "name": "stdout",
     "output_type": "stream",
     "text": [
      "[  5000] AB_loss: 0.2751 E_loss: 0.6211 Elapsed Time: 00:03:00\n"
     ]
    },
    {
     "name": "stdout",
     "output_type": "stream",
     "text": [
      "[1 -   7500] CE_loss: 0.8225 Elapsed Time: 00:01:18\n"
     ]
    },
    {
     "name": "stdout",
     "output_type": "stream",
     "text": [
      "[1 -  15000] CE_loss: 0.8236 Elapsed Time: 00:02:37\n"
     ]
    },
    {
     "name": "stdout",
     "output_type": "stream",
     "text": [
      "[2 -   7500] CE_loss: 0.8581 Elapsed Time: 00:01:19\n"
     ]
    },
    {
     "name": "stdout",
     "output_type": "stream",
     "text": [
      "[2 -  15000] CE_loss: 0.8272 Elapsed Time: 00:02:38\n"
     ]
    },
    {
     "name": "stdout",
     "output_type": "stream",
     "text": [
      "[3 -   7500] CE_loss: 0.8507 Elapsed Time: 00:01:19\n"
     ]
    },
    {
     "name": "stdout",
     "output_type": "stream",
     "text": [
      "[3 -  15000] CE_loss: 0.8511 Elapsed Time: 00:02:38\n",
      "[N: 1] AB_loss: 0.0081 E_loss: 0.8236 Elapsed Time: 00:13:06\n"
     ]
    },
    {
     "name": "stdout",
     "output_type": "stream",
     "text": [
      "[  5000] AB_loss: 0.0752 E_loss: 0.9082 Elapsed Time: 00:03:00\n"
     ]
    },
    {
     "name": "stdout",
     "output_type": "stream",
     "text": [
      "[ 10000] AB_loss: 0.0640 E_loss: 0.9652 Elapsed Time: 00:06:00\n"
     ]
    },
    {
     "name": "stdout",
     "output_type": "stream",
     "text": [
      "[ 15000] AB_loss: 0.0649 E_loss: 0.9816 Elapsed Time: 00:09:01\n"
     ]
    },
    {
     "name": "stdout",
     "output_type": "stream",
     "text": [
      "[1 -   7500] CE_loss: 0.9045 Elapsed Time: 00:01:21\n"
     ]
    },
    {
     "name": "stdout",
     "output_type": "stream",
     "text": [
      "[1 -  15000] CE_loss: 0.8842 Elapsed Time: 00:02:40\n"
     ]
    },
    {
     "name": "stdout",
     "output_type": "stream",
     "text": [
      "[2 -   7500] CE_loss: 0.8928 Elapsed Time: 00:01:18\n"
     ]
    },
    {
     "name": "stdout",
     "output_type": "stream",
     "text": [
      "[2 -  15000] CE_loss: 0.8806 Elapsed Time: 00:02:37\n"
     ]
    },
    {
     "name": "stdout",
     "output_type": "stream",
     "text": [
      "[3 -   7500] CE_loss: 0.8809 Elapsed Time: 00:01:19\n"
     ]
    },
    {
     "name": "stdout",
     "output_type": "stream",
     "text": [
      "[3 -  15000] CE_loss: 0.8564 Elapsed Time: 00:02:38\n",
      "[N: 2] AB_loss: 0.0649 E_loss: 0.8564 Elapsed Time: 00:30:04\n"
     ]
    }
   ],
   "source": [
    "AB3, BE3, AB_rec3, BE_rec3 = validate_pp(num_times=2, retries=3, EPP=(EPP_RAND, EPP_RAND))"
   ]
  },
  {
   "cell_type": "code",
   "execution_count": 40,
   "metadata": {
    "autoscroll": false,
    "collapsed": false,
    "ein.hycell": false,
    "ein.tags": "worksheet-0",
    "slideshow": {
     "slide_type": "-"
    }
   },
   "outputs": [
    {
     "data": {
      "image/png": "[encoded data removed]",
      "text/plain": [
       "<Figure size 1008x576 with 1 Axes>"
      ]
     },
     "metadata": {},
     "output_type": "display_data"
    },
    {
     "data": {
      "image/png": "[encoded data removed]",
      "text/plain": [
       "<Figure size 1008x576 with 1 Axes>"
      ]
     },
     "metadata": {},
     "output_type": "display_data"
    }
   ],
   "source": [
    "plot_best_eves(AB3, BE3)\n",
    "plot_best_eves(AB_rec3, BE_rec3)"
   ]
  },
  {
   "cell_type": "code",
   "execution_count": 41,
   "metadata": {
    "autoscroll": false,
    "collapsed": false,
    "ein.hycell": false,
    "ein.tags": "worksheet-0",
    "slideshow": {
     "slide_type": "-"
    }
   },
   "outputs": [
    {
     "name": "stdout",
     "output_type": "stream",
     "text": [
      "[  5000] AB_loss: 0.9994 E_loss: 0.9994 Elapsed Time: 00:03:00\n"
     ]
    },
    {
     "name": "stdout",
     "output_type": "stream",
     "text": [
      "[ 10000] AB_loss: 0.0454 E_loss: 0.8348 Elapsed Time: 00:06:00\n"
     ]
    },
    {
     "name": "stdout",
     "output_type": "stream",
     "text": [
      "[1 -   7500] CE_loss: 0.8253 Elapsed Time: 00:01:18\n"
     ]
    },
    {
     "name": "stdout",
     "output_type": "stream",
     "text": [
      "[1 -  15000] CE_loss: 0.8137 Elapsed Time: 00:02:37\n"
     ]
    },
    {
     "name": "stdout",
     "output_type": "stream",
     "text": [
      "[2 -   7500] CE_loss: 0.7999 Elapsed Time: 00:01:19\n"
     ]
    },
    {
     "name": "stdout",
     "output_type": "stream",
     "text": [
      "[2 -  15000] CE_loss: 0.7998 Elapsed Time: 00:02:38\n"
     ]
    },
    {
     "name": "stdout",
     "output_type": "stream",
     "text": [
      "[3 -   7500] CE_loss: 0.7889 Elapsed Time: 00:01:18\n"
     ]
    },
    {
     "name": "stdout",
     "output_type": "stream",
     "text": [
      "[3 -  15000] CE_loss: 0.7801 Elapsed Time: 00:02:37\n",
      "[N: 1] AB_loss: 0.0066 E_loss: 0.7801 Elapsed Time: 00:15:48\n"
     ]
    },
    {
     "name": "stdout",
     "output_type": "stream",
     "text": [
      "[  5000] AB_loss: 0.1096 E_loss: 0.7505 Elapsed Time: 00:03:00\n"
     ]
    },
    {
     "name": "stdout",
     "output_type": "stream",
     "text": [
      "[1 -   7500] CE_loss: 0.8156 Elapsed Time: 00:01:19\n"
     ]
    },
    {
     "name": "stdout",
     "output_type": "stream",
     "text": [
      "[1 -  15000] CE_loss: 0.8073 Elapsed Time: 00:02:38\n"
     ]
    },
    {
     "name": "stdout",
     "output_type": "stream",
     "text": [
      "[2 -   7500] CE_loss: 0.8138 Elapsed Time: 00:01:18\n"
     ]
    },
    {
     "name": "stdout",
     "output_type": "stream",
     "text": [
      "[2 -  15000] CE_loss: 0.8040 Elapsed Time: 00:02:37\n"
     ]
    },
    {
     "name": "stdout",
     "output_type": "stream",
     "text": [
      "[3 -   7500] CE_loss: 0.8282 Elapsed Time: 00:01:19\n"
     ]
    },
    {
     "name": "stdout",
     "output_type": "stream",
     "text": [
      "[3 -  15000] CE_loss: 0.8216 Elapsed Time: 00:02:38\n",
      "[N: 2] AB_loss: 0.0079 E_loss: 0.8040 Elapsed Time: 00:28:22\n"
     ]
    }
   ],
   "source": [
    "AB4, BE4, AB_rec4, BE_rec4 = validate_pp(num_times=2, retries=3, EPP=(EPP_RAND, EPP_RAND))"
   ]
  },
  {
   "cell_type": "code",
   "execution_count": 43,
   "metadata": {
    "autoscroll": false,
    "collapsed": false,
    "ein.hycell": false,
    "ein.tags": "worksheet-0",
    "slideshow": {
     "slide_type": "-"
    }
   },
   "outputs": [
    {
     "data": {
      "image/png": "[encoded data removed]",
      "text/plain": [
       "<Figure size 1008x576 with 1 Axes>"
      ]
     },
     "metadata": {},
     "output_type": "display_data"
    },
    {
     "data": {
      "image/png": "[encoded data removed]",
      "text/plain": [
       "<Figure size 1008x576 with 1 Axes>"
      ]
     },
     "metadata": {},
     "output_type": "display_data"
    }
   ],
   "source": [
    "plot_best_eves(AB4, BE4)\n",
    "plot_best_eves(AB_rec4, BE_rec4)"
   ]
  }
 ],
 "metadata": {
  "kernelspec": {
   "argv": [
    "python",
    "-m",
    "ipykernel_launcher",
    "-f",
    "{connection_file}"
   ],
   "display_name": "Python 3",
   "env": null,
   "interrupt_mode": "signal",
   "language": "python",
   "metadata": null,
   "name": "python3"
  },
  "name": "improving_eve.ipynb"
 },
 "nbformat": 4,
 "nbformat_minor": 4
}
