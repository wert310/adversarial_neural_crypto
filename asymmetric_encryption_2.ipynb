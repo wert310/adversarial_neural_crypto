{
 "cells": [
  {
   "cell_type": "code",
   "execution_count": 3,
   "metadata": {
    "autoscroll": false,
    "collapsed": false,
    "ein.hycell": false,
    "ein.tags": "worksheet-0",
    "slideshow": {
     "slide_type": "-"
    }
   },
   "outputs": [],
   "source": [
    "import time\n",
    "\n",
    "import torch\n",
    "import torch.nn as nn\n",
    "import torch.nn.functional as F\n",
    "import torch.optim as optim\n",
    "\n",
    "import matplotlib.pyplot as plt\n",
    "import numpy as np"
   ]
  },
  {
   "cell_type": "code",
   "execution_count": 4,
   "metadata": {
    "autoscroll": false,
    "collapsed": false,
    "ein.hycell": false,
    "ein.tags": "worksheet-0",
    "slideshow": {
     "slide_type": "-"
    }
   },
   "outputs": [],
   "source": [
    "class ABENet(nn.Module):\n",
    "    def __init__(self, N, nkeys=1):\n",
    "        super(ABENet, self).__init__()\n",
    "        self.N = N\n",
    "        \n",
    "        self.fc    = nn.Linear(in_features=(nkeys+1)*N, out_features=2*N)\n",
    "        self.conv1 = nn.Conv1d(kernel_size=4, in_channels=1, out_channels=2, stride=1, padding=2)\n",
    "        self.conv2 = nn.Conv1d(kernel_size=2, in_channels=2, out_channels=4, stride=2)\n",
    "        self.conv3 = nn.Conv1d(kernel_size=1, in_channels=4, out_channels=4, stride=1)\n",
    "        self.conv4 = nn.Conv1d(kernel_size=1, in_channels=4, out_channels=1, stride=1)\n",
    "\n",
    "    def forward(self, x):\n",
    "        x = torch.sigmoid( self.fc(x) )\n",
    "        x = x.view(-1, 1, 2*self.N)\n",
    "        x = torch.sigmoid( self.conv1(x) )\n",
    "        x = torch.sigmoid( self.conv2(x) )\n",
    "        x = torch.sigmoid( self.conv3(x) )\n",
    "        x = torch.tanh(    self.conv4(x) )\n",
    "        x = x.view(-1, self.N)\n",
    "        return x"
   ]
  },
  {
   "cell_type": "code",
   "execution_count": 5,
   "metadata": {
    "autoscroll": false,
    "collapsed": false,
    "ein.hycell": false,
    "ein.tags": "worksheet-0",
    "slideshow": {
     "slide_type": "-"
    }
   },
   "outputs": [
    {
     "data": {
      "text/plain": [
       "device(type='cuda', index=0)"
      ]
     },
     "execution_count": 5,
     "metadata": {},
     "output_type": "execute_result"
    }
   ],
   "source": [
    "DEVICE = torch.device(\"cuda:0\" if torch.cuda.is_available() else \"cpu\")\n",
    "DEVICE"
   ]
  },
  {
   "cell_type": "markdown",
   "metadata": {
    "ein.tags": "worksheet-0",
    "slideshow": {
     "slide_type": "-"
    }
   },
   "source": [
    "![asymmetric_encryption](img/asymmetric_enc.png)"
   ]
  },
  {
   "cell_type": "code",
   "execution_count": 6,
   "metadata": {
    "autoscroll": false,
    "collapsed": false,
    "ein.hycell": false,
    "ein.tags": "worksheet-0",
    "slideshow": {
     "slide_type": "-"
    }
   },
   "outputs": [],
   "source": [
    "def reconstruction_error(Out, Original):\n",
    "    return torch.mean( torch.sum( torch.sign(Original) != torch.sign(Out), dim=1)\n",
    "                       .to(torch.float), dim=0).item()"
   ]
  },
  {
   "cell_type": "code",
   "execution_count": 9,
   "metadata": {
    "autoscroll": false,
    "collapsed": false,
    "ein.hycell": false,
    "ein.tags": "worksheet-0",
    "slideshow": {
     "slide_type": "-"
    }
   },
   "outputs": [
    {
     "name": "stdout",
     "output_type": "stream",
     "text": [
      "[  1000] AB_loss: 0.9999 E_loss: 1.0001 Elapsed Time: 00:01:23\n"
     ]
    },
    {
     "name": "stdout",
     "output_type": "stream",
     "text": [
      "[  2000] AB_loss: 1.0013 E_loss: 1.0000 Elapsed Time: 00:02:47\n"
     ]
    },
    {
     "name": "stdout",
     "output_type": "stream",
     "text": [
      "[  3000] AB_loss: 0.9966 E_loss: 1.0000 Elapsed Time: 00:04:10\n"
     ]
    },
    {
     "name": "stdout",
     "output_type": "stream",
     "text": [
      "[  4000] AB_loss: 0.9730 E_loss: 0.9940 Elapsed Time: 00:05:34\n"
     ]
    },
    {
     "name": "stdout",
     "output_type": "stream",
     "text": [
      "[  5000] AB_loss: 0.0374 E_loss: 0.8953 Elapsed Time: 00:06:58\n"
     ]
    },
    {
     "name": "stdout",
     "output_type": "stream",
     "text": [
      "[  6000] AB_loss: 0.0543 E_loss: 0.8181 Elapsed Time: 00:08:21\n"
     ]
    },
    {
     "name": "stdout",
     "output_type": "stream",
     "text": [
      "[  7000] AB_loss: 0.3073 E_loss: 0.8048 Elapsed Time: 00:09:45\n"
     ]
    },
    {
     "name": "stdout",
     "output_type": "stream",
     "text": [
      "[  8000] AB_loss: 0.2355 E_loss: 0.7486 Elapsed Time: 00:11:09\n"
     ]
    },
    {
     "name": "stdout",
     "output_type": "stream",
     "text": [
      "[  9000] AB_loss: 0.2387 E_loss: 0.6892 Elapsed Time: 00:12:33\n"
     ]
    },
    {
     "name": "stdout",
     "output_type": "stream",
     "text": [
      "[ 10000] AB_loss: 0.2828 E_loss: 0.6702 Elapsed Time: 00:13:57\n"
     ]
    },
    {
     "name": "stdout",
     "output_type": "stream",
     "text": [
      "[ 11000] AB_loss: 0.3379 E_loss: 0.6501 Elapsed Time: 00:15:20\n"
     ]
    },
    {
     "name": "stdout",
     "output_type": "stream",
     "text": [
      "[ 12000] AB_loss: 0.3008 E_loss: 0.6086 Elapsed Time: 00:16:44\n"
     ]
    },
    {
     "name": "stdout",
     "output_type": "stream",
     "text": [
      "[ 13000] AB_loss: 0.3922 E_loss: 0.5859 Elapsed Time: 00:18:08\n"
     ]
    },
    {
     "name": "stdout",
     "output_type": "stream",
     "text": [
      "[ 14000] AB_loss: 0.3552 E_loss: 0.6118 Elapsed Time: 00:19:32\n"
     ]
    },
    {
     "name": "stdout",
     "output_type": "stream",
     "text": [
      "[ 15000] AB_loss: 0.3886 E_loss: 0.5424 Elapsed Time: 00:20:58\n"
     ]
    },
    {
     "name": "stdout",
     "output_type": "stream",
     "text": [
      "[ 16000] AB_loss: 0.3804 E_loss: 0.5440 Elapsed Time: 00:22:25\n"
     ]
    },
    {
     "name": "stdout",
     "output_type": "stream",
     "text": [
      "[ 17000] AB_loss: 0.4398 E_loss: 0.5158 Elapsed Time: 00:23:53\n"
     ]
    },
    {
     "name": "stdout",
     "output_type": "stream",
     "text": [
      "[ 18000] AB_loss: 0.4119 E_loss: 0.5405 Elapsed Time: 00:25:20\n"
     ]
    },
    {
     "name": "stdout",
     "output_type": "stream",
     "text": [
      "[ 19000] AB_loss: 0.3343 E_loss: 0.5815 Elapsed Time: 00:26:47\n"
     ]
    },
    {
     "name": "stdout",
     "output_type": "stream",
     "text": [
      "[ 20000] AB_loss: 0.3005 E_loss: 0.5883 Elapsed Time: 00:28:11\n"
     ]
    },
    {
     "name": "stdout",
     "output_type": "stream",
     "text": [
      "[ 21000] AB_loss: 0.2846 E_loss: 0.5808 Elapsed Time: 00:29:34\n"
     ]
    },
    {
     "name": "stdout",
     "output_type": "stream",
     "text": [
      "[ 22000] AB_loss: 0.3002 E_loss: 0.5868 Elapsed Time: 00:30:58\n"
     ]
    },
    {
     "name": "stdout",
     "output_type": "stream",
     "text": [
      "[ 23000] AB_loss: 0.3325 E_loss: 0.6190 Elapsed Time: 00:32:22\n"
     ]
    },
    {
     "name": "stdout",
     "output_type": "stream",
     "text": [
      "[ 24000] AB_loss: 0.3206 E_loss: 0.5923 Elapsed Time: 00:33:46\n"
     ]
    },
    {
     "name": "stdout",
     "output_type": "stream",
     "text": [
      "[ 25000] AB_loss: 0.3156 E_loss: 0.5515 Elapsed Time: 00:35:09\n"
     ]
    },
    {
     "name": "stdout",
     "output_type": "stream",
     "text": [
      "[ 26000] AB_loss: 0.3375 E_loss: 0.5397 Elapsed Time: 00:36:33\n"
     ]
    },
    {
     "name": "stdout",
     "output_type": "stream",
     "text": [
      "[ 27000] AB_loss: 0.3327 E_loss: 0.5696 Elapsed Time: 00:37:57\n"
     ]
    },
    {
     "name": "stdout",
     "output_type": "stream",
     "text": [
      "[ 28000] AB_loss: 0.3290 E_loss: 0.5868 Elapsed Time: 00:39:21\n"
     ]
    },
    {
     "name": "stdout",
     "output_type": "stream",
     "text": [
      "[ 29000] AB_loss: 0.3485 E_loss: 0.5762 Elapsed Time: 00:40:44\n"
     ]
    },
    {
     "name": "stdout",
     "output_type": "stream",
     "text": [
      "[ 30000] AB_loss: 0.3613 E_loss: 0.5887 Elapsed Time: 00:42:08\n"
     ]
    },
    {
     "name": "stdout",
     "output_type": "stream",
     "text": [
      "[ 31000] AB_loss: 0.3974 E_loss: 0.5394 Elapsed Time: 00:43:31\n"
     ]
    },
    {
     "name": "stdout",
     "output_type": "stream",
     "text": [
      "[ 32000] AB_loss: 0.3922 E_loss: 0.5477 Elapsed Time: 00:44:55\n"
     ]
    },
    {
     "name": "stdout",
     "output_type": "stream",
     "text": [
      "[ 33000] AB_loss: 0.3955 E_loss: 0.5432 Elapsed Time: 00:46:19\n"
     ]
    },
    {
     "name": "stdout",
     "output_type": "stream",
     "text": [
      "[ 34000] AB_loss: 0.3777 E_loss: 0.5544 Elapsed Time: 00:47:42\n"
     ]
    },
    {
     "name": "stdout",
     "output_type": "stream",
     "text": [
      "[ 35000] AB_loss: 0.3981 E_loss: 0.5691 Elapsed Time: 00:49:07\n"
     ]
    },
    {
     "name": "stdout",
     "output_type": "stream",
     "text": [
      "[ 36000] AB_loss: 0.3856 E_loss: 0.5513 Elapsed Time: 00:50:34\n"
     ]
    },
    {
     "name": "stdout",
     "output_type": "stream",
     "text": [
      "[ 37000] AB_loss: 0.3141 E_loss: 0.6137 Elapsed Time: 00:52:01\n"
     ]
    },
    {
     "name": "stdout",
     "output_type": "stream",
     "text": [
      "[ 38000] AB_loss: 0.3651 E_loss: 0.5538 Elapsed Time: 00:53:29\n"
     ]
    },
    {
     "name": "stdout",
     "output_type": "stream",
     "text": [
      "[ 39000] AB_loss: 0.3588 E_loss: 0.5281 Elapsed Time: 00:54:56\n"
     ]
    },
    {
     "name": "stdout",
     "output_type": "stream",
     "text": [
      "[ 40000] AB_loss: 0.3529 E_loss: 0.5375 Elapsed Time: 00:56:22\n"
     ]
    },
    {
     "name": "stdout",
     "output_type": "stream",
     "text": [
      "[ 41000] AB_loss: 0.3735 E_loss: 0.5228 Elapsed Time: 00:57:46\n"
     ]
    },
    {
     "name": "stdout",
     "output_type": "stream",
     "text": [
      "[ 42000] AB_loss: 0.3724 E_loss: 0.5271 Elapsed Time: 00:59:10\n"
     ]
    },
    {
     "name": "stdout",
     "output_type": "stream",
     "text": [
      "[ 43000] AB_loss: 0.3472 E_loss: 0.5445 Elapsed Time: 01:00:33\n"
     ]
    },
    {
     "name": "stdout",
     "output_type": "stream",
     "text": [
      "[ 44000] AB_loss: 0.3342 E_loss: 0.5328 Elapsed Time: 01:01:57\n"
     ]
    },
    {
     "name": "stdout",
     "output_type": "stream",
     "text": [
      "[ 45000] AB_loss: 0.3148 E_loss: 0.5383 Elapsed Time: 01:03:21\n"
     ]
    },
    {
     "name": "stdout",
     "output_type": "stream",
     "text": [
      "[ 46000] AB_loss: 0.2863 E_loss: 0.5687 Elapsed Time: 01:04:44\n"
     ]
    },
    {
     "name": "stdout",
     "output_type": "stream",
     "text": [
      "[ 47000] AB_loss: 0.2982 E_loss: 0.5394 Elapsed Time: 01:06:08\n"
     ]
    },
    {
     "name": "stdout",
     "output_type": "stream",
     "text": [
      "[ 48000] AB_loss: 0.3205 E_loss: 0.5296 Elapsed Time: 01:07:32\n"
     ]
    },
    {
     "name": "stdout",
     "output_type": "stream",
     "text": [
      "[ 49000] AB_loss: 0.3231 E_loss: 0.5453 Elapsed Time: 01:08:56\n"
     ]
    },
    {
     "name": "stdout",
     "output_type": "stream",
     "text": [
      "[ 50000] AB_loss: 0.3061 E_loss: 0.5499 Elapsed Time: 01:10:19\n"
     ]
    },
    {
     "name": "stdout",
     "output_type": "stream",
     "text": [
      "[ 51000] AB_loss: 0.2891 E_loss: 0.5664 Elapsed Time: 01:11:43\n"
     ]
    },
    {
     "name": "stdout",
     "output_type": "stream",
     "text": [
      "[ 52000] AB_loss: 0.2741 E_loss: 0.5869 Elapsed Time: 01:13:07\n"
     ]
    },
    {
     "name": "stdout",
     "output_type": "stream",
     "text": [
      "[ 53000] AB_loss: 0.2557 E_loss: 0.5926 Elapsed Time: 01:14:31\n"
     ]
    },
    {
     "name": "stdout",
     "output_type": "stream",
     "text": [
      "[ 54000] AB_loss: 0.2582 E_loss: 0.5932 Elapsed Time: 01:15:55\n"
     ]
    },
    {
     "name": "stdout",
     "output_type": "stream",
     "text": [
      "[ 55000] AB_loss: 0.2488 E_loss: 0.6104 Elapsed Time: 01:17:18\n"
     ]
    },
    {
     "name": "stdout",
     "output_type": "stream",
     "text": [
      "[ 56000] AB_loss: 0.2746 E_loss: 0.5914 Elapsed Time: 01:18:44\n"
     ]
    },
    {
     "name": "stdout",
     "output_type": "stream",
     "text": [
      "[ 57000] AB_loss: 0.3025 E_loss: 0.5676 Elapsed Time: 01:20:11\n"
     ]
    },
    {
     "name": "stdout",
     "output_type": "stream",
     "text": [
      "[ 58000] AB_loss: 0.2711 E_loss: 0.5852 Elapsed Time: 01:21:38\n"
     ]
    },
    {
     "name": "stdout",
     "output_type": "stream",
     "text": [
      "[ 59000] AB_loss: 0.2903 E_loss: 0.5725 Elapsed Time: 01:23:06\n"
     ]
    },
    {
     "name": "stdout",
     "output_type": "stream",
     "text": [
      "[ 60000] AB_loss: 0.2952 E_loss: 0.5638 Elapsed Time: 01:24:33\n"
     ]
    },
    {
     "name": "stdout",
     "output_type": "stream",
     "text": [
      "[ 61000] AB_loss: 0.2996 E_loss: 0.5615 Elapsed Time: 01:26:01\n"
     ]
    },
    {
     "name": "stdout",
     "output_type": "stream",
     "text": [
      "[ 62000] AB_loss: 0.3183 E_loss: 0.5360 Elapsed Time: 01:27:28\n"
     ]
    },
    {
     "name": "stdout",
     "output_type": "stream",
     "text": [
      "[ 63000] AB_loss: 0.3194 E_loss: 0.5302 Elapsed Time: 01:28:55\n"
     ]
    },
    {
     "name": "stdout",
     "output_type": "stream",
     "text": [
      "[ 64000] AB_loss: 0.3029 E_loss: 0.5641 Elapsed Time: 01:30:23\n"
     ]
    },
    {
     "name": "stdout",
     "output_type": "stream",
     "text": [
      "[ 65000] AB_loss: 0.2988 E_loss: 0.5716 Elapsed Time: 01:31:48\n"
     ]
    },
    {
     "name": "stdout",
     "output_type": "stream",
     "text": [
      "[ 66000] AB_loss: 0.3081 E_loss: 0.5621 Elapsed Time: 01:33:12\n"
     ]
    },
    {
     "name": "stdout",
     "output_type": "stream",
     "text": [
      "[ 67000] AB_loss: 0.3010 E_loss: 0.5668 Elapsed Time: 01:34:35\n"
     ]
    },
    {
     "name": "stdout",
     "output_type": "stream",
     "text": [
      "[ 68000] AB_loss: 0.3075 E_loss: 0.5693 Elapsed Time: 01:35:59\n"
     ]
    },
    {
     "name": "stdout",
     "output_type": "stream",
     "text": [
      "[ 69000] AB_loss: 0.2750 E_loss: 0.5801 Elapsed Time: 01:37:23\n"
     ]
    },
    {
     "name": "stdout",
     "output_type": "stream",
     "text": [
      "[ 70000] AB_loss: 0.2989 E_loss: 0.5567 Elapsed Time: 01:38:47\n"
     ]
    },
    {
     "name": "stdout",
     "output_type": "stream",
     "text": [
      "[ 71000] AB_loss: 0.2872 E_loss: 0.5799 Elapsed Time: 01:40:10\n"
     ]
    },
    {
     "name": "stdout",
     "output_type": "stream",
     "text": [
      "[ 72000] AB_loss: 0.2821 E_loss: 0.5848 Elapsed Time: 01:41:34\n"
     ]
    },
    {
     "name": "stdout",
     "output_type": "stream",
     "text": [
      "[ 73000] AB_loss: 0.2645 E_loss: 0.6438 Elapsed Time: 01:42:58\n"
     ]
    },
    {
     "name": "stdout",
     "output_type": "stream",
     "text": [
      "[ 74000] AB_loss: 0.2764 E_loss: 0.6206 Elapsed Time: 01:44:22\n"
     ]
    },
    {
     "name": "stdout",
     "output_type": "stream",
     "text": [
      "[ 75000] AB_loss: 0.3018 E_loss: 0.5862 Elapsed Time: 01:45:46\n"
     ]
    },
    {
     "name": "stdout",
     "output_type": "stream",
     "text": [
      "[ 76000] AB_loss: 0.3103 E_loss: 0.5882 Elapsed Time: 01:47:09\n"
     ]
    },
    {
     "name": "stdout",
     "output_type": "stream",
     "text": [
      "[ 77000] AB_loss: 0.2502 E_loss: 0.5969 Elapsed Time: 01:48:33\n"
     ]
    },
    {
     "name": "stdout",
     "output_type": "stream",
     "text": [
      "[ 78000] AB_loss: 0.2702 E_loss: 0.5757 Elapsed Time: 01:49:57\n"
     ]
    },
    {
     "name": "stdout",
     "output_type": "stream",
     "text": [
      "[ 79000] AB_loss: 0.2919 E_loss: 0.5616 Elapsed Time: 01:51:21\n"
     ]
    },
    {
     "name": "stdout",
     "output_type": "stream",
     "text": [
      "[ 80000] AB_loss: 0.2882 E_loss: 0.5734 Elapsed Time: 01:52:44\n"
     ]
    },
    {
     "name": "stdout",
     "output_type": "stream",
     "text": [
      "[ 81000] AB_loss: 0.2951 E_loss: 0.5879 Elapsed Time: 01:54:10\n"
     ]
    },
    {
     "name": "stdout",
     "output_type": "stream",
     "text": [
      "[ 82000] AB_loss: 0.2969 E_loss: 0.5618 Elapsed Time: 01:55:38\n"
     ]
    },
    {
     "name": "stdout",
     "output_type": "stream",
     "text": [
      "[ 83000] AB_loss: 0.3238 E_loss: 0.5472 Elapsed Time: 01:57:05\n"
     ]
    },
    {
     "name": "stdout",
     "output_type": "stream",
     "text": [
      "[ 84000] AB_loss: 0.3449 E_loss: 0.5696 Elapsed Time: 01:58:32\n"
     ]
    },
    {
     "name": "stdout",
     "output_type": "stream",
     "text": [
      "[ 85000] AB_loss: 0.3458 E_loss: 0.5496 Elapsed Time: 01:59:56\n"
     ]
    },
    {
     "name": "stdout",
     "output_type": "stream",
     "text": [
      "[ 86000] AB_loss: 0.3149 E_loss: 0.6189 Elapsed Time: 02:01:20\n"
     ]
    },
    {
     "name": "stdout",
     "output_type": "stream",
     "text": [
      "[ 87000] AB_loss: 0.3387 E_loss: 0.6071 Elapsed Time: 02:02:44\n"
     ]
    },
    {
     "name": "stdout",
     "output_type": "stream",
     "text": [
      "[ 88000] AB_loss: 0.3496 E_loss: 0.5734 Elapsed Time: 02:04:07\n"
     ]
    },
    {
     "name": "stdout",
     "output_type": "stream",
     "text": [
      "[ 89000] AB_loss: 0.3209 E_loss: 0.5814 Elapsed Time: 02:05:31\n"
     ]
    },
    {
     "name": "stdout",
     "output_type": "stream",
     "text": [
      "[ 90000] AB_loss: 0.2999 E_loss: 0.6015 Elapsed Time: 02:06:55\n"
     ]
    },
    {
     "name": "stdout",
     "output_type": "stream",
     "text": [
      "[ 91000] AB_loss: 0.2829 E_loss: 0.5975 Elapsed Time: 02:08:19\n"
     ]
    },
    {
     "name": "stdout",
     "output_type": "stream",
     "text": [
      "[ 92000] AB_loss: 0.3052 E_loss: 0.5624 Elapsed Time: 02:09:42\n"
     ]
    },
    {
     "name": "stdout",
     "output_type": "stream",
     "text": [
      "[ 93000] AB_loss: 0.3052 E_loss: 0.5963 Elapsed Time: 02:11:06\n"
     ]
    },
    {
     "name": "stdout",
     "output_type": "stream",
     "text": [
      "[ 94000] AB_loss: 0.2917 E_loss: 0.5921 Elapsed Time: 02:12:30\n"
     ]
    },
    {
     "name": "stdout",
     "output_type": "stream",
     "text": [
      "[ 95000] AB_loss: 0.2827 E_loss: 0.6133 Elapsed Time: 02:13:54\n"
     ]
    },
    {
     "name": "stdout",
     "output_type": "stream",
     "text": [
      "[ 96000] AB_loss: 0.3033 E_loss: 0.5916 Elapsed Time: 02:15:17\n"
     ]
    },
    {
     "name": "stdout",
     "output_type": "stream",
     "text": [
      "[ 97000] AB_loss: 0.3249 E_loss: 0.5568 Elapsed Time: 02:16:41\n"
     ]
    },
    {
     "name": "stdout",
     "output_type": "stream",
     "text": [
      "[ 98000] AB_loss: 0.3335 E_loss: 0.5605 Elapsed Time: 02:18:05\n"
     ]
    },
    {
     "name": "stdout",
     "output_type": "stream",
     "text": [
      "[ 99000] AB_loss: 0.3522 E_loss: 0.5453 Elapsed Time: 02:19:28\n"
     ]
    },
    {
     "name": "stdout",
     "output_type": "stream",
     "text": [
      "[100000] AB_loss: 0.3919 E_loss: 0.5253 Elapsed Time: 02:20:52\n"
     ]
    },
    {
     "name": "stdout",
     "output_type": "stream",
     "text": [
      "[101000] AB_loss: 0.2984 E_loss: 0.5980 Elapsed Time: 02:22:19\n"
     ]
    },
    {
     "name": "stdout",
     "output_type": "stream",
     "text": [
      "[102000] AB_loss: 0.2945 E_loss: 0.6142 Elapsed Time: 02:23:46\n"
     ]
    },
    {
     "name": "stdout",
     "output_type": "stream",
     "text": [
      "[103000] AB_loss: 0.2395 E_loss: 0.6410 Elapsed Time: 02:25:14\n"
     ]
    },
    {
     "name": "stdout",
     "output_type": "stream",
     "text": [
      "[104000] AB_loss: 0.2756 E_loss: 0.6044 Elapsed Time: 02:26:41\n"
     ]
    },
    {
     "name": "stdout",
     "output_type": "stream",
     "text": [
      "[105000] AB_loss: 0.2908 E_loss: 0.5971 Elapsed Time: 02:28:08\n"
     ]
    },
    {
     "name": "stdout",
     "output_type": "stream",
     "text": [
      "[106000] AB_loss: 0.2835 E_loss: 0.6052 Elapsed Time: 02:29:35\n"
     ]
    },
    {
     "name": "stdout",
     "output_type": "stream",
     "text": [
      "[107000] AB_loss: 0.2784 E_loss: 0.6220 Elapsed Time: 02:30:59\n"
     ]
    },
    {
     "name": "stdout",
     "output_type": "stream",
     "text": [
      "[108000] AB_loss: 0.2686 E_loss: 0.6004 Elapsed Time: 02:32:23\n"
     ]
    },
    {
     "name": "stdout",
     "output_type": "stream",
     "text": [
      "[109000] AB_loss: 0.3034 E_loss: 0.5549 Elapsed Time: 02:33:46\n"
     ]
    },
    {
     "name": "stdout",
     "output_type": "stream",
     "text": [
      "[110000] AB_loss: 0.3082 E_loss: 0.5717 Elapsed Time: 02:35:10\n"
     ]
    },
    {
     "name": "stdout",
     "output_type": "stream",
     "text": [
      "[111000] AB_loss: 0.3071 E_loss: 0.6067 Elapsed Time: 02:36:34\n"
     ]
    },
    {
     "name": "stdout",
     "output_type": "stream",
     "text": [
      "[112000] AB_loss: 0.2929 E_loss: 0.6154 Elapsed Time: 02:37:58\n"
     ]
    },
    {
     "name": "stdout",
     "output_type": "stream",
     "text": [
      "[113000] AB_loss: 0.3085 E_loss: 0.5983 Elapsed Time: 02:39:21\n"
     ]
    },
    {
     "name": "stdout",
     "output_type": "stream",
     "text": [
      "[114000] AB_loss: 0.3106 E_loss: 0.6293 Elapsed Time: 02:40:45\n"
     ]
    },
    {
     "name": "stdout",
     "output_type": "stream",
     "text": [
      "[115000] AB_loss: 0.3074 E_loss: 0.5779 Elapsed Time: 02:42:08\n"
     ]
    },
    {
     "name": "stdout",
     "output_type": "stream",
     "text": [
      "[116000] AB_loss: 0.2786 E_loss: 0.5900 Elapsed Time: 02:43:32\n"
     ]
    },
    {
     "name": "stdout",
     "output_type": "stream",
     "text": [
      "[117000] AB_loss: 0.2795 E_loss: 0.6259 Elapsed Time: 02:44:56\n"
     ]
    },
    {
     "name": "stdout",
     "output_type": "stream",
     "text": [
      "[118000] AB_loss: 0.2599 E_loss: 0.6233 Elapsed Time: 02:46:20\n"
     ]
    },
    {
     "name": "stdout",
     "output_type": "stream",
     "text": [
      "[119000] AB_loss: 0.2147 E_loss: 0.6587 Elapsed Time: 02:47:43\n"
     ]
    },
    {
     "name": "stdout",
     "output_type": "stream",
     "text": [
      "[120000] AB_loss: 0.2154 E_loss: 0.6712 Elapsed Time: 02:49:07\n"
     ]
    },
    {
     "name": "stdout",
     "output_type": "stream",
     "text": [
      "[121000] AB_loss: 0.2202 E_loss: 0.6613 Elapsed Time: 02:50:31\n"
     ]
    },
    {
     "name": "stdout",
     "output_type": "stream",
     "text": [
      "[122000] AB_loss: 0.2213 E_loss: 0.6349 Elapsed Time: 02:51:55\n"
     ]
    },
    {
     "name": "stdout",
     "output_type": "stream",
     "text": [
      "[123000] AB_loss: 0.2238 E_loss: 0.6306 Elapsed Time: 02:53:22\n"
     ]
    },
    {
     "name": "stdout",
     "output_type": "stream",
     "text": [
      "[124000] AB_loss: 0.2197 E_loss: 0.6537 Elapsed Time: 02:54:49\n"
     ]
    },
    {
     "name": "stdout",
     "output_type": "stream",
     "text": [
      "[125000] AB_loss: 0.2140 E_loss: 0.6345 Elapsed Time: 02:56:17\n"
     ]
    },
    {
     "name": "stdout",
     "output_type": "stream",
     "text": [
      "[126000] AB_loss: 0.1337 E_loss: 0.6908 Elapsed Time: 02:57:44\n"
     ]
    },
    {
     "name": "stdout",
     "output_type": "stream",
     "text": [
      "[127000] AB_loss: 0.1883 E_loss: 0.6698 Elapsed Time: 02:59:12\n"
     ]
    },
    {
     "name": "stdout",
     "output_type": "stream",
     "text": [
      "[128000] AB_loss: 0.1965 E_loss: 0.6404 Elapsed Time: 03:00:39\n"
     ]
    },
    {
     "name": "stdout",
     "output_type": "stream",
     "text": [
      "[129000] AB_loss: 0.1970 E_loss: 0.6513 Elapsed Time: 03:02:02\n"
     ]
    },
    {
     "name": "stdout",
     "output_type": "stream",
     "text": [
      "[130000] AB_loss: 0.1949 E_loss: 0.6492 Elapsed Time: 03:03:26\n"
     ]
    },
    {
     "name": "stdout",
     "output_type": "stream",
     "text": [
      "[131000] AB_loss: 0.1596 E_loss: 0.6612 Elapsed Time: 03:04:50\n"
     ]
    },
    {
     "name": "stdout",
     "output_type": "stream",
     "text": [
      "[132000] AB_loss: 0.1697 E_loss: 0.6652 Elapsed Time: 03:06:13\n"
     ]
    },
    {
     "name": "stdout",
     "output_type": "stream",
     "text": [
      "[133000] AB_loss: 0.1755 E_loss: 0.6566 Elapsed Time: 03:07:37\n"
     ]
    },
    {
     "name": "stdout",
     "output_type": "stream",
     "text": [
      "[134000] AB_loss: 0.2122 E_loss: 0.6383 Elapsed Time: 03:09:01\n"
     ]
    },
    {
     "name": "stdout",
     "output_type": "stream",
     "text": [
      "[135000] AB_loss: 0.2173 E_loss: 0.6300 Elapsed Time: 03:10:25\n"
     ]
    },
    {
     "name": "stdout",
     "output_type": "stream",
     "text": [
      "[136000] AB_loss: 0.2315 E_loss: 0.6166 Elapsed Time: 03:11:49\n"
     ]
    },
    {
     "name": "stdout",
     "output_type": "stream",
     "text": [
      "[137000] AB_loss: 0.1769 E_loss: 0.6808 Elapsed Time: 03:13:13\n"
     ]
    },
    {
     "name": "stdout",
     "output_type": "stream",
     "text": [
      "[138000] AB_loss: 0.1898 E_loss: 0.6615 Elapsed Time: 03:14:37\n"
     ]
    },
    {
     "name": "stdout",
     "output_type": "stream",
     "text": [
      "[139000] AB_loss: 0.1815 E_loss: 0.6628 Elapsed Time: 03:16:01\n"
     ]
    },
    {
     "name": "stdout",
     "output_type": "stream",
     "text": [
      "[140000] AB_loss: 0.2102 E_loss: 0.6566 Elapsed Time: 03:17:25\n"
     ]
    },
    {
     "name": "stdout",
     "output_type": "stream",
     "text": [
      "[141000] AB_loss: 0.2086 E_loss: 0.6931 Elapsed Time: 03:18:48\n"
     ]
    },
    {
     "name": "stdout",
     "output_type": "stream",
     "text": [
      "[142000] AB_loss: 0.1711 E_loss: 0.6677 Elapsed Time: 03:20:12\n"
     ]
    },
    {
     "name": "stdout",
     "output_type": "stream",
     "text": [
      "[143000] AB_loss: 0.1606 E_loss: 0.6901 Elapsed Time: 03:21:36\n"
     ]
    },
    {
     "name": "stdout",
     "output_type": "stream",
     "text": [
      "[144000] AB_loss: 0.1651 E_loss: 0.6909 Elapsed Time: 03:22:59\n"
     ]
    },
    {
     "name": "stdout",
     "output_type": "stream",
     "text": [
      "[145000] AB_loss: 0.1670 E_loss: 0.6919 Elapsed Time: 03:24:27\n"
     ]
    },
    {
     "name": "stdout",
     "output_type": "stream",
     "text": [
      "[146000] AB_loss: 0.1474 E_loss: 0.6906 Elapsed Time: 03:25:54\n"
     ]
    },
    {
     "name": "stdout",
     "output_type": "stream",
     "text": [
      "[147000] AB_loss: 0.1531 E_loss: 0.6939 Elapsed Time: 03:27:22\n"
     ]
    },
    {
     "name": "stdout",
     "output_type": "stream",
     "text": [
      "[148000] AB_loss: 0.1423 E_loss: 0.6931 Elapsed Time: 03:28:49\n"
     ]
    },
    {
     "name": "stdout",
     "output_type": "stream",
     "text": [
      "[149000] AB_loss: 0.1453 E_loss: 0.6801 Elapsed Time: 03:30:17\n"
     ]
    },
    {
     "name": "stdout",
     "output_type": "stream",
     "text": [
      "[150000] AB_loss: 0.1300 E_loss: 0.7084 Elapsed Time: 03:31:44\n"
     ]
    }
   ],
   "source": [
    "N = 16 # [16, 32, 64]\n",
    "minibatch_size = 4096 # [256..4096]\n",
    "A = ABENet(N, nkeys=1).to(DEVICE)   # Alice (encrypts with Public key)\n",
    "B = ABENet(N, nkeys=2).to(DEVICE)   # Bob   (decrypts with Private key)\n",
    "E = ABENet(N, nkeys=1).to(DEVICE)   # Eve\n",
    "PG = ABENet(N, nkeys=0).to(DEVICE)   # Public key generator (every party has pub-key)\n",
    "\n",
    "A_optimizer = optim.Adam(A.parameters(), lr=0.0008)\n",
    "B_optimizer = optim.Adam(B.parameters(), lr=0.0008)\n",
    "E_optimizer = optim.Adam(E.parameters(), lr=0.0008)\n",
    "PG_optimizer = optim.Adam(E.parameters(), lr=0.0008)\n",
    "\n",
    "l1_norm = nn.L1Loss()\n",
    "loss_bob, loss_eve = l1_norm, l1_norm\n",
    "loss_alicebob = lambda P_bob, P_eve, P: loss_bob(P_bob, P) + (((1.0 - loss_eve(P_eve, P))**2))\n",
    "\n",
    "max_iter = 150000\n",
    "ABs = []\n",
    "Es = []\n",
    "Rec_B = []\n",
    "Rec_E = []\n",
    "\n",
    "A.train()\n",
    "B.train()\n",
    "E.train()\n",
    "PG.train()\n",
    "\n",
    "start_time = time.time()\n",
    "for ic in range(max_iter):\n",
    "    for who, num_minibatches in [('AB', 1), ('E', 2)]:\n",
    "        for _ in range(num_minibatches):\n",
    "            P = torch.randint(low=0, high=2, size=(minibatch_size,N), dtype=torch.float).to(DEVICE)*2-1\n",
    "            K = torch.randint(low=0, high=2, size=(minibatch_size,N), dtype=torch.float).to(DEVICE)*2-1\n",
    "            \n",
    "            PK    = PG(K)\n",
    "            C     = A(torch.cat((P, PK), dim=1))\n",
    "            P_bob = B(torch.cat((C, PK, K), dim=1))\n",
    "            P_eve = E(torch.cat((C, PK), dim=1))\n",
    "\n",
    "            if who == 'AB':\n",
    "                AB_loss = loss_alicebob(P_bob, P_eve, P)\n",
    "                \n",
    "                A_optimizer.zero_grad()\n",
    "                B_optimizer.zero_grad()\n",
    "                PG_optimizer.zero_grad()\n",
    "                AB_loss.backward()\n",
    "                A_optimizer.step()\n",
    "                B_optimizer.step()\n",
    "                PG_optimizer.step()\n",
    "                \n",
    "            elif who == 'E':\n",
    "                E_loss  = loss_eve(P_eve, P)\n",
    "\n",
    "                E_optimizer.zero_grad()\n",
    "                E_loss.backward()\n",
    "                E_optimizer.step()\n",
    "\n",
    "    if ic % 1000 == 999:\n",
    "        elapsed_time = time.time() - start_time\n",
    "        print(\"[{:6d}] AB_loss: {:2.4f} E_loss: {:2.4f} Elapsed Time: {}\".format(\n",
    "            ic+1, AB_loss, E_loss, time.strftime(\"%H:%M:%S\", time.gmtime(elapsed_time))))\n",
    "    AB_rec = reconstruction_error(P, P_bob)\n",
    "    E_rec = reconstruction_error(P, P_eve)\n",
    "    Rec_B.append(AB_rec)\n",
    "    Rec_E.append(E_rec)\n",
    "    ABs.append(AB_loss.item())\n",
    "    Es.append(E_loss.item())\n",
    "    if AB_loss < 0.005 and E_loss > 0.5: # AB_loss < 0.05 and E_loss > 2\n",
    "        break\n"
   ]
  },
  {
   "cell_type": "code",
   "execution_count": 11,
   "metadata": {
    "autoscroll": false,
    "collapsed": false,
    "ein.hycell": false,
    "ein.tags": "worksheet-0",
    "slideshow": {
     "slide_type": "-"
    }
   },
   "outputs": [
    {
     "name": "stderr",
     "output_type": "stream",
     "text": [
      "/opt/conda/lib/python3.7/site-packages/IPython/core/pylabtools.py:128: UserWarning: Creating legend with loc=\"best\" can be slow with large amounts of data.\n",
      "  fig.canvas.print_figure(bytes_io, **kw)\n"
     ]
    },
    {
     "data": {
      "image/png": "[encoded data removed]",
      "text/plain": [
       "<Figure size 1008x576 with 1 Axes>"
      ]
     },
     "metadata": {},
     "output_type": "display_data"
    }
   ],
   "source": [
    "plt.figure(figsize=(14,8))\n",
    "plt.plot(range(1, len(ABs)+1), ABs, label='Alice/Bob')\n",
    "plt.plot(range(1, len(Es)+1), Es, label='Eve')\n",
    "plt.xlabel(\"Iteration\", fontsize=14)\n",
    "plt.ylabel(\"Loss\", fontsize=14)\n",
    "plt.legend(fontsize=14)\n",
    "plt.grid(True, which='both')\n",
    "plt.show()"
   ]
  },
  {
   "cell_type": "code",
   "execution_count": 12,
   "metadata": {
    "autoscroll": false,
    "collapsed": false,
    "ein.hycell": false,
    "ein.tags": "worksheet-0",
    "slideshow": {
     "slide_type": "-"
    }
   },
   "outputs": [
    {
     "data": {
      "image/png": "[encoded data removed]",
      "text/plain": [
       "<Figure size 1008x576 with 1 Axes>"
      ]
     },
     "metadata": {},
     "output_type": "display_data"
    }
   ],
   "source": [
    "plt.figure(figsize=(14,8))\n",
    "plt.plot(range(1, len(Rec_B)+1), Rec_B, label='Alice/Bob')\n",
    "plt.plot(range(1, len(Rec_E)+1), Rec_E, label='Eve')\n",
    "plt.xlabel(\"Iteration\", fontsize=14)\n",
    "plt.ylabel(\"Reconstruction Error (bits)\", fontsize=14)\n",
    "plt.legend(fontsize=14)\n",
    "plt.grid(True, which='both')\n",
    "plt.show()"
   ]
  },
  {
   "cell_type": "code",
   "execution_count": 17,
   "metadata": {
    "autoscroll": false,
    "collapsed": false,
    "ein.hycell": false,
    "ein.tags": "worksheet-0",
    "slideshow": {
     "slide_type": "-"
    }
   },
   "outputs": [],
   "source": [
    "def train_best_eve(PG, A,\n",
    "                   max_iter=250000,\n",
    "                   retries=5,\n",
    "                   debug_print=10000):\n",
    "\n",
    "    Best_E_Rec = float(\"Inf\")\n",
    "    Best_E_loss = float(\"Inf\")\n",
    "    Best_E = None\n",
    "\n",
    "    for es in range(retries):\n",
    "        CE = ABENet(N, nkeys=1).to(DEVICE)\n",
    "        CE_optimizer = optim.Adam(CE.parameters(), lr=0.0008)\n",
    "        CE.train()\n",
    "        start_time = time.time()\n",
    "        for ic in range(max_iter):\n",
    "            P = torch.randint(low=0, high=2, size=(minibatch_size,N), dtype=torch.float).to(DEVICE)*2-1\n",
    "            K = torch.randint(low=0, high=2, size=(minibatch_size,N), dtype=torch.float).to(DEVICE)*2-1\n",
    "            \n",
    "            PK    = PG(K)\n",
    "            C     = A(torch.cat((P, PK), dim=1))\n",
    "            P_eve = CE(torch.cat((C, PK), dim=1))\n",
    "            CE_loss = loss_eve(P_eve, P)\n",
    "            \n",
    "            CE_optimizer.zero_grad()\n",
    "            CE_loss.backward()\n",
    "            CE_optimizer.step()\n",
    "\n",
    "            if debug_print > 0 and ic % debug_print == (debug_print-1):\n",
    "                elapsed_time = time.time() - start_time\n",
    "                print(\"[{:d} - {:6d}] CE_loss: {:2.4f} Elapsed Time: {}\".format(\n",
    "                    es+1, ic+1, CE_loss, time.strftime(\"%H:%M:%S\", time.gmtime(elapsed_time))))\n",
    "\n",
    "            if CE_loss <= 0.05:\n",
    "                raise RuntimeError(\"Optimal E found!\")\n",
    "                break\n",
    "            \n",
    "        if CE_loss.item() < Best_E_loss:\n",
    "            Best_E_loss = CE_loss.item()\n",
    "            Best_E = CE\n",
    "            Best_E_Rec = reconstruction_error(P, P_eve)\n",
    "\n",
    "    return Best_E, Best_E_loss, Best_E_Rec"
   ]
  },
  {
   "cell_type": "code",
   "execution_count": 18,
   "metadata": {
    "autoscroll": false,
    "collapsed": false,
    "ein.hycell": false,
    "ein.tags": "worksheet-0",
    "slideshow": {
     "slide_type": "-"
    }
   },
   "outputs": [
    {
     "name": "stdout",
     "output_type": "stream",
     "text": [
      "[1 -  10000] CE_loss: 0.2001 Elapsed Time: 00:04:00\n"
     ]
    },
    {
     "name": "stdout",
     "output_type": "stream",
     "text": [
      "[1 -  20000] CE_loss: 0.1211 Elapsed Time: 00:08:01\n"
     ]
    },
    {
     "name": "stdout",
     "output_type": "stream",
     "text": [
      "[1 -  30000] CE_loss: 0.0900 Elapsed Time: 00:12:01\n"
     ]
    },
    {
     "name": "stdout",
     "output_type": "stream",
     "text": [
      "[1 -  40000] CE_loss: 0.0809 Elapsed Time: 00:16:05\n"
     ]
    },
    {
     "data": {
      "text/plain": [
       "0.08091798424720764"
      ]
     },
     "execution_count": 18,
     "metadata": {},
     "output_type": "execute_result"
    }
   ],
   "source": [
    "Best_E, Best_E_loss, Best_E_Rec = train_best_eve(PG, A, retries=1, max_iter=40000)\n",
    "Best_E_loss"
   ]
  }
 ],
 "metadata": {
  "kernelspec": {
   "argv": [
    "python",
    "-m",
    "ipykernel_launcher",
    "-f",
    "{connection_file}"
   ],
   "display_name": "Python 3",
   "env": null,
   "interrupt_mode": "signal",
   "language": "python",
   "metadata": null,
   "name": "python3"
  },
  "name": "asymmetric_encryption_2.ipynb"
 },
 "nbformat": 4,
 "nbformat_minor": 4
}
