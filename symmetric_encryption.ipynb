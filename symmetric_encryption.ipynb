{
 "cells": [
  {
   "cell_type": "code",
   "execution_count": 1,
   "metadata": {
    "autoscroll": false,
    "collapsed": false,
    "ein.hycell": false,
    "ein.tags": "worksheet-0",
    "jupyter": {
     "outputs_hidden": false
    },
    "slideshow": {
     "slide_type": "-"
    }
   },
   "outputs": [],
   "source": [
    "import time\n",
    "\n",
    "import torch\n",
    "import torch.nn as nn\n",
    "import torch.nn.functional as F\n",
    "import torch.optim as optim\n",
    "\n",
    "import matplotlib.pyplot as plt\n",
    "import numpy as np"
   ]
  },
  {
   "cell_type": "code",
   "execution_count": 2,
   "metadata": {
    "autoscroll": false,
    "collapsed": false,
    "ein.hycell": false,
    "ein.tags": "worksheet-0",
    "jupyter": {
     "outputs_hidden": false
    },
    "slideshow": {
     "slide_type": "-"
    }
   },
   "outputs": [],
   "source": [
    "class ABENet(nn.Module):\n",
    "    def __init__(self, N, has_key=True):\n",
    "        super(ABENet, self).__init__()\n",
    "        self.N = N\n",
    "        \n",
    "        self.fc    = nn.Linear(in_features=2*N if has_key else N, out_features=2*N)\n",
    "        self.conv1 = nn.Conv1d(kernel_size=4, in_channels=1, out_channels=2, stride=1, padding=2)\n",
    "        self.conv2 = nn.Conv1d(kernel_size=2, in_channels=2, out_channels=4, stride=2)\n",
    "        self.conv3 = nn.Conv1d(kernel_size=1, in_channels=4, out_channels=4, stride=1)\n",
    "        self.conv4 = nn.Conv1d(kernel_size=1, in_channels=4, out_channels=1, stride=1)\n",
    "\n",
    "    def forward(self, x):\n",
    "        x = torch.sigmoid( self.fc(x) )\n",
    "        x = x.view(-1, 1, 2*self.N)\n",
    "        x = torch.sigmoid( self.conv1(x) )\n",
    "        x = torch.sigmoid( self.conv2(x) )\n",
    "        x = torch.sigmoid( self.conv3(x) )\n",
    "        x = torch.tanh(    self.conv4(x) )\n",
    "        x = x.view(-1, self.N)\n",
    "        return x"
   ]
  },
  {
   "cell_type": "code",
   "execution_count": 3,
   "metadata": {
    "autoscroll": false,
    "collapsed": false,
    "ein.hycell": false,
    "ein.tags": "worksheet-0",
    "jupyter": {
     "outputs_hidden": false
    },
    "slideshow": {
     "slide_type": "-"
    }
   },
   "outputs": [
    {
     "data": {
      "text/plain": [
       "device(type='cuda', index=0)"
      ]
     },
     "execution_count": 3,
     "metadata": {},
     "output_type": "execute_result"
    }
   ],
   "source": [
    "DEVICE = torch.device(\"cuda:0\" if torch.cuda.is_available() else \"cpu\")\n",
    "DEVICE"
   ]
  },
  {
   "cell_type": "markdown",
   "metadata": {
    "ein.tags": "worksheet-0",
    "slideshow": {
     "slide_type": "-"
    }
   },
   "source": [
    "![symmetric_encryption](img/symmetric_enc.png)"
   ]
  },
  {
   "cell_type": "code",
   "execution_count": 5,
   "metadata": {
    "autoscroll": false,
    "collapsed": false,
    "ein.hycell": false,
    "ein.tags": "worksheet-0",
    "jupyter": {
     "outputs_hidden": false
    },
    "slideshow": {
     "slide_type": "-"
    }
   },
   "outputs": [],
   "source": [
    "N = 16 # [16, 32, 64]\n",
    "minibatch_size = 4096 # [256..4096]\n",
    "\n",
    "A = ABENet(N, has_key=True).to(DEVICE)\n",
    "B = ABENet(N, has_key=True).to(DEVICE)\n",
    "E = ABENet(N, has_key=False).to(DEVICE)"
   ]
  },
  {
   "cell_type": "code",
   "execution_count": 6,
   "metadata": {
    "autoscroll": false,
    "collapsed": false,
    "ein.hycell": false,
    "ein.tags": "worksheet-0",
    "jupyter": {
     "outputs_hidden": false
    },
    "slideshow": {
     "slide_type": "-"
    }
   },
   "outputs": [],
   "source": [
    "#l1_norm = lambda P1, P: torch.mean( torch.sum( torch.abs(P1 - P), dim=1 ), dim=0 ) # mean of batch\n",
    "l1_norm = nn.L1Loss()\n",
    "loss_eve = l1_norm\n",
    "loss_bob = l1_norm\n",
    "#loss_alicebob = lambda P_bob, P_eve, P: loss_bob(P_bob, P) + (((N/2 - loss_eve(P_eve, P))**2) / ((N/2)**2))\n",
    "loss_alicebob = lambda P_bob, P_eve, P: loss_bob(P_bob, P) + (((1.0 - loss_eve(P_eve, P))**2))"
   ]
  },
  {
   "cell_type": "code",
   "execution_count": 7,
   "metadata": {
    "autoscroll": false,
    "collapsed": false,
    "ein.hycell": false,
    "ein.tags": "worksheet-0",
    "slideshow": {
     "slide_type": "-"
    }
   },
   "outputs": [],
   "source": [
    "def reconstruction_error(Out, Original):\n",
    "    return torch.mean( torch.sum( torch.sign(Original) != torch.sign(Out), dim=1)\n",
    "                       .to(torch.float), dim=0).item()"
   ]
  },
  {
   "cell_type": "code",
   "execution_count": 8,
   "metadata": {
    "autoscroll": false,
    "collapsed": false,
    "ein.hycell": false,
    "ein.tags": "worksheet-0",
    "slideshow": {
     "slide_type": "-"
    }
   },
   "outputs": [],
   "source": [
    "def gen_bitstring(N, batch_size=minibatch_size):\n",
    "    return torch.randint(low=0, high=2, size=(batch_size,N), dtype=torch.float).to(DEVICE)*2-1"
   ]
  },
  {
   "cell_type": "code",
   "execution_count": 9,
   "metadata": {
    "autoscroll": false,
    "collapsed": false,
    "ein.hycell": false,
    "ein.tags": "worksheet-0",
    "slideshow": {
     "slide_type": "-"
    }
   },
   "outputs": [],
   "source": [
    "def train_abe(A, B, E,\n",
    "              lr=0.0008,\n",
    "              max_iter=150000,\n",
    "              debug_print=1000,\n",
    "              loss_eve=loss_eve,\n",
    "              loss_alicebob=loss_alicebob,\n",
    "              stop_condition=(lambda AB_loss, E_loss, AB_rec, E_rec:\n",
    "                              #AB_loss < 0.005 and E_loss > 0.5\n",
    "                              AB_rec < 0.05 and E_rec > 7.5)):\n",
    "    \n",
    "    # Optimizers\n",
    "    A_optimizer = optim.Adam(A.parameters(), lr=0.0008)\n",
    "    B_optimizer = optim.Adam(B.parameters(), lr=0.0008)\n",
    "    E_optimizer = optim.Adam(E.parameters(), lr=0.0008)\n",
    "\n",
    "    ABs = [] # AB loss values\n",
    "    Es  = [] # E loss values\n",
    "\n",
    "    Rec_B = []\n",
    "    Rec_E = []\n",
    "    \n",
    "    [X.train() for X in [A,B,E]] # Set models in training mode\n",
    "\n",
    "    start_time = time.time()\n",
    "    for ic in range(max_iter):\n",
    "        # Train A/B for 1 minibtach and E for 2 minibatches to give it some advantage\n",
    "        for who, num_minibatches in [('AB', 1), ('E', 2)]:\n",
    "            for _ in range(num_minibatches):\n",
    "                P = gen_bitstring(N, batch_size=minibatch_size)\n",
    "                K = gen_bitstring(N, batch_size=minibatch_size) \n",
    "\n",
    "                C     = A(torch.cat((P, K), dim=1))\n",
    "                P_bob = B(torch.cat((C, K), dim=1))\n",
    "                P_eve = E(C)\n",
    "\n",
    "                if who == 'AB':\n",
    "                    A_optimizer.zero_grad()\n",
    "                    B_optimizer.zero_grad()\n",
    "                    AB_loss = loss_alicebob(P_bob, P_eve, P)\n",
    "                \n",
    "                    AB_loss.backward()\n",
    "                    A_optimizer.step()\n",
    "                    B_optimizer.step()\n",
    "                \n",
    "                elif who == 'E':\n",
    "                    E_optimizer.zero_grad()\n",
    "                    E_loss  = loss_eve(P_eve, P)\n",
    "                    \n",
    "                    E_loss.backward()\n",
    "                    E_optimizer.step()\n",
    "\n",
    "        if debug_print > 0 and ic % debug_print == (debug_print-1):\n",
    "            elapsed_time = time.time() - start_time\n",
    "            print(\"[{:6d}] AB_loss: {:2.4f} E_loss: {:2.4f} Elapsed Time: {}\".format(\n",
    "                ic+1, AB_loss, E_loss, time.strftime(\"%H:%M:%S\", time.gmtime(elapsed_time))))\n",
    "\n",
    "        AB_rec = reconstruction_error(P, P_bob)\n",
    "        E_rec = reconstruction_error(P, P_eve)\n",
    "        Rec_B.append(AB_rec)\n",
    "        Rec_E.append(E_rec)\n",
    "        ABs.append(AB_loss.item())\n",
    "        Es.append(E_loss.item())\n",
    "\n",
    "        if stop_condition(AB_loss, E_loss, AB_rec, E_rec):\n",
    "            break\n",
    "\n",
    "    [X.train(False) for X in [A,B,E]]\n",
    "    return ABs, Es, Rec_B, Rec_E"
   ]
  },
  {
   "cell_type": "code",
   "execution_count": 30,
   "metadata": {
    "autoscroll": false,
    "collapsed": false,
    "ein.hycell": false,
    "ein.tags": "worksheet-0",
    "jupyter": {
     "outputs_hidden": false
    },
    "slideshow": {
     "slide_type": "-"
    }
   },
   "outputs": [
    {
     "name": "stdout",
     "output_type": "stream",
     "text": [
      "[  1000] AB_loss: 1.0012 E_loss: 0.9985 Elapsed Time: 00:00:34\n",
      "[  2000] AB_loss: 1.0029 E_loss: 0.9963 Elapsed Time: 00:01:08\n",
      "[  3000] AB_loss: 1.0014 E_loss: 1.0021 Elapsed Time: 00:01:43\n",
      "[  4000] AB_loss: 0.1140 E_loss: 0.7545 Elapsed Time: 00:02:17\n",
      "[  5000] AB_loss: 0.0258 E_loss: 0.8682 Elapsed Time: 00:02:52\n",
      "[  6000] AB_loss: 0.0118 E_loss: 0.9116 Elapsed Time: 00:03:26\n",
      "[  7000] AB_loss: 0.0072 E_loss: 0.9356 Elapsed Time: 00:04:01\n"
     ]
    }
   ],
   "source": [
    "ABs, Es, RBs, ERs = train_abe(A,B,E, max_iter=15000)"
   ]
  },
  {
   "cell_type": "code",
   "execution_count": 10,
   "metadata": {
    "autoscroll": false,
    "collapsed": false,
    "ein.hycell": false,
    "ein.tags": "worksheet-0",
    "jupyter": {
     "outputs_hidden": false
    },
    "slideshow": {
     "slide_type": "-"
    }
   },
   "outputs": [],
   "source": [
    "def plot_abe_losses(ABs, Es, ylabel=\"Loss\"):\n",
    "    plt.figure(figsize=(14,8))\n",
    "    plt.plot(range(1, len(ABs)+1), ABs, label='Alice/Bob')\n",
    "    plt.plot(range(1, len(Es)+1), Es, label='Eve')\n",
    "    plt.xlabel(\"Iteration\", fontsize=14)\n",
    "    plt.ylabel(ylabel, fontsize=14)\n",
    "    plt.legend(fontsize=14)\n",
    "    plt.grid(True, which='both')\n",
    "    plt.show()"
   ]
  },
  {
   "cell_type": "code",
   "execution_count": 32,
   "metadata": {
    "autoscroll": false,
    "collapsed": false,
    "ein.hycell": false,
    "ein.tags": "worksheet-0",
    "slideshow": {
     "slide_type": "-"
    }
   },
   "outputs": [
    {
     "data": {
      "image/png": "[encoded data removed]",
      "text/plain": [
       "<Figure size 1008x576 with 1 Axes>"
      ]
     },
     "metadata": {},
     "output_type": "display_data"
    },
    {
     "data": {
      "image/png": "[encoded data removed]",
      "text/plain": [
       "<Figure size 1008x576 with 1 Axes>"
      ]
     },
     "metadata": {},
     "output_type": "display_data"
    }
   ],
   "source": [
    "plot_abe_losses(ABs, Es)\n",
    "plot_abe_losses(RBs, ERs, ylabel=\"Reconstruction Error (bits)\")"
   ]
  },
  {
   "cell_type": "code",
   "execution_count": 11,
   "metadata": {
    "autoscroll": false,
    "collapsed": false,
    "ein.hycell": false,
    "ein.tags": "worksheet-0",
    "jupyter": {
     "outputs_hidden": false
    },
    "slideshow": {
     "slide_type": "-"
    }
   },
   "outputs": [],
   "source": [
    "def test_enc(A,B,E, debug=True):\n",
    "    with torch.no_grad():\n",
    "        P = gen_bitstring(N, batch_size=1)\n",
    "        K = gen_bitstring(N, batch_size=1)\n",
    "        C = A(torch.cat((P, K), dim=1))\n",
    "        D = B(torch.cat((C, K), dim=1))\n",
    "        F = E(C)\n",
    "        if debug:\n",
    "            print (\"P:\\n\", P.cpu())\n",
    "            print (\"K:\\n\", K.cpu())\n",
    "            print (\"A(P,K):\\n\", C.cpu())\n",
    "            print (\"B(A(P, K), K):\\n\", D.cpu())\n",
    "            print (\"E(A(P, K)):\\n\", F.cpu())\n",
    "        return P, K, C, D, F"
   ]
  },
  {
   "cell_type": "code",
   "execution_count": 34,
   "metadata": {
    "autoscroll": false,
    "collapsed": false,
    "ein.hycell": false,
    "ein.tags": "worksheet-0",
    "slideshow": {
     "slide_type": "-"
    }
   },
   "outputs": [
    {
     "name": "stdout",
     "output_type": "stream",
     "text": [
      "P:\n",
      " tensor([[-1.,  1., -1., -1.,  1., -1., -1., -1.,  1.,  1., -1., -1., -1.,  1.,\n",
      "          1., -1.]])\n",
      "K:\n",
      " tensor([[-1.,  1., -1.,  1., -1.,  1.,  1.,  1., -1., -1., -1., -1.,  1.,  1.,\n",
      "         -1., -1.]])\n",
      "A(P,K):\n",
      " tensor([[-0.2108, -0.4068,  0.5591,  0.5356, -0.5933,  0.5051,  0.5608, -0.4685,\n",
      "          0.5518, -0.3741,  0.7064, -0.6699,  0.5502, -0.6388,  0.5095,  0.6827]])\n",
      "B(A(P, K), K):\n",
      " tensor([[-0.9982,  0.9986, -0.9991, -0.9953,  0.9994, -0.9992, -0.9993, -0.9986,\n",
      "          0.9992,  0.9995, -0.9961, -0.9981, -0.9992,  0.9990,  0.9981, -0.9973]])\n",
      "E(A(P, K)):\n",
      " tensor([[-0.9996, -0.9998, -0.9999,  0.9998, -0.9998, -0.9998, -0.9998,  1.0000,\n",
      "          0.9999, -0.9998,  1.0000, -0.9956, -0.9999, -0.9998, -0.9998,  1.0000]])\n"
     ]
    }
   ],
   "source": [
    "_ = test_enc(A,B,E, debug=True)"
   ]
  },
  {
   "cell_type": "code",
   "execution_count": 35,
   "metadata": {
    "autoscroll": false,
    "collapsed": false,
    "ein.hycell": false,
    "ein.tags": "worksheet-0",
    "slideshow": {
     "slide_type": "-"
    }
   },
   "outputs": [
    {
     "name": "stdout",
     "output_type": "stream",
     "text": [
      "B: 0.0000\n",
      "E: 7.4283\n"
     ]
    }
   ],
   "source": [
    "def test_BE(A, B, E):\n",
    "    TEST_SIZE = 10000\n",
    "    B_rec = 0\n",
    "    E_rec = 0\n",
    "        \n",
    "    for I in range(TEST_SIZE):\n",
    "        P, K, C, P_b, P_e = test_enc(A,B,E, debug=False)\n",
    "        B_rec += reconstruction_error(P, P_b)\n",
    "        E_rec += reconstruction_error(P, P_e)\n",
    "    return B_rec/TEST_SIZE, E_rec/TEST_SIZE\n",
    "\n",
    "testB, testE = test_BE(A, B, E)\n",
    "print (\"B: {:.4f}\".format(testB))\n",
    "print (\"E: {:.4f}\".format(testE))\n"
   ]
  },
  {
   "cell_type": "code",
   "execution_count": 12,
   "metadata": {
    "autoscroll": false,
    "collapsed": false,
    "ein.hycell": false,
    "ein.tags": "worksheet-0",
    "slideshow": {
     "slide_type": "-"
    }
   },
   "outputs": [],
   "source": [
    "def train_best_eve(A, E,\n",
    "                   max_iter=250000,\n",
    "                   retries=5,\n",
    "                   debug_print=10000):\n",
    "\n",
    "    Best_E_Rec = float(\"Inf\")\n",
    "    Best_E_loss = float(\"Inf\")\n",
    "    Best_E = None\n",
    "\n",
    "    for es in range(retries):\n",
    "        CE = ABENet(N, has_key=False).to(DEVICE)\n",
    "        CE_optimizer = optim.Adam(CE.parameters(), lr=0.0008)\n",
    "        CE.train()\n",
    "        start_time = time.time()\n",
    "        for ic in range(max_iter):\n",
    "            P = gen_bitstring(N, batch_size=minibatch_size)\n",
    "            K = gen_bitstring(N, batch_size=minibatch_size)\n",
    "                   \n",
    "            C       = A(torch.cat((P, K), dim=1))\n",
    "            P_eve   = CE(C)\n",
    "            CE_loss = loss_eve(P_eve, P)\n",
    "            CE_optimizer.zero_grad()\n",
    "            CE_loss.backward()\n",
    "            CE_optimizer.step()\n",
    "\n",
    "            if debug_print > 0 and ic % debug_print == (debug_print-1):\n",
    "                elapsed_time = time.time() - start_time\n",
    "                print(\"[{:d} - {:6d}] CE_loss: {:2.4f} Elapsed Time: {}\".format(\n",
    "                    es+1, ic+1, CE_loss, time.strftime(\"%H:%M:%S\", time.gmtime(elapsed_time))))\n",
    "\n",
    "            if CE_loss <= 0.05:\n",
    "                raise RuntimeError(\"Optimal E found!\")\n",
    "                break\n",
    "            \n",
    "        if CE_loss.item() < Best_E_loss:\n",
    "            Best_E_loss = CE_loss.item()\n",
    "            Best_E = CE\n",
    "            Best_E_Rec = reconstruction_error(P, P_eve)\n",
    "\n",
    "    return Best_E, Best_E_loss, Best_E_Rec"
   ]
  },
  {
   "cell_type": "code",
   "execution_count": 38,
   "metadata": {
    "autoscroll": false,
    "collapsed": false,
    "ein.hycell": false,
    "ein.tags": "worksheet-0",
    "slideshow": {
     "slide_type": "-"
    }
   },
   "outputs": [
    {
     "name": "stdout",
     "output_type": "stream",
     "text": [
      "[1 -  10000] CE_loss: 0.8267 Elapsed Time: 00:01:39\n",
      "[1 -  20000] CE_loss: 0.8188 Elapsed Time: 00:03:18\n"
     ]
    },
    {
     "data": {
      "text/plain": [
       "0.8187873959541321"
      ]
     },
     "execution_count": 38,
     "metadata": {},
     "output_type": "execute_result"
    }
   ],
   "source": [
    "Best_E, Best_E_loss, Best_E_Rec = train_best_eve(A, E, retries=1, max_iter=20000)\n",
    "Best_E_loss"
   ]
  },
  {
   "cell_type": "code",
   "execution_count": 13,
   "metadata": {
    "autoscroll": false,
    "collapsed": false,
    "ein.hycell": false,
    "ein.tags": "worksheet-0",
    "slideshow": {
     "slide_type": "-"
    }
   },
   "outputs": [],
   "source": [
    "# Train new A,B,E and validate them for 20 times\n",
    "def validate(num_times=20, max_iter_abe=15000, retries=5, max_iter_e=15000):\n",
    "    AB     = []\n",
    "    AB_rec = []\n",
    "    BE     = []\n",
    "    BE_rec = []\n",
    "    start_time = time.time()\n",
    "    for n in range(num_times):\n",
    "        A = ABENet(N, has_key=True).to(DEVICE)\n",
    "        B = ABENet(N, has_key=True).to(DEVICE)\n",
    "        E = ABENet(N, has_key=False).to(DEVICE)\n",
    "        ABs, Es, RABs, REs = train_abe(A,B,E, max_iter=max_iter_abe, debug_print=5000)\n",
    "        _, Best_E_loss, BRE = train_best_eve(\n",
    "            A, E, retries=retries, max_iter=max_iter_e, debug_print=7500)\n",
    "        AB.append(ABs[-1])\n",
    "        AB_rec.append(RABs[-1])\n",
    "        BE.append(Best_E_loss)\n",
    "        BE_rec.append(BRE)\n",
    "        elapsed_time = time.time() - start_time\n",
    "        print(\"[N: {}] AB_loss: {:2.4f} E_loss: {:2.4f} Elapsed Time: {}\".format(\n",
    "            n+1, ABs[-1], Best_E_loss, time.strftime(\"%H:%M:%S\", time.gmtime(elapsed_time))))\n",
    "\n",
    "    return AB, BE, AB_rec, BE_rec\n"
   ]
  },
  {
   "cell_type": "code",
   "execution_count": 40,
   "metadata": {
    "autoscroll": false,
    "collapsed": false,
    "ein.hycell": false,
    "ein.tags": "worksheet-0",
    "slideshow": {
     "slide_type": "-"
    }
   },
   "outputs": [
    {
     "name": "stdout",
     "output_type": "stream",
     "text": [
      "[  5000] AB_loss: 1.0015 E_loss: 0.9952 Elapsed Time: 00:02:52\n",
      "[1 -   7500] CE_loss: 0.7583 Elapsed Time: 00:01:14\n",
      "[1 -  15000] CE_loss: 0.7390 Elapsed Time: 00:02:28\n",
      "[2 -   7500] CE_loss: 0.7705 Elapsed Time: 00:01:14\n",
      "[2 -  15000] CE_loss: 0.7628 Elapsed Time: 00:02:29\n",
      "[3 -   7500] CE_loss: 0.7422 Elapsed Time: 00:01:14\n",
      "[3 -  15000] CE_loss: 0.7424 Elapsed Time: 00:02:28\n",
      "[4 -   7500] CE_loss: 0.7452 Elapsed Time: 00:01:14\n",
      "[4 -  15000] CE_loss: 0.7327 Elapsed Time: 00:02:28\n",
      "[5 -   7500] CE_loss: 0.7491 Elapsed Time: 00:01:14\n",
      "[5 -  15000] CE_loss: 0.7414 Elapsed Time: 00:02:28\n",
      "[N: 1] AB_loss: 0.0069 E_loss: 0.7327 Elapsed Time: 00:17:56\n",
      "[  5000] AB_loss: 0.0096 E_loss: 0.9216 Elapsed Time: 00:02:52\n",
      "[1 -   7500] CE_loss: 0.8409 Elapsed Time: 00:01:14\n",
      "[1 -  15000] CE_loss: 0.8369 Elapsed Time: 00:02:29\n",
      "[2 -   7500] CE_loss: 0.8428 Elapsed Time: 00:01:14\n",
      "[2 -  15000] CE_loss: 0.8426 Elapsed Time: 00:02:29\n",
      "[3 -   7500] CE_loss: 0.8666 Elapsed Time: 00:01:14\n",
      "[3 -  15000] CE_loss: 0.8595 Elapsed Time: 00:02:29\n",
      "[4 -   7500] CE_loss: 0.8581 Elapsed Time: 00:01:14\n",
      "[4 -  15000] CE_loss: 0.8541 Elapsed Time: 00:02:29\n",
      "[5 -   7500] CE_loss: 0.8497 Elapsed Time: 00:01:14\n",
      "[5 -  15000] CE_loss: 0.8357 Elapsed Time: 00:02:28\n",
      "[N: 2] AB_loss: 0.0072 E_loss: 0.8357 Elapsed Time: 00:33:39\n",
      "[  5000] AB_loss: 0.1218 E_loss: 0.7666 Elapsed Time: 00:02:52\n",
      "[1 -   7500] CE_loss: 0.8450 Elapsed Time: 00:01:14\n",
      "[1 -  15000] CE_loss: 0.8368 Elapsed Time: 00:02:28\n",
      "[2 -   7500] CE_loss: 0.8428 Elapsed Time: 00:01:14\n",
      "[2 -  15000] CE_loss: 0.8374 Elapsed Time: 00:02:28\n",
      "[3 -   7500] CE_loss: 0.8262 Elapsed Time: 00:01:14\n",
      "[3 -  15000] CE_loss: 0.8289 Elapsed Time: 00:02:28\n",
      "[4 -   7500] CE_loss: 0.8212 Elapsed Time: 00:01:14\n",
      "[4 -  15000] CE_loss: 0.8273 Elapsed Time: 00:02:29\n",
      "[5 -   7500] CE_loss: 0.8642 Elapsed Time: 00:01:14\n",
      "[5 -  15000] CE_loss: 0.8624 Elapsed Time: 00:02:28\n",
      "[N: 3] AB_loss: 0.0071 E_loss: 0.8273 Elapsed Time: 00:50:51\n",
      "[  5000] AB_loss: 0.9998 E_loss: 0.9954 Elapsed Time: 00:02:52\n",
      "[ 10000] AB_loss: 0.0535 E_loss: 0.8882 Elapsed Time: 00:05:44\n",
      "[1 -   7500] CE_loss: 0.6710 Elapsed Time: 00:01:14\n",
      "[1 -  15000] CE_loss: 0.6559 Elapsed Time: 00:02:28\n",
      "[2 -   7500] CE_loss: 0.6295 Elapsed Time: 00:01:14\n",
      "[2 -  15000] CE_loss: 0.6323 Elapsed Time: 00:02:29\n",
      "[3 -   7500] CE_loss: 0.6646 Elapsed Time: 00:01:14\n",
      "[3 -  15000] CE_loss: 0.6502 Elapsed Time: 00:02:29\n",
      "[4 -   7500] CE_loss: 0.6379 Elapsed Time: 00:01:14\n",
      "[4 -  15000] CE_loss: 0.6284 Elapsed Time: 00:02:28\n",
      "[5 -   7500] CE_loss: 0.6587 Elapsed Time: 00:01:14\n",
      "[5 -  15000] CE_loss: 0.6476 Elapsed Time: 00:02:28\n",
      "[N: 4] AB_loss: 0.0076 E_loss: 0.6284 Elapsed Time: 01:09:58\n",
      "[  5000] AB_loss: 0.1490 E_loss: 0.8168 Elapsed Time: 00:02:52\n",
      "[ 10000] AB_loss: 0.0365 E_loss: 0.9426 Elapsed Time: 00:05:44\n",
      "[ 15000] AB_loss: 0.0329 E_loss: 0.9642 Elapsed Time: 00:08:36\n",
      "[1 -   7500] CE_loss: 0.8852 Elapsed Time: 00:01:14\n",
      "[1 -  15000] CE_loss: 0.8702 Elapsed Time: 00:02:29\n",
      "[2 -   7500] CE_loss: 0.8925 Elapsed Time: 00:01:14\n",
      "[2 -  15000] CE_loss: 0.8754 Elapsed Time: 00:02:28\n",
      "[3 -   7500] CE_loss: 0.8716 Elapsed Time: 00:01:14\n",
      "[3 -  15000] CE_loss: 0.8526 Elapsed Time: 00:02:28\n",
      "[4 -   7500] CE_loss: 0.8682 Elapsed Time: 00:01:14\n",
      "[4 -  15000] CE_loss: 0.8681 Elapsed Time: 00:02:28\n",
      "[5 -   7500] CE_loss: 0.8815 Elapsed Time: 00:01:14\n",
      "[5 -  15000] CE_loss: 0.8631 Elapsed Time: 00:02:29\n",
      "[N: 5] AB_loss: 0.0329 E_loss: 0.8526 Elapsed Time: 01:31:00\n"
     ]
    }
   ],
   "source": [
    "AB, BE, AB_rec, BE_rec = validate(num_times=5, retries=5, max_iter_abe=15000, max_iter_e=15000)"
   ]
  },
  {
   "cell_type": "code",
   "execution_count": 16,
   "metadata": {
    "autoscroll": false,
    "collapsed": false,
    "ein.hycell": false,
    "ein.tags": "worksheet-0",
    "slideshow": {
     "slide_type": "-"
    }
   },
   "outputs": [],
   "source": [
    "def plot_best_eves(AB, BE):\n",
    "    plt.figure(figsize=(14,8))\n",
    "    plt.scatter(AB,BE, marker='x')\n",
    "    plt.xlabel(\"Alice-Bob Error\", fontsize=14)\n",
    "    plt.ylabel(\"Best Eve Error\", fontsize=14)\n",
    "    plt.grid(True, which='both')\n",
    "    plt.show()"
   ]
  },
  {
   "cell_type": "code",
   "execution_count": 41,
   "metadata": {
    "autoscroll": false,
    "collapsed": false,
    "ein.hycell": false,
    "ein.tags": "worksheet-0",
    "slideshow": {
     "slide_type": "-"
    }
   },
   "outputs": [
    {
     "data": {
      "image/png": "[encoded data removed]",
      "text/plain": [
       "<Figure size 1008x576 with 1 Axes>"
      ]
     },
     "metadata": {},
     "output_type": "display_data"
    }
   ],
   "source": [
    "plot_best_eves(AB_rec, BE_rec)"
   ]
  },
  {
   "cell_type": "code",
   "execution_count": 15,
   "metadata": {
    "autoscroll": false,
    "collapsed": false,
    "ein.hycell": false,
    "ein.tags": "worksheet-0",
    "slideshow": {
     "slide_type": "-"
    }
   },
   "outputs": [
    {
     "name": "stdout",
     "output_type": "stream",
     "text": [
      "[  5000] AB_loss: 0.0070 E_loss: 0.9307 Elapsed Time: 00:02:51\n"
     ]
    },
    {
     "name": "stdout",
     "output_type": "stream",
     "text": [
      "[1 -   7500] CE_loss: 0.8475 Elapsed Time: 00:01:14\n"
     ]
    },
    {
     "name": "stdout",
     "output_type": "stream",
     "text": [
      "[1 -  15000] CE_loss: 0.8476 Elapsed Time: 00:03:26\n"
     ]
    },
    {
     "name": "stdout",
     "output_type": "stream",
     "text": [
      "[2 -   7500] CE_loss: 0.8407 Elapsed Time: 00:02:14\n"
     ]
    },
    {
     "name": "stdout",
     "output_type": "stream",
     "text": [
      "[2 -  15000] CE_loss: 0.8296 Elapsed Time: 00:04:28\n"
     ]
    },
    {
     "name": "stdout",
     "output_type": "stream",
     "text": [
      "[3 -   7500] CE_loss: 0.8339 Elapsed Time: 00:02:14\n"
     ]
    },
    {
     "name": "stdout",
     "output_type": "stream",
     "text": [
      "[3 -  15000] CE_loss: 0.8385 Elapsed Time: 00:04:29\n"
     ]
    },
    {
     "name": "stdout",
     "output_type": "stream",
     "text": [
      "[4 -   7500] CE_loss: 0.8570 Elapsed Time: 00:02:14\n"
     ]
    },
    {
     "name": "stdout",
     "output_type": "stream",
     "text": [
      "[4 -  15000] CE_loss: 0.8444 Elapsed Time: 00:04:29\n"
     ]
    },
    {
     "name": "stdout",
     "output_type": "stream",
     "text": [
      "[5 -   7500] CE_loss: 0.8446 Elapsed Time: 00:02:14\n"
     ]
    },
    {
     "name": "stdout",
     "output_type": "stream",
     "text": [
      "[5 -  15000] CE_loss: 0.8379 Elapsed Time: 00:04:29\n",
      "[N: 1] AB_loss: 0.0072 E_loss: 0.8296 Elapsed Time: 00:24:16\n"
     ]
    },
    {
     "name": "stdout",
     "output_type": "stream",
     "text": [
      "[  5000] AB_loss: 0.0168 E_loss: 0.9023 Elapsed Time: 00:05:19\n"
     ]
    },
    {
     "name": "stdout",
     "output_type": "stream",
     "text": [
      "[1 -   7500] CE_loss: 0.8385 Elapsed Time: 00:02:14\n"
     ]
    },
    {
     "name": "stdout",
     "output_type": "stream",
     "text": [
      "[1 -  15000] CE_loss: 0.8281 Elapsed Time: 00:04:29\n"
     ]
    },
    {
     "name": "stdout",
     "output_type": "stream",
     "text": [
      "[2 -   7500] CE_loss: 0.8341 Elapsed Time: 00:02:14\n"
     ]
    },
    {
     "name": "stdout",
     "output_type": "stream",
     "text": [
      "[2 -  15000] CE_loss: 0.8240 Elapsed Time: 00:04:28\n"
     ]
    },
    {
     "name": "stdout",
     "output_type": "stream",
     "text": [
      "[3 -   7500] CE_loss: 0.8174 Elapsed Time: 00:02:14\n"
     ]
    },
    {
     "name": "stdout",
     "output_type": "stream",
     "text": [
      "[3 -  15000] CE_loss: 0.8126 Elapsed Time: 00:04:29\n"
     ]
    },
    {
     "name": "stdout",
     "output_type": "stream",
     "text": [
      "[4 -   7500] CE_loss: 0.8100 Elapsed Time: 00:02:14\n"
     ]
    },
    {
     "name": "stdout",
     "output_type": "stream",
     "text": [
      "[4 -  15000] CE_loss: 0.8095 Elapsed Time: 00:04:28\n"
     ]
    },
    {
     "name": "stdout",
     "output_type": "stream",
     "text": [
      "[5 -   7500] CE_loss: 0.8350 Elapsed Time: 00:02:14\n"
     ]
    },
    {
     "name": "stdout",
     "output_type": "stream",
     "text": [
      "[5 -  15000] CE_loss: 0.8305 Elapsed Time: 00:04:29\n",
      "[N: 2] AB_loss: 0.0083 E_loss: 0.8095 Elapsed Time: 00:53:10\n"
     ]
    },
    {
     "name": "stdout",
     "output_type": "stream",
     "text": [
      "[  5000] AB_loss: 0.0243 E_loss: 0.8825 Elapsed Time: 00:05:19\n"
     ]
    },
    {
     "name": "stdout",
     "output_type": "stream",
     "text": [
      "[1 -   7500] CE_loss: 0.8439 Elapsed Time: 00:02:14\n"
     ]
    },
    {
     "name": "stdout",
     "output_type": "stream",
     "text": [
      "[1 -  15000] CE_loss: 0.8462 Elapsed Time: 00:04:29\n"
     ]
    },
    {
     "name": "stdout",
     "output_type": "stream",
     "text": [
      "[2 -   7500] CE_loss: 0.8326 Elapsed Time: 00:02:14\n"
     ]
    },
    {
     "name": "stdout",
     "output_type": "stream",
     "text": [
      "[2 -  15000] CE_loss: 0.8256 Elapsed Time: 00:04:28\n"
     ]
    },
    {
     "name": "stdout",
     "output_type": "stream",
     "text": [
      "[3 -   7500] CE_loss: 0.8218 Elapsed Time: 00:02:14\n"
     ]
    },
    {
     "name": "stdout",
     "output_type": "stream",
     "text": [
      "[3 -  15000] CE_loss: 0.8305 Elapsed Time: 00:04:29\n"
     ]
    },
    {
     "name": "stdout",
     "output_type": "stream",
     "text": [
      "[4 -   7500] CE_loss: 0.8272 Elapsed Time: 00:02:14\n"
     ]
    },
    {
     "name": "stdout",
     "output_type": "stream",
     "text": [
      "[4 -  15000] CE_loss: 0.8285 Elapsed Time: 00:04:29\n"
     ]
    },
    {
     "name": "stdout",
     "output_type": "stream",
     "text": [
      "[5 -   7500] CE_loss: 0.8421 Elapsed Time: 00:02:14\n"
     ]
    },
    {
     "name": "stdout",
     "output_type": "stream",
     "text": [
      "[5 -  15000] CE_loss: 0.8354 Elapsed Time: 00:04:29\n",
      "[N: 3] AB_loss: 0.0076 E_loss: 0.8256 Elapsed Time: 01:22:26\n"
     ]
    },
    {
     "name": "stdout",
     "output_type": "stream",
     "text": [
      "[  5000] AB_loss: 0.5181 E_loss: 0.6630 Elapsed Time: 00:05:19\n"
     ]
    },
    {
     "name": "stdout",
     "output_type": "stream",
     "text": [
      "[ 10000] AB_loss: 0.0365 E_loss: 0.9340 Elapsed Time: 00:10:39\n"
     ]
    },
    {
     "name": "stdout",
     "output_type": "stream",
     "text": [
      "[1 -   7500] CE_loss: 0.8252 Elapsed Time: 00:02:14\n"
     ]
    },
    {
     "name": "stdout",
     "output_type": "stream",
     "text": [
      "[1 -  15000] CE_loss: 0.8134 Elapsed Time: 00:04:28\n"
     ]
    },
    {
     "name": "stdout",
     "output_type": "stream",
     "text": [
      "[2 -   7500] CE_loss: 0.8448 Elapsed Time: 00:02:14\n"
     ]
    },
    {
     "name": "stdout",
     "output_type": "stream",
     "text": [
      "[2 -  15000] CE_loss: 0.8405 Elapsed Time: 00:04:29\n"
     ]
    },
    {
     "name": "stdout",
     "output_type": "stream",
     "text": [
      "[3 -   7500] CE_loss: 0.8425 Elapsed Time: 00:02:14\n"
     ]
    },
    {
     "name": "stdout",
     "output_type": "stream",
     "text": [
      "[3 -  15000] CE_loss: 0.8330 Elapsed Time: 00:04:29\n"
     ]
    },
    {
     "name": "stdout",
     "output_type": "stream",
     "text": [
      "[4 -   7500] CE_loss: 0.8265 Elapsed Time: 00:02:14\n"
     ]
    },
    {
     "name": "stdout",
     "output_type": "stream",
     "text": [
      "[4 -  15000] CE_loss: 0.8191 Elapsed Time: 00:04:29\n"
     ]
    },
    {
     "name": "stdout",
     "output_type": "stream",
     "text": [
      "[5 -   7500] CE_loss: 0.8269 Elapsed Time: 00:02:14\n"
     ]
    },
    {
     "name": "stdout",
     "output_type": "stream",
     "text": [
      "[5 -  15000] CE_loss: 0.8220 Elapsed Time: 00:04:29\n",
      "[N: 4] AB_loss: 0.0049 E_loss: 0.8134 Elapsed Time: 01:57:35\n"
     ]
    },
    {
     "name": "stdout",
     "output_type": "stream",
     "text": [
      "[  5000] AB_loss: 0.0077 E_loss: 0.9277 Elapsed Time: 00:05:19\n"
     ]
    },
    {
     "name": "stdout",
     "output_type": "stream",
     "text": [
      "[1 -   7500] CE_loss: 0.7881 Elapsed Time: 00:02:14\n"
     ]
    },
    {
     "name": "stdout",
     "output_type": "stream",
     "text": [
      "[1 -  15000] CE_loss: 0.7850 Elapsed Time: 00:04:28\n"
     ]
    },
    {
     "name": "stdout",
     "output_type": "stream",
     "text": [
      "[2 -   7500] CE_loss: 0.8155 Elapsed Time: 00:02:14\n"
     ]
    },
    {
     "name": "stdout",
     "output_type": "stream",
     "text": [
      "[2 -  15000] CE_loss: 0.8101 Elapsed Time: 00:04:29\n"
     ]
    },
    {
     "name": "stdout",
     "output_type": "stream",
     "text": [
      "[3 -   7500] CE_loss: 0.7843 Elapsed Time: 00:02:14\n"
     ]
    },
    {
     "name": "stdout",
     "output_type": "stream",
     "text": [
      "[3 -  15000] CE_loss: 0.7786 Elapsed Time: 00:04:29\n"
     ]
    },
    {
     "name": "stdout",
     "output_type": "stream",
     "text": [
      "[4 -   7500] CE_loss: 0.7939 Elapsed Time: 00:02:14\n"
     ]
    },
    {
     "name": "stdout",
     "output_type": "stream",
     "text": [
      "[4 -  15000] CE_loss: 0.7927 Elapsed Time: 00:04:28\n"
     ]
    },
    {
     "name": "stdout",
     "output_type": "stream",
     "text": [
      "[5 -   7500] CE_loss: 0.7988 Elapsed Time: 00:02:14\n"
     ]
    },
    {
     "name": "stdout",
     "output_type": "stream",
     "text": [
      "[5 -  15000] CE_loss: 0.7872 Elapsed Time: 00:04:28\n",
      "[N: 5] AB_loss: 0.0082 E_loss: 0.7786 Elapsed Time: 02:25:21\n"
     ]
    },
    {
     "name": "stdout",
     "output_type": "stream",
     "text": [
      "[  5000] AB_loss: 0.0696 E_loss: 0.8080 Elapsed Time: 00:05:19\n"
     ]
    },
    {
     "name": "stdout",
     "output_type": "stream",
     "text": [
      "[1 -   7500] CE_loss: 0.8556 Elapsed Time: 00:02:14\n"
     ]
    },
    {
     "name": "stdout",
     "output_type": "stream",
     "text": [
      "[1 -  15000] CE_loss: 0.8540 Elapsed Time: 00:04:28\n"
     ]
    },
    {
     "name": "stdout",
     "output_type": "stream",
     "text": [
      "[2 -   7500] CE_loss: 0.8455 Elapsed Time: 00:02:14\n"
     ]
    },
    {
     "name": "stdout",
     "output_type": "stream",
     "text": [
      "[2 -  15000] CE_loss: 0.8446 Elapsed Time: 00:04:29\n"
     ]
    },
    {
     "name": "stdout",
     "output_type": "stream",
     "text": [
      "[3 -   7500] CE_loss: 0.8411 Elapsed Time: 00:02:14\n"
     ]
    },
    {
     "name": "stdout",
     "output_type": "stream",
     "text": [
      "[3 -  15000] CE_loss: 0.8404 Elapsed Time: 00:04:28\n"
     ]
    },
    {
     "name": "stdout",
     "output_type": "stream",
     "text": [
      "[4 -   7500] CE_loss: 0.8434 Elapsed Time: 00:02:14\n"
     ]
    },
    {
     "name": "stdout",
     "output_type": "stream",
     "text": [
      "[4 -  15000] CE_loss: 0.8338 Elapsed Time: 00:04:29\n"
     ]
    },
    {
     "name": "stdout",
     "output_type": "stream",
     "text": [
      "[5 -   7500] CE_loss: 0.8227 Elapsed Time: 00:02:14\n"
     ]
    },
    {
     "name": "stdout",
     "output_type": "stream",
     "text": [
      "[5 -  15000] CE_loss: 0.8280 Elapsed Time: 00:04:28\n",
      "[N: 6] AB_loss: 0.0078 E_loss: 0.8280 Elapsed Time: 02:56:04\n"
     ]
    },
    {
     "name": "stdout",
     "output_type": "stream",
     "text": [
      "[  5000] AB_loss: 0.0409 E_loss: 0.8408 Elapsed Time: 00:05:19\n"
     ]
    },
    {
     "name": "stdout",
     "output_type": "stream",
     "text": [
      "[1 -   7500] CE_loss: 0.8343 Elapsed Time: 00:02:14\n"
     ]
    },
    {
     "name": "stdout",
     "output_type": "stream",
     "text": [
      "[1 -  15000] CE_loss: 0.8343 Elapsed Time: 00:04:28\n"
     ]
    },
    {
     "name": "stdout",
     "output_type": "stream",
     "text": [
      "[2 -   7500] CE_loss: 0.8461 Elapsed Time: 00:02:14\n"
     ]
    },
    {
     "name": "stdout",
     "output_type": "stream",
     "text": [
      "[2 -  15000] CE_loss: 0.8390 Elapsed Time: 00:04:29\n"
     ]
    },
    {
     "name": "stdout",
     "output_type": "stream",
     "text": [
      "[3 -   7500] CE_loss: 0.8446 Elapsed Time: 00:02:14\n"
     ]
    },
    {
     "name": "stdout",
     "output_type": "stream",
     "text": [
      "[3 -  15000] CE_loss: 0.8365 Elapsed Time: 00:04:29\n"
     ]
    },
    {
     "name": "stdout",
     "output_type": "stream",
     "text": [
      "[4 -   7500] CE_loss: 0.8300 Elapsed Time: 00:02:14\n"
     ]
    },
    {
     "name": "stdout",
     "output_type": "stream",
     "text": [
      "[4 -  15000] CE_loss: 0.8288 Elapsed Time: 00:04:29\n"
     ]
    },
    {
     "name": "stdout",
     "output_type": "stream",
     "text": [
      "[5 -   7500] CE_loss: 0.8426 Elapsed Time: 00:02:14\n"
     ]
    },
    {
     "name": "stdout",
     "output_type": "stream",
     "text": [
      "[5 -  15000] CE_loss: 0.8343 Elapsed Time: 00:04:28\n",
      "[N: 7] AB_loss: 0.0082 E_loss: 0.8288 Elapsed Time: 03:27:15\n"
     ]
    },
    {
     "name": "stdout",
     "output_type": "stream",
     "text": [
      "[  5000] AB_loss: 0.0502 E_loss: 0.8841 Elapsed Time: 00:05:19\n"
     ]
    },
    {
     "name": "stdout",
     "output_type": "stream",
     "text": [
      "[ 10000] AB_loss: 0.0361 E_loss: 0.9535 Elapsed Time: 00:09:47\n"
     ]
    },
    {
     "name": "stdout",
     "output_type": "stream",
     "text": [
      "[ 15000] AB_loss: 0.0332 E_loss: 0.9631 Elapsed Time: 00:12:39\n"
     ]
    },
    {
     "name": "stdout",
     "output_type": "stream",
     "text": [
      "[1 -   7500] CE_loss: 0.8767 Elapsed Time: 00:01:14\n"
     ]
    },
    {
     "name": "stdout",
     "output_type": "stream",
     "text": [
      "[1 -  15000] CE_loss: 0.8770 Elapsed Time: 00:02:28\n"
     ]
    },
    {
     "name": "stdout",
     "output_type": "stream",
     "text": [
      "[2 -   7500] CE_loss: 0.8746 Elapsed Time: 00:01:14\n"
     ]
    },
    {
     "name": "stdout",
     "output_type": "stream",
     "text": [
      "[2 -  15000] CE_loss: 0.8791 Elapsed Time: 00:03:07\n"
     ]
    },
    {
     "name": "stdout",
     "output_type": "stream",
     "text": [
      "[3 -   7500] CE_loss: 0.8850 Elapsed Time: 00:02:11\n"
     ]
    },
    {
     "name": "stdout",
     "output_type": "stream",
     "text": [
      "[3 -  15000] CE_loss: 0.8757 Elapsed Time: 00:04:23\n"
     ]
    },
    {
     "name": "stdout",
     "output_type": "stream",
     "text": [
      "[4 -   7500] CE_loss: 0.8787 Elapsed Time: 00:02:11\n"
     ]
    },
    {
     "name": "stdout",
     "output_type": "stream",
     "text": [
      "[4 -  15000] CE_loss: 0.8696 Elapsed Time: 00:04:22\n"
     ]
    },
    {
     "name": "stdout",
     "output_type": "stream",
     "text": [
      "[5 -   7500] CE_loss: 0.8865 Elapsed Time: 00:02:11\n"
     ]
    },
    {
     "name": "stdout",
     "output_type": "stream",
     "text": [
      "[5 -  15000] CE_loss: 0.8882 Elapsed Time: 00:04:22\n",
      "[N: 8] AB_loss: 0.0332 E_loss: 0.8696 Elapsed Time: 03:58:39\n"
     ]
    },
    {
     "name": "stdout",
     "output_type": "stream",
     "text": [
      "[  5000] AB_loss: 0.0149 E_loss: 0.9152 Elapsed Time: 00:03:32\n"
     ]
    },
    {
     "name": "stdout",
     "output_type": "stream",
     "text": [
      "[1 -   7500] CE_loss: 0.8514 Elapsed Time: 00:01:14\n"
     ]
    },
    {
     "name": "stdout",
     "output_type": "stream",
     "text": [
      "[1 -  15000] CE_loss: 0.8371 Elapsed Time: 00:02:28\n"
     ]
    },
    {
     "name": "stdout",
     "output_type": "stream",
     "text": [
      "[2 -   7500] CE_loss: 0.8628 Elapsed Time: 00:01:14\n"
     ]
    },
    {
     "name": "stdout",
     "output_type": "stream",
     "text": [
      "[2 -  15000] CE_loss: 0.8617 Elapsed Time: 00:02:28\n"
     ]
    },
    {
     "name": "stdout",
     "output_type": "stream",
     "text": [
      "[3 -   7500] CE_loss: 0.8429 Elapsed Time: 00:01:14\n"
     ]
    },
    {
     "name": "stdout",
     "output_type": "stream",
     "text": [
      "[3 -  15000] CE_loss: 0.8419 Elapsed Time: 00:02:28\n"
     ]
    },
    {
     "name": "stdout",
     "output_type": "stream",
     "text": [
      "[4 -   7500] CE_loss: 0.8644 Elapsed Time: 00:01:14\n"
     ]
    },
    {
     "name": "stdout",
     "output_type": "stream",
     "text": [
      "[4 -  15000] CE_loss: 0.8598 Elapsed Time: 00:02:28\n"
     ]
    },
    {
     "name": "stdout",
     "output_type": "stream",
     "text": [
      "[5 -   7500] CE_loss: 0.8598 Elapsed Time: 00:01:14\n"
     ]
    },
    {
     "name": "stdout",
     "output_type": "stream",
     "text": [
      "[5 -  15000] CE_loss: 0.8565 Elapsed Time: 00:02:28\n",
      "[N: 9] AB_loss: 0.0089 E_loss: 0.8371 Elapsed Time: 04:15:15\n"
     ]
    },
    {
     "name": "stdout",
     "output_type": "stream",
     "text": [
      "[  5000] AB_loss: 0.0774 E_loss: 0.9123 Elapsed Time: 00:02:52\n"
     ]
    },
    {
     "name": "stdout",
     "output_type": "stream",
     "text": [
      "[ 10000] AB_loss: 0.0649 E_loss: 0.9636 Elapsed Time: 00:05:44\n"
     ]
    },
    {
     "name": "stdout",
     "output_type": "stream",
     "text": [
      "[ 15000] AB_loss: 0.0631 E_loss: 0.9643 Elapsed Time: 00:08:36\n"
     ]
    },
    {
     "name": "stdout",
     "output_type": "stream",
     "text": [
      "[1 -   7500] CE_loss: 0.9261 Elapsed Time: 00:01:14\n"
     ]
    },
    {
     "name": "stdout",
     "output_type": "stream",
     "text": [
      "[1 -  15000] CE_loss: 0.9283 Elapsed Time: 00:02:28\n"
     ]
    },
    {
     "name": "stdout",
     "output_type": "stream",
     "text": [
      "[2 -   7500] CE_loss: 0.9090 Elapsed Time: 00:01:14\n"
     ]
    },
    {
     "name": "stdout",
     "output_type": "stream",
     "text": [
      "[2 -  15000] CE_loss: 0.8893 Elapsed Time: 00:02:28\n"
     ]
    },
    {
     "name": "stdout",
     "output_type": "stream",
     "text": [
      "[3 -   7500] CE_loss: 0.9352 Elapsed Time: 00:01:14\n"
     ]
    },
    {
     "name": "stdout",
     "output_type": "stream",
     "text": [
      "[3 -  15000] CE_loss: 0.9162 Elapsed Time: 00:02:28\n"
     ]
    },
    {
     "name": "stdout",
     "output_type": "stream",
     "text": [
      "[4 -   7500] CE_loss: 0.9264 Elapsed Time: 00:01:14\n"
     ]
    },
    {
     "name": "stdout",
     "output_type": "stream",
     "text": [
      "[4 -  15000] CE_loss: 0.8901 Elapsed Time: 00:02:28\n"
     ]
    },
    {
     "name": "stdout",
     "output_type": "stream",
     "text": [
      "[5 -   7500] CE_loss: 0.9211 Elapsed Time: 00:01:14\n"
     ]
    },
    {
     "name": "stdout",
     "output_type": "stream",
     "text": [
      "[5 -  15000] CE_loss: 0.8976 Elapsed Time: 00:02:29\n",
      "[N: 10] AB_loss: 0.0631 E_loss: 0.8893 Elapsed Time: 04:36:16\n"
     ]
    },
    {
     "ename": "NameError",
     "evalue": "name 'plot_best_eves' is not defined",
     "output_type": "error",
     "traceback": [
      "\u001b[0;31m---------------------------------------------------------------------------\u001b[0m",
      "\u001b[0;31mNameError\u001b[0m                                 Traceback (most recent call last)",
      "\u001b[0;32m<ipython-input-15-060860679f69>\u001b[0m in \u001b[0;36m<module>\u001b[0;34m\u001b[0m\n\u001b[1;32m      1\u001b[0m \u001b[0m_\u001b[0m\u001b[0;34m,\u001b[0m \u001b[0m_\u001b[0m\u001b[0;34m,\u001b[0m \u001b[0mAB_rec_1\u001b[0m\u001b[0;34m,\u001b[0m \u001b[0mBE_rec_1\u001b[0m \u001b[0;34m=\u001b[0m \u001b[0mvalidate\u001b[0m\u001b[0;34m(\u001b[0m\u001b[0mnum_times\u001b[0m\u001b[0;34m=\u001b[0m\u001b[0;36m10\u001b[0m\u001b[0;34m,\u001b[0m \u001b[0mretries\u001b[0m\u001b[0;34m=\u001b[0m\u001b[0;36m5\u001b[0m\u001b[0;34m,\u001b[0m \u001b[0mmax_iter_abe\u001b[0m\u001b[0;34m=\u001b[0m\u001b[0;36m15000\u001b[0m\u001b[0;34m,\u001b[0m \u001b[0mmax_iter_e\u001b[0m\u001b[0;34m=\u001b[0m\u001b[0;36m15000\u001b[0m\u001b[0;34m)\u001b[0m\u001b[0;34m\u001b[0m\u001b[0;34m\u001b[0m\u001b[0m\n\u001b[0;32m----> 2\u001b[0;31m \u001b[0mplot_best_eves\u001b[0m\u001b[0;34m(\u001b[0m\u001b[0mAB_rec_1\u001b[0m\u001b[0;34m,\u001b[0m \u001b[0mBE_rec_1\u001b[0m\u001b[0;34m)\u001b[0m\u001b[0;34m\u001b[0m\u001b[0;34m\u001b[0m\u001b[0m\n\u001b[0m",
      "\u001b[0;31mNameError\u001b[0m: name 'plot_best_eves' is not defined"
     ]
    }
   ],
   "source": [
    "_, _, AB_rec_1, BE_rec_1 = validate(num_times=10, retries=5, max_iter_abe=15000, max_iter_e=15000)\n"
   ]
  },
  {
   "cell_type": "code",
   "execution_count": 17,
   "metadata": {
    "autoscroll": false,
    "collapsed": false,
    "ein.hycell": false,
    "ein.tags": "worksheet-0",
    "slideshow": {
     "slide_type": "-"
    }
   },
   "outputs": [
    {
     "data": {
      "image/png": "[encoded data removed]",
      "text/plain": [
       "<Figure size 1008x576 with 1 Axes>"
      ]
     },
     "metadata": {},
     "output_type": "display_data"
    }
   ],
   "source": [
    "plot_best_eves(AB_rec_1, BE_rec_1)"
   ]
  }
 ],
 "metadata": {
  "kernelspec": {
   "argv": [
    "python",
    "-m",
    "ipykernel_launcher",
    "-f",
    "{connection_file}"
   ],
   "display_name": "Python 3",
   "env": null,
   "interrupt_mode": "signal",
   "language": "python",
   "metadata": null,
   "name": "python3"
  },
  "language_info": {
   "codemirror_mode": {
    "name": "ipython",
    "version": 3
   },
   "file_extension": ".py",
   "mimetype": "text/x-python",
   "name": "python",
   "nbconvert_exporter": "python",
   "pygments_lexer": "ipython3",
   "version": "3.7.4"
  },
  "name": "symmetric_encryption.ipynb"
 },
 "nbformat": 4,
 "nbformat_minor": 4
}
