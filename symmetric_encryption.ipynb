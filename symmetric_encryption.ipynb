{
 "cells": [
  {
   "cell_type": "code",
   "execution_count": 1,
   "metadata": {
    "autoscroll": false,
    "collapsed": false,
    "ein.hycell": false,
    "ein.tags": "worksheet-0",
    "jupyter": {
     "outputs_hidden": false
    },
    "slideshow": {
     "slide_type": "-"
    }
   },
   "outputs": [],
   "source": [
    "import torch\n",
    "import torch.nn as nn\n",
    "import torch.nn.functional as F\n",
    "import torch.optim as optim\n",
    "\n",
    "import matplotlib.pyplot as plt\n",
    "import numpy as np"
   ]
  },
  {
   "cell_type": "code",
   "execution_count": 2,
   "metadata": {
    "autoscroll": false,
    "collapsed": false,
    "ein.hycell": false,
    "ein.tags": "worksheet-0",
    "jupyter": {
     "outputs_hidden": false
    },
    "slideshow": {
     "slide_type": "-"
    }
   },
   "outputs": [],
   "source": [
    "class ABENet(nn.Module):\n",
    "    def __init__(self, N, has_key=True):\n",
    "        super(ABENet, self).__init__()\n",
    "        self.N = N\n",
    "        \n",
    "        self.fc    = nn.Linear(in_features=2*N if has_key else N, out_features=2*N)\n",
    "        self.conv1 = nn.Conv1d(kernel_size=4, in_channels=1, out_channels=2, stride=1, padding=2)\n",
    "        self.conv2 = nn.Conv1d(kernel_size=2, in_channels=2, out_channels=4, stride=2)\n",
    "        self.conv3 = nn.Conv1d(kernel_size=1, in_channels=4, out_channels=4, stride=1)\n",
    "        self.conv4 = nn.Conv1d(kernel_size=1, in_channels=4, out_channels=1, stride=1)\n",
    "\n",
    "    def forward(self, x):\n",
    "        x = torch.sigmoid( self.fc(x) )\n",
    "        x = x.view(-1, 1, 2*self.N)\n",
    "        x = torch.sigmoid( self.conv1(x) )\n",
    "        x = torch.sigmoid( self.conv2(x) )\n",
    "        x = torch.sigmoid( self.conv3(x) )\n",
    "        x = torch.tanh(    self.conv4(x) )\n",
    "        x = x.view(-1, self.N)\n",
    "        return x"
   ]
  },
  {
   "cell_type": "code",
   "execution_count": 3,
   "metadata": {
    "autoscroll": false,
    "collapsed": false,
    "ein.hycell": false,
    "ein.tags": "worksheet-0",
    "jupyter": {
     "outputs_hidden": false
    },
    "slideshow": {
     "slide_type": "-"
    }
   },
   "outputs": [
    {
     "data": {
      "text/plain": [
       "device(type='cuda', index=0)"
      ]
     },
     "execution_count": 3,
     "metadata": {},
     "output_type": "execute_result"
    }
   ],
   "source": [
    "DEVICE = torch.device(\"cuda:0\" if torch.cuda.is_available() else \"cpu\")\n",
    "DEVICE"
   ]
  },
  {
   "cell_type": "code",
   "execution_count": 26,
   "metadata": {
    "autoscroll": false,
    "collapsed": false,
    "ein.hycell": false,
    "ein.tags": "worksheet-0",
    "jupyter": {
     "outputs_hidden": false
    },
    "slideshow": {
     "slide_type": "-"
    }
   },
   "outputs": [],
   "source": [
    "N = 16 # [16, 32, 64]\n",
    "Alphabet = [-1, 1]\n",
    "minibatch_size = 4096 # [256..4096]\n",
    "A = ABENet(N, has_key=True).to(DEVICE)\n",
    "B = ABENet(N, has_key=True).to(DEVICE)\n",
    "E = ABENet(N, has_key=False).to(DEVICE)"
   ]
  },
  {
   "cell_type": "code",
   "execution_count": 27,
   "metadata": {
    "autoscroll": false,
    "collapsed": false,
    "ein.hycell": false,
    "ein.tags": "worksheet-0",
    "jupyter": {
     "outputs_hidden": false
    },
    "slideshow": {
     "slide_type": "-"
    }
   },
   "outputs": [],
   "source": [
    "#l1_norm = lambda P1, P: torch.mean( torch.sum( torch.abs(P1 - P), dim=1 ), dim=0 ) # mean of batch\n",
    "l1_norm = nn.L1Loss()\n",
    "loss_eve = l1_norm\n",
    "loss_bob = l1_norm\n",
    "#loss_alicebob = lambda P_bob, P_eve, P: loss_bob(P_bob, P) + (((N/2 - loss_eve(P_eve, P))**2) / ((N/2)**2))\n",
    "loss_alicebob = lambda P_bob, P_eve, P: loss_bob(P_bob, P) + (((1.0 - loss_eve(P_eve, P))**2))"
   ]
  },
  {
   "cell_type": "code",
   "execution_count": 28,
   "metadata": {
    "autoscroll": false,
    "collapsed": false,
    "ein.hycell": false,
    "ein.tags": "worksheet-0",
    "jupyter": {
     "outputs_hidden": false
    },
    "slideshow": {
     "slide_type": "-"
    }
   },
   "outputs": [],
   "source": [
    "A_optimizer = optim.Adam(A.parameters(), lr=0.0008)\n",
    "B_optimizer = optim.Adam(B.parameters(), lr=0.0008)\n",
    "E_optimizer = optim.Adam(E.parameters(), lr=0.0008)"
   ]
  },
  {
   "cell_type": "code",
   "execution_count": 29,
   "metadata": {
    "autoscroll": false,
    "collapsed": false,
    "ein.hycell": false,
    "ein.tags": "worksheet-0",
    "jupyter": {
     "outputs_hidden": false
    },
    "slideshow": {
     "slide_type": "-"
    }
   },
   "outputs": [
    {
     "name": "stdout",
     "output_type": "stream",
     "text": [
      "[  1000] AB_loss: 1.0022 E_loss: 0.9865\n"
     ]
    },
    {
     "name": "stdout",
     "output_type": "stream",
     "text": [
      "[  2000] AB_loss: 0.9279 E_loss: 0.9504\n"
     ]
    },
    {
     "name": "stdout",
     "output_type": "stream",
     "text": [
      "[  3000] AB_loss: 0.1135 E_loss: 0.7505\n"
     ]
    },
    {
     "name": "stdout",
     "output_type": "stream",
     "text": [
      "[  4000] AB_loss: 0.0354 E_loss: 0.8569\n"
     ]
    },
    {
     "name": "stdout",
     "output_type": "stream",
     "text": [
      "[  5000] AB_loss: 0.0158 E_loss: 0.8945\n"
     ]
    },
    {
     "name": "stdout",
     "output_type": "stream",
     "text": [
      "[  6000] AB_loss: 0.0083 E_loss: 0.9223\n"
     ]
    }
   ],
   "source": [
    "max_iter = 150000\n",
    "ABs = []\n",
    "Es = []\n",
    "\n",
    "A.train()\n",
    "B.train()\n",
    "E.train()\n",
    "\n",
    "for ic in range(max_iter):\n",
    "    for who, num_minibatches in [('AB', 1), ('E', 2)]:\n",
    "        for _ in range(num_minibatches):\n",
    "            P = torch.randint(low=0, high=2, size=(minibatch_size,N), dtype=torch.float).to(DEVICE)*2-1\n",
    "            K = torch.randint(low=0, high=2, size=(minibatch_size,N), dtype=torch.float).to(DEVICE)*2-1 \n",
    "\n",
    "            C     = A(torch.cat((P, K), dim=1))\n",
    "            P_bob = B(torch.cat((C, K), dim=1))\n",
    "            P_eve = E(C)\n",
    "\n",
    "            if who == 'AB':\n",
    "                AB_loss = loss_alicebob(P_bob, P_eve, P)\n",
    "                \n",
    "                A_optimizer.zero_grad()\n",
    "                B_optimizer.zero_grad()\n",
    "                AB_loss.backward()\n",
    "                A_optimizer.step()\n",
    "                B_optimizer.step()\n",
    "                \n",
    "            elif who == 'E':\n",
    "                E_loss  = loss_eve(P_eve, P)\n",
    "\n",
    "                E_optimizer.zero_grad()\n",
    "                E_loss.backward()\n",
    "                E_optimizer.step()\n",
    "\n",
    "    if ic % 1000 == 999:\n",
    "        print(\"[{:6d}] AB_loss: {:2.4f} E_loss: {:2.4f}\".format(ic+1, AB_loss, E_loss))\n",
    "    ABs.append(AB_loss.item())\n",
    "    Es.append(E_loss.item())\n",
    "    if AB_loss < 0.005 and E_loss > 0.5: # AB_loss < 0.05 and E_loss > 2\n",
    "        break\n",
    "    "
   ]
  },
  {
   "cell_type": "code",
   "execution_count": 30,
   "metadata": {
    "autoscroll": false,
    "collapsed": false,
    "ein.hycell": false,
    "ein.tags": "worksheet-0",
    "jupyter": {
     "outputs_hidden": false
    },
    "slideshow": {
     "slide_type": "-"
    }
   },
   "outputs": [
    {
     "data": {
      "image/png": "[encoded data removed]",
      "text/plain": [
       "<Figure size 1008x576 with 1 Axes>"
      ]
     },
     "metadata": {},
     "output_type": "display_data"
    }
   ],
   "source": [
    "plt.figure(figsize=(14,8))\n",
    "plt.plot(range(1, len(ABs)+1), ABs, label='Alice/Bob')\n",
    "plt.plot(range(1, len(Es)+1), Es, label='Eve')\n",
    "plt.xlabel(\"Iteration\", fontsize=14)\n",
    "plt.ylabel(\"Loss\", fontsize=14)\n",
    "plt.legend(fontsize=14)\n",
    "plt.grid(True, which='both')\n",
    "plt.show()"
   ]
  },
  {
   "cell_type": "code",
   "execution_count": 31,
   "metadata": {
    "autoscroll": false,
    "collapsed": false,
    "ein.hycell": false,
    "ein.tags": "worksheet-0",
    "jupyter": {
     "outputs_hidden": false
    },
    "slideshow": {
     "slide_type": "-"
    }
   },
   "outputs": [
    {
     "name": "stdout",
     "output_type": "stream",
     "text": [
      "P:\n",
      " tensor([[-1.,  1.,  1., -1.,  1., -1.,  1.,  1.,  1.,  1., -1., -1.,  1., -1.,\n",
      "         -1.,  1.]])\n",
      "K:\n",
      " tensor([[ 1.,  1.,  1., -1., -1.,  1.,  1.,  1., -1., -1.,  1.,  1.,  1., -1.,\n",
      "          1., -1.]])\n",
      "A(P,K):\n",
      " tensor([[ 0.1902, -0.3510, -0.4928, -0.2155,  0.4302, -0.6774, -0.5870,  0.5898,\n",
      "          0.2071, -0.6020, -0.4697, -0.2597, -0.0156,  0.4494, -0.3809,  0.4661]])\n",
      "B(A(P, K), K):\n",
      " tensor([[-0.9900,  0.9971,  0.9980, -0.9989,  0.9988, -0.9989,  0.9987,  0.9975,\n",
      "          0.9996,  0.9989, -0.9993, -0.9987,  0.9890, -0.9992, -0.9991,  0.9999]])\n",
      "E(A(P, K)):\n",
      " tensor([[ 1.0000,  0.9999, -1.0000, -1.0000,  0.8455,  1.0000,  1.0000,  1.0000,\n",
      "          0.9964, -1.0000,  1.0000,  0.9999, -1.0000,  1.0000,  1.0000,  1.0000]])\n"
     ]
    }
   ],
   "source": [
    "with torch.no_grad():\n",
    "    P = torch.randint(low=0, high=2, size=(1,N), dtype=torch.float).to(DEVICE)*2-1\n",
    "    K = torch.randint(low=0, high=2, size=(1,N), dtype=torch.float).to(DEVICE)*2-1\n",
    "    C = A(torch.cat((P, K), dim=1))\n",
    "    D = B(torch.cat((C, K), dim=1))\n",
    "    F = E(C)\n",
    "    print (\"P:\\n\", P.cpu())\n",
    "    print (\"K:\\n\", K.cpu())\n",
    "    print (\"A(P,K):\\n\", C.cpu())\n",
    "    print (\"B(A(P, K), K):\\n\", D.cpu())\n",
    "    print (\"E(A(P, K)):\\n\", F.cpu())"
   ]
  },
  {
   "cell_type": "code",
   "execution_count": 32,
   "metadata": {
    "autoscroll": false,
    "collapsed": false,
    "ein.hycell": false,
    "ein.tags": "worksheet-0",
    "slideshow": {
     "slide_type": "-"
    }
   },
   "outputs": [
    {
     "name": "stdout",
     "output_type": "stream",
     "text": [
      "B: 99.9940\n",
      "E: 0.0020\n"
     ]
    }
   ],
   "source": [
    "with torch.no_grad():\n",
    "    TEST_SIZE = 50000\n",
    "    B_correct = 0\n",
    "    E_correct = 0\n",
    "        \n",
    "    for I in range(TEST_SIZE):\n",
    "        P = torch.randint(low=0, high=2, size=(1,N), dtype=torch.float).to(DEVICE)*2-1\n",
    "        K = torch.randint(low=0, high=2, size=(1,N), dtype=torch.float).to(DEVICE)*2-1\n",
    "        C   = A(torch.cat((P, K), dim=1))\n",
    "        P_b = B(torch.cat((C, K), dim=1))\n",
    "        P_e = E(C)\n",
    "        if torch.equal(P, P_b.round()): B_correct += 1\n",
    "        if torch.equal(P, P_e.round()): E_correct += 1\n",
    "    print (\"B: {:.4f}\".format(B_correct * 100 / TEST_SIZE))\n",
    "    print (\"E: {:.4f}\".format(E_correct * 100 / TEST_SIZE))\n"
   ]
  },
  {
   "cell_type": "code",
   "execution_count": 33,
   "metadata": {
    "autoscroll": false,
    "collapsed": false,
    "ein.hycell": false,
    "ein.tags": "worksheet-0",
    "slideshow": {
     "slide_type": "-"
    }
   },
   "outputs": [
    {
     "name": "stdout",
     "output_type": "stream",
     "text": [
      "[1 -  10000] CE_loss: 0.7761\n"
     ]
    },
    {
     "name": "stdout",
     "output_type": "stream",
     "text": [
      "[1 -  20000] CE_loss: 0.7720\n"
     ]
    },
    {
     "name": "stdout",
     "output_type": "stream",
     "text": [
      "[2 -  10000] CE_loss: 0.8069\n"
     ]
    },
    {
     "name": "stdout",
     "output_type": "stream",
     "text": [
      "[2 -  20000] CE_loss: 0.8117\n"
     ]
    },
    {
     "name": "stdout",
     "output_type": "stream",
     "text": [
      "[3 -  10000] CE_loss: 0.8139\n"
     ]
    },
    {
     "name": "stdout",
     "output_type": "stream",
     "text": [
      "[3 -  20000] CE_loss: 0.8075\n"
     ]
    },
    {
     "name": "stdout",
     "output_type": "stream",
     "text": [
      "[4 -  10000] CE_loss: 0.8145\n"
     ]
    },
    {
     "name": "stdout",
     "output_type": "stream",
     "text": [
      "[4 -  20000] CE_loss: 0.8087\n"
     ]
    },
    {
     "name": "stdout",
     "output_type": "stream",
     "text": [
      "[5 -  10000] CE_loss: 0.8004\n"
     ]
    },
    {
     "name": "stdout",
     "output_type": "stream",
     "text": [
      "[5 -  20000] CE_loss: 0.7937\n"
     ]
    }
   ],
   "source": [
    "retries = 5\n",
    "es_max_iter = 20000 #250000\n",
    "\n",
    "Best_E_loss = 10000\n",
    "Best_E = None\n",
    "\n",
    "for es in range(retries):\n",
    "    \n",
    "    CE = ABENet(N, has_key=False).to(DEVICE)\n",
    "    CE_optimizer = optim.Adam(CE.parameters(), lr=0.0008)\n",
    "    for ic in range(es_max_iter):\n",
    "        P = torch.randint(low=0, high=2, size=(minibatch_size,N), dtype=torch.float).to(DEVICE)*2-1\n",
    "        K = torch.randint(low=0, high=2, size=(minibatch_size,N), dtype=torch.float).to(DEVICE)*2-1 \n",
    "        C     = A(torch.cat((P, K), dim=1))\n",
    "        P_eve = CE(C)\n",
    "        CE_loss  = loss_eve(P_eve, P)\n",
    "        CE_optimizer.zero_grad()\n",
    "        CE_loss.backward()\n",
    "        CE_optimizer.step()\n",
    "        if ic % 10000 == 9999:\n",
    "            print(\"[{:d} - {:6d}] CE_loss: {:2.4f}\".format(es+1, ic+1, CE_loss))\n",
    "\n",
    "        if CE_loss <= 0.005:\n",
    "            print (\"Optimal E found!\")\n",
    "            break    \n",
    "            \n",
    "    if CE_loss.item() < Best_E_loss:\n",
    "        Best_E_loss = CE_loss.item()\n",
    "        Best_E = CE\n"
   ]
  }
 ],
 "metadata": {
  "kernelspec": {
   "argv": [
    "python",
    "-m",
    "ipykernel_launcher",
    "-f",
    "{connection_file}"
   ],
   "display_name": "Python 3",
   "env": null,
   "interrupt_mode": "signal",
   "language": "python",
   "metadata": null,
   "name": "python3"
  },
  "language_info": {
   "codemirror_mode": {
    "name": "ipython",
    "version": 3
   },
   "file_extension": ".py",
   "mimetype": "text/x-python",
   "name": "python",
   "nbconvert_exporter": "python",
   "pygments_lexer": "ipython3",
   "version": "3.7.4"
  },
  "name": "symmetric_encryption.ipynb"
 },
 "nbformat": 4,
 "nbformat_minor": 4
}
